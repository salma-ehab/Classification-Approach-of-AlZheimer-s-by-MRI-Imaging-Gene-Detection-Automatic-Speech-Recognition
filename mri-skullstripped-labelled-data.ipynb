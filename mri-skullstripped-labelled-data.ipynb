{
 "cells": [
  {
   "cell_type": "code",
   "execution_count": 1,
   "id": "edc6f13d",
   "metadata": {
    "execution": {
     "iopub.execute_input": "2023-02-01T19:43:46.267078Z",
     "iopub.status.busy": "2023-02-01T19:43:46.266263Z",
     "iopub.status.idle": "2023-02-01T19:44:01.021614Z",
     "shell.execute_reply": "2023-02-01T19:44:01.019660Z"
    },
    "papermill": {
     "duration": 14.777583,
     "end_time": "2023-02-01T19:44:01.024946",
     "exception": false,
     "start_time": "2023-02-01T19:43:46.247363",
     "status": "completed"
    },
    "tags": []
   },
   "outputs": [
    {
     "name": "stdout",
     "output_type": "stream",
     "text": [
      "Collecting tflearn\r\n",
      "  Downloading tflearn-0.5.0.tar.gz (107 kB)\r\n",
      "\u001b[2K     \u001b[90m━━━━━━━━━━━━━━━━━━━━━━━━━━━━━━━━━━━━━━━\u001b[0m \u001b[32m107.3/107.3 kB\u001b[0m \u001b[31m2.3 MB/s\u001b[0m eta \u001b[36m0:00:00\u001b[0m\r\n",
      "\u001b[?25h  Preparing metadata (setup.py) ... \u001b[?25l-\b \bdone\r\n",
      "\u001b[?25hRequirement already satisfied: numpy in /opt/conda/lib/python3.7/site-packages (from tflearn) (1.21.6)\r\n",
      "Requirement already satisfied: six in /opt/conda/lib/python3.7/site-packages (from tflearn) (1.15.0)\r\n",
      "Requirement already satisfied: Pillow in /opt/conda/lib/python3.7/site-packages (from tflearn) (9.1.1)\r\n",
      "Building wheels for collected packages: tflearn\r\n",
      "  Building wheel for tflearn (setup.py) ... \u001b[?25l-\b \b\\\b \b|\b \bdone\r\n",
      "\u001b[?25h  Created wheel for tflearn: filename=tflearn-0.5.0-py3-none-any.whl size=127299 sha256=a2e468250ec78deaa36c57de35d0a4e84393fcf03977c8a34a0e1b11fca7d07a\r\n",
      "  Stored in directory: /root/.cache/pip/wheels/5f/14/2e/1d8e28cc47a5a931a2fb82438c9e37ef9246cc6a3774520271\r\n",
      "Successfully built tflearn\r\n",
      "Installing collected packages: tflearn\r\n",
      "Successfully installed tflearn-0.5.0\r\n",
      "\u001b[33mWARNING: Running pip as the 'root' user can result in broken permissions and conflicting behaviour with the system package manager. It is recommended to use a virtual environment instead: https://pip.pypa.io/warnings/venv\u001b[0m\u001b[33m\r\n",
      "\u001b[0mNote: you may need to restart the kernel to use updated packages.\n"
     ]
    }
   ],
   "source": [
    "pip install tflearn"
   ]
  },
  {
   "cell_type": "code",
   "execution_count": 2,
   "id": "204612f7",
   "metadata": {
    "execution": {
     "iopub.execute_input": "2023-02-01T19:44:01.062239Z",
     "iopub.status.busy": "2023-02-01T19:44:01.061815Z",
     "iopub.status.idle": "2023-02-01T19:44:12.249981Z",
     "shell.execute_reply": "2023-02-01T19:44:12.248799Z"
    },
    "papermill": {
     "duration": 11.211231,
     "end_time": "2023-02-01T19:44:12.252947",
     "exception": false,
     "start_time": "2023-02-01T19:44:01.041716",
     "status": "completed"
    },
    "tags": []
   },
   "outputs": [],
   "source": [
    "from pathlib import Path\n",
    "import imageio\n",
    "import os\n",
    "from tqdm import tqdm\n",
    "import cv2\n",
    "import numpy as np\n",
    "from skimage import filters\n",
    "from keras.layers import Input,Dense,Flatten,Dropout,merge,Activation,LeakyReLU,Softmax\n",
    "from tensorflow.keras.layers import BatchNormalization,Conv3D,MaxPool3D, AveragePooling3D\n",
    "from keras.models import Model,Sequential,load_model\n",
    "from tensorflow.keras.optimizers import Adam\n",
    "from keras import activations\n",
    "from keras import regularizers\n",
    "import torch\n",
    "import torchvision.transforms as transforms\n",
    "#from vis.utils import utils\n",
    "import SimpleITK as sitk\n",
    "import tensorflow as tf\n",
    "import tflearn\n",
    "import nibabel as nib\n",
    "#from keras.utils import to_categorical\n",
    "#from vis.visualization import visualize_saliency, visualize_activation, visualize_cam\n",
    "#import keras_vis.visualization\n",
    "#import keras_vis as vis\n",
    "import seaborn as sns\n",
    "from matplotlib import pyplot as plt\n",
    "%matplotlib inline"
   ]
  },
  {
   "cell_type": "markdown",
   "id": "fe02882d",
   "metadata": {
    "papermill": {
     "duration": 0.015205,
     "end_time": "2023-02-01T19:44:12.284300",
     "exception": false,
     "start_time": "2023-02-01T19:44:12.269095",
     "status": "completed"
    },
    "tags": []
   },
   "source": [
    "# Load data"
   ]
  },
  {
   "cell_type": "code",
   "execution_count": 3,
   "id": "eef29941",
   "metadata": {
    "execution": {
     "iopub.execute_input": "2023-02-01T19:44:12.317101Z",
     "iopub.status.busy": "2023-02-01T19:44:12.316402Z",
     "iopub.status.idle": "2023-02-01T19:44:12.321999Z",
     "shell.execute_reply": "2023-02-01T19:44:12.320877Z"
    },
    "papermill": {
     "duration": 0.024592,
     "end_time": "2023-02-01T19:44:12.324231",
     "exception": false,
     "start_time": "2023-02-01T19:44:12.299639",
     "status": "completed"
    },
    "tags": []
   },
   "outputs": [],
   "source": [
    "#File of input, MRI Images\n",
    "image_path_CN=\"../input/300-reduced-adni-skull-stripped-labelled/newCN100\"\n",
    "image_path_MCI=\"../input/300-reduced-adni-skull-stripped-labelled/MCI\"\n",
    "image_path_AD=\"../input/300-reduced-adni-skull-stripped-labelled/newAD100\""
   ]
  },
  {
   "cell_type": "markdown",
   "id": "5eb4a662",
   "metadata": {
    "papermill": {
     "duration": 0.014866,
     "end_time": "2023-02-01T19:44:12.354482",
     "exception": false,
     "start_time": "2023-02-01T19:44:12.339616",
     "status": "completed"
    },
    "tags": []
   },
   "source": [
    "# Append images with their correct labels"
   ]
  },
  {
   "cell_type": "code",
   "execution_count": 4,
   "id": "1b473041",
   "metadata": {
    "execution": {
     "iopub.execute_input": "2023-02-01T19:44:12.387405Z",
     "iopub.status.busy": "2023-02-01T19:44:12.386273Z",
     "iopub.status.idle": "2023-02-01T19:47:11.974438Z",
     "shell.execute_reply": "2023-02-01T19:47:11.972836Z"
    },
    "papermill": {
     "duration": 179.60929,
     "end_time": "2023-02-01T19:47:11.978932",
     "exception": false,
     "start_time": "2023-02-01T19:44:12.369642",
     "status": "completed"
    },
    "tags": []
   },
   "outputs": [
    {
     "name": "stderr",
     "output_type": "stream",
     "text": [
      "100%|██████████| 100/100 [00:45<00:00,  2.18it/s]\n",
      "100%|██████████| 101/101 [00:56<00:00,  1.79it/s]\n",
      "100%|██████████| 96/96 [00:49<00:00,  1.94it/s]\n"
     ]
    },
    {
     "name": "stdout",
     "output_type": "stream",
     "text": [
      "['CN' 'CN' 'CN' 'CN' 'CN' 'CN' 'CN' 'CN' 'CN' 'CN' 'CN' 'CN' 'CN' 'CN'\n",
      " 'CN' 'CN' 'CN' 'CN' 'CN' 'CN' 'CN' 'CN' 'CN' 'CN' 'CN' 'CN' 'CN' 'CN'\n",
      " 'CN' 'CN' 'CN' 'CN' 'CN' 'CN' 'CN' 'CN' 'CN' 'CN' 'CN' 'CN' 'CN' 'CN'\n",
      " 'CN' 'CN' 'CN' 'CN' 'CN' 'CN' 'CN' 'CN' 'CN' 'CN' 'CN' 'CN' 'CN' 'CN'\n",
      " 'CN' 'CN' 'CN' 'CN' 'CN' 'CN' 'CN' 'CN' 'CN' 'CN' 'CN' 'CN' 'CN' 'CN'\n",
      " 'CN' 'CN' 'CN' 'CN' 'CN' 'CN' 'CN' 'CN' 'CN' 'CN' 'CN' 'CN' 'CN' 'CN'\n",
      " 'CN' 'CN' 'CN' 'CN' 'CN' 'CN' 'CN' 'CN' 'CN' 'CN' 'CN' 'CN' 'CN' 'CN'\n",
      " 'CN' 'CN' 'MCI' 'MCI' 'MCI' 'MCI' 'MCI' 'MCI' 'MCI' 'MCI' 'MCI' 'MCI'\n",
      " 'MCI' 'MCI' 'MCI' 'MCI' 'MCI' 'MCI' 'MCI' 'MCI' 'MCI' 'MCI' 'MCI' 'MCI'\n",
      " 'MCI' 'MCI' 'MCI' 'MCI' 'MCI' 'MCI' 'MCI' 'MCI' 'MCI' 'MCI' 'MCI' 'MCI'\n",
      " 'MCI' 'MCI' 'MCI' 'MCI' 'MCI' 'MCI' 'MCI' 'MCI' 'MCI' 'MCI' 'MCI' 'MCI'\n",
      " 'MCI' 'MCI' 'MCI' 'MCI' 'MCI' 'MCI' 'MCI' 'MCI' 'MCI' 'MCI' 'MCI' 'MCI'\n",
      " 'MCI' 'MCI' 'MCI' 'MCI' 'MCI' 'MCI' 'MCI' 'MCI' 'MCI' 'MCI' 'MCI' 'MCI'\n",
      " 'MCI' 'MCI' 'MCI' 'MCI' 'MCI' 'MCI' 'MCI' 'MCI' 'MCI' 'MCI' 'MCI' 'MCI'\n",
      " 'MCI' 'MCI' 'MCI' 'MCI' 'MCI' 'MCI' 'MCI' 'MCI' 'MCI' 'MCI' 'MCI' 'MCI'\n",
      " 'MCI' 'MCI' 'MCI' 'MCI' 'MCI' 'MCI' 'MCI' 'AD' 'AD' 'AD' 'AD' 'AD' 'AD'\n",
      " 'AD' 'AD' 'AD' 'AD' 'AD' 'AD' 'AD' 'AD' 'AD' 'AD' 'AD' 'AD' 'AD' 'AD'\n",
      " 'AD' 'AD' 'AD' 'AD' 'AD' 'AD' 'AD' 'AD' 'AD' 'AD' 'AD' 'AD' 'AD' 'AD'\n",
      " 'AD' 'AD' 'AD' 'AD' 'AD' 'AD' 'AD' 'AD' 'AD' 'AD' 'AD' 'AD' 'AD' 'AD'\n",
      " 'AD' 'AD' 'AD' 'AD' 'AD' 'AD' 'AD' 'AD' 'AD' 'AD' 'AD' 'AD' 'AD' 'AD'\n",
      " 'AD' 'AD' 'AD' 'AD' 'AD' 'AD' 'AD' 'AD' 'AD' 'AD' 'AD' 'AD' 'AD' 'AD'\n",
      " 'AD' 'AD' 'AD' 'AD' 'AD' 'AD' 'AD' 'AD' 'AD' 'AD' 'AD' 'AD' 'AD' 'AD'\n",
      " 'AD' 'AD' 'AD' 'AD' 'AD' 'AD']\n",
      "[[0. 1. 0.]\n",
      " [0. 1. 0.]\n",
      " [0. 1. 0.]\n",
      " [0. 1. 0.]\n",
      " [0. 1. 0.]\n",
      " [0. 1. 0.]\n",
      " [0. 1. 0.]\n",
      " [0. 1. 0.]\n",
      " [0. 1. 0.]\n",
      " [0. 1. 0.]\n",
      " [0. 1. 0.]\n",
      " [0. 1. 0.]\n",
      " [0. 1. 0.]\n",
      " [0. 1. 0.]\n",
      " [0. 1. 0.]\n",
      " [0. 1. 0.]\n",
      " [0. 1. 0.]\n",
      " [0. 1. 0.]\n",
      " [0. 1. 0.]\n",
      " [0. 1. 0.]\n",
      " [0. 1. 0.]\n",
      " [0. 1. 0.]\n",
      " [0. 1. 0.]\n",
      " [0. 1. 0.]\n",
      " [0. 1. 0.]\n",
      " [0. 1. 0.]\n",
      " [0. 1. 0.]\n",
      " [0. 1. 0.]\n",
      " [0. 1. 0.]\n",
      " [0. 1. 0.]\n",
      " [0. 1. 0.]\n",
      " [0. 1. 0.]\n",
      " [0. 1. 0.]\n",
      " [0. 1. 0.]\n",
      " [0. 1. 0.]\n",
      " [0. 1. 0.]\n",
      " [0. 1. 0.]\n",
      " [0. 1. 0.]\n",
      " [0. 1. 0.]\n",
      " [0. 1. 0.]\n",
      " [0. 1. 0.]\n",
      " [0. 1. 0.]\n",
      " [0. 1. 0.]\n",
      " [0. 1. 0.]\n",
      " [0. 1. 0.]\n",
      " [0. 1. 0.]\n",
      " [0. 1. 0.]\n",
      " [0. 1. 0.]\n",
      " [0. 1. 0.]\n",
      " [0. 1. 0.]\n",
      " [0. 1. 0.]\n",
      " [0. 1. 0.]\n",
      " [0. 1. 0.]\n",
      " [0. 1. 0.]\n",
      " [0. 1. 0.]\n",
      " [0. 1. 0.]\n",
      " [0. 1. 0.]\n",
      " [0. 1. 0.]\n",
      " [0. 1. 0.]\n",
      " [0. 1. 0.]\n",
      " [0. 1. 0.]\n",
      " [0. 1. 0.]\n",
      " [0. 1. 0.]\n",
      " [0. 1. 0.]\n",
      " [0. 1. 0.]\n",
      " [0. 1. 0.]\n",
      " [0. 1. 0.]\n",
      " [0. 1. 0.]\n",
      " [0. 1. 0.]\n",
      " [0. 1. 0.]\n",
      " [0. 1. 0.]\n",
      " [0. 1. 0.]\n",
      " [0. 1. 0.]\n",
      " [0. 1. 0.]\n",
      " [0. 1. 0.]\n",
      " [0. 1. 0.]\n",
      " [0. 1. 0.]\n",
      " [0. 1. 0.]\n",
      " [0. 1. 0.]\n",
      " [0. 1. 0.]\n",
      " [0. 1. 0.]\n",
      " [0. 1. 0.]\n",
      " [0. 1. 0.]\n",
      " [0. 1. 0.]\n",
      " [0. 1. 0.]\n",
      " [0. 1. 0.]\n",
      " [0. 1. 0.]\n",
      " [0. 1. 0.]\n",
      " [0. 1. 0.]\n",
      " [0. 1. 0.]\n",
      " [0. 1. 0.]\n",
      " [0. 1. 0.]\n",
      " [0. 1. 0.]\n",
      " [0. 1. 0.]\n",
      " [0. 1. 0.]\n",
      " [0. 1. 0.]\n",
      " [0. 1. 0.]\n",
      " [0. 1. 0.]\n",
      " [0. 1. 0.]\n",
      " [0. 1. 0.]\n",
      " [0. 0. 1.]\n",
      " [0. 0. 1.]\n",
      " [0. 0. 1.]\n",
      " [0. 0. 1.]\n",
      " [0. 0. 1.]\n",
      " [0. 0. 1.]\n",
      " [0. 0. 1.]\n",
      " [0. 0. 1.]\n",
      " [0. 0. 1.]\n",
      " [0. 0. 1.]\n",
      " [0. 0. 1.]\n",
      " [0. 0. 1.]\n",
      " [0. 0. 1.]\n",
      " [0. 0. 1.]\n",
      " [0. 0. 1.]\n",
      " [0. 0. 1.]\n",
      " [0. 0. 1.]\n",
      " [0. 0. 1.]\n",
      " [0. 0. 1.]\n",
      " [0. 0. 1.]\n",
      " [0. 0. 1.]\n",
      " [0. 0. 1.]\n",
      " [0. 0. 1.]\n",
      " [0. 0. 1.]\n",
      " [0. 0. 1.]\n",
      " [0. 0. 1.]\n",
      " [0. 0. 1.]\n",
      " [0. 0. 1.]\n",
      " [0. 0. 1.]\n",
      " [0. 0. 1.]\n",
      " [0. 0. 1.]\n",
      " [0. 0. 1.]\n",
      " [0. 0. 1.]\n",
      " [0. 0. 1.]\n",
      " [0. 0. 1.]\n",
      " [0. 0. 1.]\n",
      " [0. 0. 1.]\n",
      " [0. 0. 1.]\n",
      " [0. 0. 1.]\n",
      " [0. 0. 1.]\n",
      " [0. 0. 1.]\n",
      " [0. 0. 1.]\n",
      " [0. 0. 1.]\n",
      " [0. 0. 1.]\n",
      " [0. 0. 1.]\n",
      " [0. 0. 1.]\n",
      " [0. 0. 1.]\n",
      " [0. 0. 1.]\n",
      " [0. 0. 1.]\n",
      " [0. 0. 1.]\n",
      " [0. 0. 1.]\n",
      " [0. 0. 1.]\n",
      " [0. 0. 1.]\n",
      " [0. 0. 1.]\n",
      " [0. 0. 1.]\n",
      " [0. 0. 1.]\n",
      " [0. 0. 1.]\n",
      " [0. 0. 1.]\n",
      " [0. 0. 1.]\n",
      " [0. 0. 1.]\n",
      " [0. 0. 1.]\n",
      " [0. 0. 1.]\n",
      " [0. 0. 1.]\n",
      " [0. 0. 1.]\n",
      " [0. 0. 1.]\n",
      " [0. 0. 1.]\n",
      " [0. 0. 1.]\n",
      " [0. 0. 1.]\n",
      " [0. 0. 1.]\n",
      " [0. 0. 1.]\n",
      " [0. 0. 1.]\n",
      " [0. 0. 1.]\n",
      " [0. 0. 1.]\n",
      " [0. 0. 1.]\n",
      " [0. 0. 1.]\n",
      " [0. 0. 1.]\n",
      " [0. 0. 1.]\n",
      " [0. 0. 1.]\n",
      " [0. 0. 1.]\n",
      " [0. 0. 1.]\n",
      " [0. 0. 1.]\n",
      " [0. 0. 1.]\n",
      " [0. 0. 1.]\n",
      " [0. 0. 1.]\n",
      " [0. 0. 1.]\n",
      " [0. 0. 1.]\n",
      " [0. 0. 1.]\n",
      " [0. 0. 1.]\n",
      " [0. 0. 1.]\n",
      " [0. 0. 1.]\n",
      " [0. 0. 1.]\n",
      " [0. 0. 1.]\n",
      " [0. 0. 1.]\n",
      " [0. 0. 1.]\n",
      " [0. 0. 1.]\n",
      " [0. 0. 1.]\n",
      " [0. 0. 1.]\n",
      " [0. 0. 1.]\n",
      " [0. 0. 1.]\n",
      " [0. 0. 1.]\n",
      " [0. 0. 1.]\n",
      " [1. 0. 0.]\n",
      " [1. 0. 0.]\n",
      " [1. 0. 0.]\n",
      " [1. 0. 0.]\n",
      " [1. 0. 0.]\n",
      " [1. 0. 0.]\n",
      " [1. 0. 0.]\n",
      " [1. 0. 0.]\n",
      " [1. 0. 0.]\n",
      " [1. 0. 0.]\n",
      " [1. 0. 0.]\n",
      " [1. 0. 0.]\n",
      " [1. 0. 0.]\n",
      " [1. 0. 0.]\n",
      " [1. 0. 0.]\n",
      " [1. 0. 0.]\n",
      " [1. 0. 0.]\n",
      " [1. 0. 0.]\n",
      " [1. 0. 0.]\n",
      " [1. 0. 0.]\n",
      " [1. 0. 0.]\n",
      " [1. 0. 0.]\n",
      " [1. 0. 0.]\n",
      " [1. 0. 0.]\n",
      " [1. 0. 0.]\n",
      " [1. 0. 0.]\n",
      " [1. 0. 0.]\n",
      " [1. 0. 0.]\n",
      " [1. 0. 0.]\n",
      " [1. 0. 0.]\n",
      " [1. 0. 0.]\n",
      " [1. 0. 0.]\n",
      " [1. 0. 0.]\n",
      " [1. 0. 0.]\n",
      " [1. 0. 0.]\n",
      " [1. 0. 0.]\n",
      " [1. 0. 0.]\n",
      " [1. 0. 0.]\n",
      " [1. 0. 0.]\n",
      " [1. 0. 0.]\n",
      " [1. 0. 0.]\n",
      " [1. 0. 0.]\n",
      " [1. 0. 0.]\n",
      " [1. 0. 0.]\n",
      " [1. 0. 0.]\n",
      " [1. 0. 0.]\n",
      " [1. 0. 0.]\n",
      " [1. 0. 0.]\n",
      " [1. 0. 0.]\n",
      " [1. 0. 0.]\n",
      " [1. 0. 0.]\n",
      " [1. 0. 0.]\n",
      " [1. 0. 0.]\n",
      " [1. 0. 0.]\n",
      " [1. 0. 0.]\n",
      " [1. 0. 0.]\n",
      " [1. 0. 0.]\n",
      " [1. 0. 0.]\n",
      " [1. 0. 0.]\n",
      " [1. 0. 0.]\n",
      " [1. 0. 0.]\n",
      " [1. 0. 0.]\n",
      " [1. 0. 0.]\n",
      " [1. 0. 0.]\n",
      " [1. 0. 0.]\n",
      " [1. 0. 0.]\n",
      " [1. 0. 0.]\n",
      " [1. 0. 0.]\n",
      " [1. 0. 0.]\n",
      " [1. 0. 0.]\n",
      " [1. 0. 0.]\n",
      " [1. 0. 0.]\n",
      " [1. 0. 0.]\n",
      " [1. 0. 0.]\n",
      " [1. 0. 0.]\n",
      " [1. 0. 0.]\n",
      " [1. 0. 0.]\n",
      " [1. 0. 0.]\n",
      " [1. 0. 0.]\n",
      " [1. 0. 0.]\n",
      " [1. 0. 0.]\n",
      " [1. 0. 0.]\n",
      " [1. 0. 0.]\n",
      " [1. 0. 0.]\n",
      " [1. 0. 0.]\n",
      " [1. 0. 0.]\n",
      " [1. 0. 0.]\n",
      " [1. 0. 0.]\n",
      " [1. 0. 0.]\n",
      " [1. 0. 0.]\n",
      " [1. 0. 0.]\n",
      " [1. 0. 0.]\n",
      " [1. 0. 0.]\n",
      " [1. 0. 0.]\n",
      " [1. 0. 0.]\n",
      " [1. 0. 0.]]\n"
     ]
    }
   ],
   "source": [
    "image_data=[]\n",
    "label_data=[]\n",
    "\n",
    "for m in tqdm(os.listdir(image_path_CN)):\n",
    "\n",
    "    sitk_image_R= sitk.ReadImage(os.path.join(image_path_CN,m))\n",
    "    sitk_image_array = sitk.GetArrayFromImage(sitk_image_R)\n",
    "    sitk_image_array_transposed = np.transpose(sitk_image_array)\n",
    "    sitk_image_array_transposed = sitk_image_array_transposed[...,np.newaxis]\n",
    "    image_data.append(sitk_image_array_transposed)\n",
    "    label_data.append(\"CN\") #CN \n",
    "    \n",
    "\n",
    "    \n",
    "    \n",
    "for m in tqdm(os.listdir(image_path_MCI)):\n",
    "    sitk_image_R= sitk.ReadImage(os.path.join(image_path_MCI,m))\n",
    "    sitk_image_array = sitk.GetArrayFromImage(sitk_image_R)\n",
    "    sitk_image_array_transposed = np.transpose(sitk_image_array)\n",
    "    sitk_image_array_transposed = sitk_image_array_transposed[...,np.newaxis]\n",
    "    image_data.append(sitk_image_array_transposed)\n",
    "    label_data.append(\"MCI\")#MCI \n",
    "\n",
    "\n",
    "for m in tqdm(os.listdir(image_path_AD)):\n",
    "    sitk_image_R= sitk.ReadImage(os.path.join(image_path_AD,m))\n",
    "    sitk_image_array = sitk.GetArrayFromImage(sitk_image_R)\n",
    "    sitk_image_array_transposed = np.transpose(sitk_image_array)\n",
    "    sitk_image_array_transposed = sitk_image_array_transposed[...,np.newaxis]\n",
    "    image_data.append(sitk_image_array_transposed)\n",
    "    label_data.append(\"AD\") #AD\n",
    "\n",
    "\n",
    "image_data = np.array(image_data)\n",
    "label_data = np.array(label_data)\n",
    "unique, inverse = np.unique(label_data, return_inverse=True)\n",
    "onehot = np.eye(unique.shape[0])[inverse]\n",
    "print(label_data)\n",
    "print(onehot)\n",
    "\n",
    "\n",
    "img_shape = image_data.shape"
   ]
  },
  {
   "cell_type": "markdown",
   "id": "8fb42783",
   "metadata": {
    "papermill": {
     "duration": 0.033822,
     "end_time": "2023-02-01T19:47:12.050514",
     "exception": false,
     "start_time": "2023-02-01T19:47:12.016692",
     "status": "completed"
    },
    "tags": []
   },
   "source": [
    "# Split Images to train and validate\n"
   ]
  },
  {
   "cell_type": "code",
   "execution_count": 5,
   "id": "a3f245e7",
   "metadata": {
    "execution": {
     "iopub.execute_input": "2023-02-01T19:47:12.121216Z",
     "iopub.status.busy": "2023-02-01T19:47:12.120794Z",
     "iopub.status.idle": "2023-02-01T19:47:18.490122Z",
     "shell.execute_reply": "2023-02-01T19:47:18.488551Z"
    },
    "papermill": {
     "duration": 6.40829,
     "end_time": "2023-02-01T19:47:18.492984",
     "exception": false,
     "start_time": "2023-02-01T19:47:12.084694",
     "status": "completed"
    },
    "tags": []
   },
   "outputs": [
    {
     "name": "stdout",
     "output_type": "stream",
     "text": [
      "237\n",
      "60\n",
      "237\n",
      "60\n"
     ]
    }
   ],
   "source": [
    "from sklearn.model_selection import train_test_split\n",
    "train_X,valid_X,train_Y,valid_Y = train_test_split(image_data,onehot,test_size=0.2,stratify = onehot,random_state=19)\n",
    "print(len(train_X))\n",
    "print(len(valid_X))\n",
    "print(len(train_Y))\n",
    "print(len(valid_Y))"
   ]
  },
  {
   "cell_type": "code",
   "execution_count": 6,
   "id": "d45ad800",
   "metadata": {
    "execution": {
     "iopub.execute_input": "2023-02-01T19:47:18.563513Z",
     "iopub.status.busy": "2023-02-01T19:47:18.562356Z",
     "iopub.status.idle": "2023-02-01T19:47:19.013834Z",
     "shell.execute_reply": "2023-02-01T19:47:19.012439Z"
    },
    "papermill": {
     "duration": 0.489451,
     "end_time": "2023-02-01T19:47:19.016556",
     "exception": false,
     "start_time": "2023-02-01T19:47:18.527105",
     "status": "completed"
    },
    "tags": []
   },
   "outputs": [],
   "source": [
    "del image_data\n",
    "del label_data\n",
    "del onehot"
   ]
  },
  {
   "cell_type": "markdown",
   "id": "b6a70c4a",
   "metadata": {
    "papermill": {
     "duration": 0.033606,
     "end_time": "2023-02-01T19:47:19.084009",
     "exception": false,
     "start_time": "2023-02-01T19:47:19.050403",
     "status": "completed"
    },
    "tags": []
   },
   "source": [
    "# Building the Model "
   ]
  },
  {
   "cell_type": "code",
   "execution_count": 7,
   "id": "3b9a0f90",
   "metadata": {
    "execution": {
     "iopub.execute_input": "2023-02-01T19:47:19.153537Z",
     "iopub.status.busy": "2023-02-01T19:47:19.153126Z",
     "iopub.status.idle": "2023-02-01T19:47:19.169009Z",
     "shell.execute_reply": "2023-02-01T19:47:19.168030Z"
    },
    "papermill": {
     "duration": 0.053712,
     "end_time": "2023-02-01T19:47:19.171572",
     "exception": false,
     "start_time": "2023-02-01T19:47:19.117860",
     "status": "completed"
    },
    "tags": []
   },
   "outputs": [],
   "source": [
    "batch_size = 30\n",
    "epochs = 60\n",
    "\n",
    "def get_model():\n",
    "    model = Sequential()\n",
    "   # model.add(Lambda (input_shape=(166,256,256,1))\n",
    "    model.add(Conv3D(filters=16, kernel_size=(5,5,5), padding='valid', strides=(2,2,2),activation='leaky_relu',input_shape=(166,256,256,1), kernel_regularizer=regularizers.l2(0.01)))\n",
    "    model.add(MaxPool3D(pool_size=(2,2,2), strides=(2,2,2),padding='valid'))\n",
    "    model.add(Conv3D(filters=32, kernel_size=(3,3,3), padding='valid', strides=(2,2,2),kernel_regularizer=regularizers.l2(0.01)))\n",
    "    \n",
    "    model.add(BatchNormalization())\n",
    "    model.add(LeakyReLU())\n",
    "    model.add(MaxPool3D(pool_size=(2,2,2), strides=(2,2,2),padding='valid'))\n",
    "    model.add(Dropout(0.5))\n",
    "    model.add(AveragePooling3D(pool_size=(2,2,2), strides=(2,2,2),padding='valid'))\n",
    "    \n",
    "#     model.add(Conv3D(filters=64, kernel_size=(3,3,3), padding='valid', strides=(1,1,1),activation='leaky_relu',kernel_regularizer=regularizers.l2(0.01)))\n",
    "#     model.add(MaxPool3D(pool_size=(2,2,2), strides=(2,2,2),padding='valid'))\n",
    "#     model.add(Conv3D(filters=128, kernel_size=(3,3,3), padding='valid', strides=(1,1,1),kernel_regularizer=regularizers.l2(0.01)))\n",
    "    \n",
    "#     model.add(BatchNormalization())\n",
    "#     model.add(LeakyReLU())\n",
    "#     model.add(MaxPool3D(pool_size=(2,2,2), strides=(2,2,2),padding='valid'))\n",
    "#     model.add(Dropout(0.5))\n",
    "    \n",
    "    model.add(Flatten())\n",
    "    model.add(Dense(1024,kernel_regularizer=regularizers.l2(0.01)))\n",
    "    model.add(BatchNormalization())\n",
    "    model.add(LeakyReLU())\n",
    "    model.add(Dropout(0.6))\n",
    "    \n",
    "    model.add(Dense(512,kernel_regularizer=regularizers.l2(0.01)))\n",
    "    model.add(BatchNormalization())\n",
    "    model.add(LeakyReLU())\n",
    "    model.add(Dropout(0.7))\n",
    "    \n",
    "    model.add(Dense(128,kernel_regularizer=regularizers.l2(0.01)))\n",
    "    model.add(BatchNormalization())\n",
    "    model.add(LeakyReLU())\n",
    "    model.add(Dropout(0.7))\n",
    "    \n",
    "    model.add(Dense(3,kernel_regularizer=regularizers.l2(0.01)))\n",
    "    model.add(BatchNormalization())\n",
    "    model.add(Softmax())\n",
    "    \n",
    "    return model"
   ]
  },
  {
   "cell_type": "code",
   "execution_count": 8,
   "id": "9cf63e09",
   "metadata": {
    "execution": {
     "iopub.execute_input": "2023-02-01T19:47:19.241064Z",
     "iopub.status.busy": "2023-02-01T19:47:19.240669Z",
     "iopub.status.idle": "2023-02-01T19:47:20.188156Z",
     "shell.execute_reply": "2023-02-01T19:47:20.186925Z"
    },
    "papermill": {
     "duration": 0.986675,
     "end_time": "2023-02-01T19:47:20.192059",
     "exception": false,
     "start_time": "2023-02-01T19:47:19.205384",
     "status": "completed"
    },
    "tags": []
   },
   "outputs": [
    {
     "name": "stdout",
     "output_type": "stream",
     "text": [
      "Model: \"sequential\"\n",
      "_________________________________________________________________\n",
      "Layer (type)                 Output Shape              Param #   \n",
      "=================================================================\n",
      "conv3d (Conv3D)              (None, 81, 126, 126, 16)  2016      \n",
      "_________________________________________________________________\n",
      "max_pooling3d (MaxPooling3D) (None, 40, 63, 63, 16)    0         \n",
      "_________________________________________________________________\n",
      "conv3d_1 (Conv3D)            (None, 19, 31, 31, 32)    13856     \n",
      "_________________________________________________________________\n",
      "batch_normalization (BatchNo (None, 19, 31, 31, 32)    128       \n",
      "_________________________________________________________________\n",
      "leaky_re_lu (LeakyReLU)      (None, 19, 31, 31, 32)    0         \n",
      "_________________________________________________________________\n",
      "max_pooling3d_1 (MaxPooling3 (None, 9, 15, 15, 32)     0         \n",
      "_________________________________________________________________\n",
      "dropout (Dropout)            (None, 9, 15, 15, 32)     0         \n",
      "_________________________________________________________________\n",
      "average_pooling3d (AveragePo (None, 4, 7, 7, 32)       0         \n",
      "_________________________________________________________________\n",
      "flatten (Flatten)            (None, 6272)              0         \n",
      "_________________________________________________________________\n",
      "dense (Dense)                (None, 1024)              6423552   \n",
      "_________________________________________________________________\n",
      "batch_normalization_1 (Batch (None, 1024)              4096      \n",
      "_________________________________________________________________\n",
      "leaky_re_lu_1 (LeakyReLU)    (None, 1024)              0         \n",
      "_________________________________________________________________\n",
      "dropout_1 (Dropout)          (None, 1024)              0         \n",
      "_________________________________________________________________\n",
      "dense_1 (Dense)              (None, 512)               524800    \n",
      "_________________________________________________________________\n",
      "batch_normalization_2 (Batch (None, 512)               2048      \n",
      "_________________________________________________________________\n",
      "leaky_re_lu_2 (LeakyReLU)    (None, 512)               0         \n",
      "_________________________________________________________________\n",
      "dropout_2 (Dropout)          (None, 512)               0         \n",
      "_________________________________________________________________\n",
      "dense_2 (Dense)              (None, 128)               65664     \n",
      "_________________________________________________________________\n",
      "batch_normalization_3 (Batch (None, 128)               512       \n",
      "_________________________________________________________________\n",
      "leaky_re_lu_3 (LeakyReLU)    (None, 128)               0         \n",
      "_________________________________________________________________\n",
      "dropout_3 (Dropout)          (None, 128)               0         \n",
      "_________________________________________________________________\n",
      "dense_3 (Dense)              (None, 3)                 387       \n",
      "_________________________________________________________________\n",
      "batch_normalization_4 (Batch (None, 3)                 12        \n",
      "_________________________________________________________________\n",
      "softmax (Softmax)            (None, 3)                 0         \n",
      "=================================================================\n",
      "Total params: 7,037,071\n",
      "Trainable params: 7,033,673\n",
      "Non-trainable params: 3,398\n",
      "_________________________________________________________________\n"
     ]
    }
   ],
   "source": [
    "model = get_model()\n",
    "model.summary()\n",
    "model.compile(loss = 'categorical_crossentropy', optimizer = Adam(), metrics=['accuracy'])\n"
   ]
  },
  {
   "cell_type": "markdown",
   "id": "ab5db885",
   "metadata": {
    "papermill": {
     "duration": 0.033478,
     "end_time": "2023-02-01T19:47:20.259885",
     "exception": false,
     "start_time": "2023-02-01T19:47:20.226407",
     "status": "completed"
    },
    "tags": []
   },
   "source": [
    "# Model Training "
   ]
  },
  {
   "cell_type": "code",
   "execution_count": 9,
   "id": "8ad3783d",
   "metadata": {
    "execution": {
     "iopub.execute_input": "2023-02-01T19:47:20.329920Z",
     "iopub.status.busy": "2023-02-01T19:47:20.329511Z",
     "iopub.status.idle": "2023-02-01T20:48:22.486701Z",
     "shell.execute_reply": "2023-02-01T20:48:22.483238Z"
    },
    "papermill": {
     "duration": 3662.196167,
     "end_time": "2023-02-01T20:48:22.490422",
     "exception": false,
     "start_time": "2023-02-01T19:47:20.294255",
     "status": "completed"
    },
    "tags": []
   },
   "outputs": [
    {
     "name": "stdout",
     "output_type": "stream",
     "text": [
      "Train on 237 samples, validate on 60 samples\n"
     ]
    },
    {
     "name": "stderr",
     "output_type": "stream",
     "text": [
      "2023-02-01 19:47:21.042267: I tensorflow/core/common_runtime/process_util.cc:146] Creating new thread pool with default inter op setting: 2. Tune using inter_op_parallelism_threads for best performance.\n"
     ]
    },
    {
     "name": "stdout",
     "output_type": "stream",
     "text": [
      "Epoch 1/60\n",
      "237/237 [==============================] - ETA: 0s - loss: 25.9727 - acc: 0.2996"
     ]
    },
    {
     "name": "stderr",
     "output_type": "stream",
     "text": [
      "/opt/conda/lib/python3.7/site-packages/keras/engine/training.py:2470: UserWarning: `Model.state_updates` will be removed in a future version. This property should not be used in TensorFlow 2.0, as `updates` are applied automatically.\n",
      "  warnings.warn('`Model.state_updates` will be removed in a future version. '\n"
     ]
    },
    {
     "name": "stdout",
     "output_type": "stream",
     "text": [
      "237/237 [==============================] - 68s 288ms/sample - loss: 25.9727 - acc: 0.2996 - val_loss: 31.0010 - val_acc: 0.2833\n",
      "Epoch 2/60\n",
      "237/237 [==============================] - 61s 259ms/sample - loss: 21.5489 - acc: 0.3755 - val_loss: 27.9073 - val_acc: 0.3500\n",
      "Epoch 3/60\n",
      "237/237 [==============================] - 61s 256ms/sample - loss: 17.8575 - acc: 0.4051 - val_loss: 24.6183 - val_acc: 0.3500\n",
      "Epoch 4/60\n",
      "237/237 [==============================] - 61s 256ms/sample - loss: 15.1604 - acc: 0.3924 - val_loss: 22.2899 - val_acc: 0.3000\n",
      "Epoch 5/60\n",
      "237/237 [==============================] - 61s 259ms/sample - loss: 13.0906 - acc: 0.3755 - val_loss: 19.7409 - val_acc: 0.3500\n",
      "Epoch 6/60\n",
      "237/237 [==============================] - 67s 282ms/sample - loss: 11.4577 - acc: 0.4388 - val_loss: 16.0564 - val_acc: 0.3500\n",
      "Epoch 7/60\n",
      "237/237 [==============================] - 61s 255ms/sample - loss: 10.0869 - acc: 0.4093 - val_loss: 12.9541 - val_acc: 0.3500\n",
      "Epoch 8/60\n",
      "237/237 [==============================] - 60s 255ms/sample - loss: 8.9813 - acc: 0.4557 - val_loss: 10.4355 - val_acc: 0.3500\n",
      "Epoch 9/60\n",
      "237/237 [==============================] - 70s 297ms/sample - loss: 8.1109 - acc: 0.4430 - val_loss: 8.6032 - val_acc: 0.3333\n",
      "Epoch 10/60\n",
      "237/237 [==============================] - 60s 255ms/sample - loss: 7.2859 - acc: 0.4473 - val_loss: 7.4931 - val_acc: 0.3500\n",
      "Epoch 11/60\n",
      "237/237 [==============================] - 60s 255ms/sample - loss: 6.6689 - acc: 0.4219 - val_loss: 6.5987 - val_acc: 0.3500\n",
      "Epoch 12/60\n",
      "237/237 [==============================] - 60s 251ms/sample - loss: 6.0996 - acc: 0.4684 - val_loss: 6.0058 - val_acc: 0.3500\n",
      "Epoch 13/60\n",
      "237/237 [==============================] - 60s 253ms/sample - loss: 5.6184 - acc: 0.4895 - val_loss: 5.5151 - val_acc: 0.3500\n",
      "Epoch 14/60\n",
      "237/237 [==============================] - 59s 251ms/sample - loss: 5.2431 - acc: 0.4515 - val_loss: 5.1127 - val_acc: 0.3500\n",
      "Epoch 15/60\n",
      "237/237 [==============================] - 60s 252ms/sample - loss: 4.9173 - acc: 0.4599 - val_loss: 4.8123 - val_acc: 0.3500\n",
      "Epoch 16/60\n",
      "237/237 [==============================] - 61s 258ms/sample - loss: 4.6247 - acc: 0.4346 - val_loss: 4.5640 - val_acc: 0.3500\n",
      "Epoch 17/60\n",
      "237/237 [==============================] - 61s 259ms/sample - loss: 4.3240 - acc: 0.5316 - val_loss: 4.3368 - val_acc: 0.3500\n",
      "Epoch 18/60\n",
      "237/237 [==============================] - 60s 254ms/sample - loss: 4.1885 - acc: 0.4810 - val_loss: 4.1194 - val_acc: 0.3833\n",
      "Epoch 19/60\n",
      "237/237 [==============================] - 61s 257ms/sample - loss: 3.9744 - acc: 0.4810 - val_loss: 4.0040 - val_acc: 0.3833\n",
      "Epoch 20/60\n",
      "237/237 [==============================] - 60s 253ms/sample - loss: 3.8250 - acc: 0.5274 - val_loss: 3.8513 - val_acc: 0.4000\n",
      "Epoch 21/60\n",
      "237/237 [==============================] - 61s 258ms/sample - loss: 3.7088 - acc: 0.5148 - val_loss: 3.7033 - val_acc: 0.4000\n",
      "Epoch 22/60\n",
      "237/237 [==============================] - 60s 255ms/sample - loss: 3.5848 - acc: 0.4810 - val_loss: 3.5767 - val_acc: 0.3333\n",
      "Epoch 23/60\n",
      "237/237 [==============================] - 61s 257ms/sample - loss: 3.4451 - acc: 0.5063 - val_loss: 3.4946 - val_acc: 0.3667\n",
      "Epoch 24/60\n",
      "237/237 [==============================] - 60s 254ms/sample - loss: 3.3825 - acc: 0.5274 - val_loss: 3.4433 - val_acc: 0.4500\n",
      "Epoch 25/60\n",
      "237/237 [==============================] - 61s 259ms/sample - loss: 3.2930 - acc: 0.5570 - val_loss: 3.3775 - val_acc: 0.3833\n",
      "Epoch 26/60\n",
      "237/237 [==============================] - 60s 255ms/sample - loss: 3.2367 - acc: 0.5527 - val_loss: 3.3124 - val_acc: 0.4167\n",
      "Epoch 27/60\n",
      "237/237 [==============================] - 61s 256ms/sample - loss: 3.2266 - acc: 0.4768 - val_loss: 3.2735 - val_acc: 0.4000\n",
      "Epoch 28/60\n",
      "237/237 [==============================] - 61s 258ms/sample - loss: 3.1070 - acc: 0.5865 - val_loss: 3.1799 - val_acc: 0.3167\n",
      "Epoch 29/60\n",
      "237/237 [==============================] - 61s 258ms/sample - loss: 2.9818 - acc: 0.5612 - val_loss: 3.0884 - val_acc: 0.2833\n",
      "Epoch 30/60\n",
      "237/237 [==============================] - 61s 256ms/sample - loss: 2.8365 - acc: 0.6414 - val_loss: 2.9895 - val_acc: 0.3167\n",
      "Epoch 31/60\n",
      "237/237 [==============================] - 60s 255ms/sample - loss: 2.8262 - acc: 0.5907 - val_loss: 3.0090 - val_acc: 0.3833\n",
      "Epoch 32/60\n",
      "237/237 [==============================] - 60s 255ms/sample - loss: 2.8259 - acc: 0.6160 - val_loss: 3.0909 - val_acc: 0.3167\n",
      "Epoch 33/60\n",
      "237/237 [==============================] - 61s 256ms/sample - loss: 2.9136 - acc: 0.5949 - val_loss: 3.1835 - val_acc: 0.3833\n",
      "Epoch 34/60\n",
      "237/237 [==============================] - 60s 255ms/sample - loss: 3.0206 - acc: 0.5570 - val_loss: 3.2431 - val_acc: 0.4500\n",
      "Epoch 35/60\n",
      "237/237 [==============================] - 61s 256ms/sample - loss: 2.9882 - acc: 0.6667 - val_loss: 3.3376 - val_acc: 0.3167\n",
      "Epoch 36/60\n",
      "237/237 [==============================] - 60s 254ms/sample - loss: 3.0486 - acc: 0.6203 - val_loss: 3.3232 - val_acc: 0.3500\n",
      "Epoch 37/60\n",
      "237/237 [==============================] - 61s 259ms/sample - loss: 3.0839 - acc: 0.5527 - val_loss: 3.2954 - val_acc: 0.4667\n",
      "Epoch 38/60\n",
      "237/237 [==============================] - 60s 254ms/sample - loss: 3.1681 - acc: 0.5865 - val_loss: 3.3429 - val_acc: 0.3500\n",
      "Epoch 39/60\n",
      "237/237 [==============================] - 61s 257ms/sample - loss: 3.0367 - acc: 0.6329 - val_loss: 3.3057 - val_acc: 0.4833\n",
      "Epoch 40/60\n",
      "237/237 [==============================] - 60s 255ms/sample - loss: 3.1078 - acc: 0.6287 - val_loss: 3.3135 - val_acc: 0.5333\n",
      "Epoch 41/60\n",
      "237/237 [==============================] - 61s 259ms/sample - loss: 2.9632 - acc: 0.7046 - val_loss: 3.2568 - val_acc: 0.4167\n",
      "Epoch 42/60\n",
      "237/237 [==============================] - 60s 254ms/sample - loss: 2.9184 - acc: 0.6835 - val_loss: 3.1825 - val_acc: 0.4667\n",
      "Epoch 43/60\n",
      "237/237 [==============================] - 60s 255ms/sample - loss: 2.7606 - acc: 0.7384 - val_loss: 3.0667 - val_acc: 0.5000\n",
      "Epoch 44/60\n",
      "237/237 [==============================] - 61s 255ms/sample - loss: 2.6646 - acc: 0.7511 - val_loss: 2.9750 - val_acc: 0.4833\n",
      "Epoch 45/60\n",
      "237/237 [==============================] - 61s 259ms/sample - loss: 2.5772 - acc: 0.7384 - val_loss: 2.9313 - val_acc: 0.4500\n",
      "Epoch 46/60\n",
      "237/237 [==============================] - 61s 256ms/sample - loss: 2.5441 - acc: 0.7257 - val_loss: 2.8670 - val_acc: 0.4000\n",
      "Epoch 47/60\n",
      "237/237 [==============================] - 61s 257ms/sample - loss: 2.4838 - acc: 0.7511 - val_loss: 2.9109 - val_acc: 0.3500\n",
      "Epoch 48/60\n",
      "237/237 [==============================] - 60s 255ms/sample - loss: 2.5293 - acc: 0.7257 - val_loss: 2.9228 - val_acc: 0.4500\n",
      "Epoch 49/60\n",
      "237/237 [==============================] - 61s 255ms/sample - loss: 2.5854 - acc: 0.7004 - val_loss: 2.9753 - val_acc: 0.4167\n",
      "Epoch 50/60\n",
      "237/237 [==============================] - 61s 256ms/sample - loss: 2.5557 - acc: 0.7342 - val_loss: 2.8960 - val_acc: 0.5167\n",
      "Epoch 51/60\n",
      "237/237 [==============================] - 61s 256ms/sample - loss: 2.4578 - acc: 0.7553 - val_loss: 2.8022 - val_acc: 0.4833\n",
      "Epoch 52/60\n",
      "237/237 [==============================] - 60s 254ms/sample - loss: 2.4262 - acc: 0.7215 - val_loss: 2.8430 - val_acc: 0.4667\n",
      "Epoch 53/60\n",
      "237/237 [==============================] - 61s 256ms/sample - loss: 2.4622 - acc: 0.7553 - val_loss: 2.8357 - val_acc: 0.5333\n",
      "Epoch 54/60\n",
      "237/237 [==============================] - 61s 257ms/sample - loss: 2.4081 - acc: 0.7679 - val_loss: 2.7711 - val_acc: 0.5833\n",
      "Epoch 55/60\n",
      "237/237 [==============================] - 60s 254ms/sample - loss: 2.3542 - acc: 0.7342 - val_loss: 2.7356 - val_acc: 0.4333\n",
      "Epoch 56/60\n",
      "237/237 [==============================] - 61s 258ms/sample - loss: 2.3137 - acc: 0.7764 - val_loss: 2.6954 - val_acc: 0.6000\n",
      "Epoch 57/60\n",
      "237/237 [==============================] - 61s 257ms/sample - loss: 2.2153 - acc: 0.8017 - val_loss: 2.6012 - val_acc: 0.6333\n",
      "Epoch 58/60\n",
      "237/237 [==============================] - 61s 256ms/sample - loss: 2.1270 - acc: 0.8017 - val_loss: 2.6148 - val_acc: 0.3500\n",
      "Epoch 59/60\n",
      "237/237 [==============================] - 61s 256ms/sample - loss: 2.1726 - acc: 0.7722 - val_loss: 2.6765 - val_acc: 0.3500\n",
      "Epoch 60/60\n",
      "237/237 [==============================] - 60s 255ms/sample - loss: 2.2000 - acc: 0.7890 - val_loss: 2.6500 - val_acc: 0.3333\n"
     ]
    }
   ],
   "source": [
    "model_train = model.fit(train_X, train_Y, batch_size = batch_size, epochs = epochs, verbose=1,validation_data=(valid_X, valid_Y))"
   ]
  },
  {
   "cell_type": "markdown",
   "id": "a5054fc4",
   "metadata": {
    "papermill": {
     "duration": 0.072287,
     "end_time": "2023-02-01T20:48:22.636231",
     "exception": false,
     "start_time": "2023-02-01T20:48:22.563944",
     "status": "completed"
    },
    "tags": []
   },
   "source": [
    "# Visualizing of Training vs Validation Loss"
   ]
  },
  {
   "cell_type": "code",
   "execution_count": 10,
   "id": "f84575a0",
   "metadata": {
    "execution": {
     "iopub.execute_input": "2023-02-01T20:48:22.800537Z",
     "iopub.status.busy": "2023-02-01T20:48:22.799753Z",
     "iopub.status.idle": "2023-02-01T20:48:23.154207Z",
     "shell.execute_reply": "2023-02-01T20:48:23.152902Z"
    },
    "papermill": {
     "duration": 0.447481,
     "end_time": "2023-02-01T20:48:23.156791",
     "exception": false,
     "start_time": "2023-02-01T20:48:22.709310",
     "status": "completed"
    },
    "tags": []
   },
   "outputs": [
    {
     "data": {
      "image/png": "[encoded data removed]",
      "text/plain": [
       "<Figure size 432x288 with 1 Axes>"
      ]
     },
     "metadata": {
      "needs_background": "light"
     },
     "output_type": "display_data"
    }
   ],
   "source": [
    "loss = model_train.history['loss']\n",
    "val_loss = model_train.history['val_loss']\n",
    "epochs = range(60)\n",
    "plt.figure()\n",
    "plt.plot(epochs, loss, 'go', label='Training loss')\n",
    "plt.plot(epochs, val_loss, 'g', label='Validation loss')\n",
    "plt.title('Training and validation loss')\n",
    "plt.legend()\n",
    "plt.show()"
   ]
  },
  {
   "cell_type": "markdown",
   "id": "5b0b5b8d",
   "metadata": {
    "papermill": {
     "duration": 0.072177,
     "end_time": "2023-02-01T20:48:23.300937",
     "exception": false,
     "start_time": "2023-02-01T20:48:23.228760",
     "status": "completed"
    },
    "tags": []
   },
   "source": [
    "# Visualizing of Training vs Validation Accuracy"
   ]
  },
  {
   "cell_type": "code",
   "execution_count": 11,
   "id": "66b6881c",
   "metadata": {
    "execution": {
     "iopub.execute_input": "2023-02-01T20:48:23.449417Z",
     "iopub.status.busy": "2023-02-01T20:48:23.448577Z",
     "iopub.status.idle": "2023-02-01T20:48:23.689461Z",
     "shell.execute_reply": "2023-02-01T20:48:23.687932Z"
    },
    "papermill": {
     "duration": 0.31771,
     "end_time": "2023-02-01T20:48:23.692002",
     "exception": false,
     "start_time": "2023-02-01T20:48:23.374292",
     "status": "completed"
    },
    "tags": []
   },
   "outputs": [
    {
     "data": {
      "image/png": "[encoded data removed]",
      "text/plain": [
       "<Figure size 432x288 with 1 Axes>"
      ]
     },
     "metadata": {
      "needs_background": "light"
     },
     "output_type": "display_data"
    },
    {
     "name": "stdout",
     "output_type": "stream",
     "text": [
      "Mean training accuracy 0.586146 \n",
      "Mean validation accuracy 0.398333\n"
     ]
    }
   ],
   "source": [
    "acc = model_train.history['acc']\n",
    "val_acc = model_train.history['val_acc']\n",
    "epochs = range(60)\n",
    "plt.figure()\n",
    "plt.plot(epochs, acc, 'go', label='Training acc')\n",
    "plt.plot(epochs, val_acc, 'g', label='Validation acc')\n",
    "plt.title('Training and validation acc')\n",
    "plt.legend()\n",
    "plt.show()\n",
    "acc = np.asarray(acc).mean()\n",
    "val_acc = np.asarray(val_acc).mean() \n",
    "print('Mean training accuracy %f ' % acc)\n",
    "print('Mean validation accuracy %f' % val_acc)"
   ]
  },
  {
   "cell_type": "markdown",
   "id": "b0b57d1b",
   "metadata": {
    "papermill": {
     "duration": 0.071729,
     "end_time": "2023-02-01T20:48:23.835911",
     "exception": false,
     "start_time": "2023-02-01T20:48:23.764182",
     "status": "completed"
    },
    "tags": []
   },
   "source": [
    "# Model Prediction"
   ]
  },
  {
   "cell_type": "code",
   "execution_count": 12,
   "id": "5659c6af",
   "metadata": {
    "execution": {
     "iopub.execute_input": "2023-02-01T20:48:23.986949Z",
     "iopub.status.busy": "2023-02-01T20:48:23.986495Z",
     "iopub.status.idle": "2023-02-01T20:48:30.890456Z",
     "shell.execute_reply": "2023-02-01T20:48:30.888358Z"
    },
    "papermill": {
     "duration": 6.984088,
     "end_time": "2023-02-01T20:48:30.893397",
     "exception": false,
     "start_time": "2023-02-01T20:48:23.909309",
     "status": "completed"
    },
    "tags": []
   },
   "outputs": [
    {
     "name": "stdout",
     "output_type": "stream",
     "text": [
      "[[0. 0. 1.]\n",
      " [0. 1. 0.]\n",
      " [0. 1. 0.]\n",
      " [1. 0. 0.]\n",
      " [0. 0. 1.]\n",
      " [1. 0. 0.]\n",
      " [0. 1. 0.]\n",
      " [0. 0. 1.]\n",
      " [0. 1. 0.]\n",
      " [0. 0. 1.]\n",
      " [0. 1. 0.]\n",
      " [0. 1. 0.]\n",
      " [0. 1. 0.]\n",
      " [0. 0. 1.]\n",
      " [0. 1. 0.]\n",
      " [1. 0. 0.]\n",
      " [1. 0. 0.]\n",
      " [1. 0. 0.]\n",
      " [1. 0. 0.]\n",
      " [0. 0. 1.]\n",
      " [0. 0. 1.]\n",
      " [0. 1. 0.]\n",
      " [1. 0. 0.]\n",
      " [0. 1. 0.]\n",
      " [1. 0. 0.]\n",
      " [1. 0. 0.]\n",
      " [0. 0. 1.]\n",
      " [1. 0. 0.]\n",
      " [0. 0. 1.]\n",
      " [1. 0. 0.]\n",
      " [1. 0. 0.]\n",
      " [1. 0. 0.]\n",
      " [0. 1. 0.]\n",
      " [0. 0. 1.]\n",
      " [0. 0. 1.]\n",
      " [0. 0. 1.]\n",
      " [0. 0. 1.]\n",
      " [0. 0. 1.]\n",
      " [0. 0. 1.]\n",
      " [1. 0. 0.]\n",
      " [0. 0. 1.]\n",
      " [1. 0. 0.]\n",
      " [1. 0. 0.]\n",
      " [1. 0. 0.]\n",
      " [0. 0. 1.]\n",
      " [0. 1. 0.]\n",
      " [0. 1. 0.]\n",
      " [0. 1. 0.]\n",
      " [1. 0. 0.]\n",
      " [0. 1. 0.]\n",
      " [0. 0. 1.]\n",
      " [0. 1. 0.]\n",
      " [0. 0. 1.]\n",
      " [0. 1. 0.]\n",
      " [0. 1. 0.]\n",
      " [1. 0. 0.]\n",
      " [0. 0. 1.]\n",
      " [0. 1. 0.]\n",
      " [0. 1. 0.]\n",
      " [0. 0. 1.]]\n",
      "[2 1 1 0 2 0 1 2 1 2 1 1 1 2 1 0 0 0 0 2 2 1 0 1 0 0 2 0 2 0 0 0 1 2 2 2 2\n",
      " 2 2 0 2 0 0 0 2 1 1 1 0 1 2 1 2 1 1 0 2 1 1 2]\n",
      "--------------------------\n",
      "[[0.27322686 0.20769805 0.51907504]\n",
      " [0.29381818 0.29864976 0.407532  ]\n",
      " [0.31474638 0.30652684 0.3787268 ]\n",
      " [0.33531132 0.3243739  0.3403148 ]\n",
      " [0.29301953 0.27589694 0.43108353]\n",
      " [0.24027605 0.29797563 0.46174833]\n",
      " [0.3029493  0.3065665  0.39048415]\n",
      " [0.30986854 0.3112005  0.3789309 ]\n",
      " [0.28831252 0.2872917  0.42439574]\n",
      " [0.3002097  0.23985541 0.45993495]\n",
      " [0.30289668 0.30407694 0.3930264 ]\n",
      " [0.31574363 0.31916296 0.3650934 ]\n",
      " [0.32613546 0.33723646 0.33662808]\n",
      " [0.33413333 0.26594418 0.3999225 ]\n",
      " [0.34481966 0.30950835 0.345672  ]\n",
      " [0.34491098 0.28446293 0.37062606]\n",
      " [0.36122495 0.26998577 0.3687893 ]\n",
      " [0.37207732 0.2529035  0.37501913]\n",
      " [0.33435988 0.25769296 0.40794712]\n",
      " [0.35699412 0.2925615  0.35044438]\n",
      " [0.34191588 0.29878724 0.35929686]\n",
      " [0.29063985 0.2871121  0.42224807]\n",
      " [0.29584894 0.25686136 0.4472897 ]\n",
      " [0.295183   0.34328103 0.36153597]\n",
      " [0.33531925 0.24368453 0.42099625]\n",
      " [0.30590603 0.32379305 0.37030095]\n",
      " [0.28598017 0.28065202 0.43336785]\n",
      " [0.31572533 0.29360044 0.39067426]\n",
      " [0.25596267 0.25074852 0.49328876]\n",
      " [0.34639427 0.28274915 0.37085658]\n",
      " [0.3514372  0.30841792 0.34014487]\n",
      " [0.31562352 0.2684954  0.41588107]\n",
      " [0.35305637 0.3078987  0.33904496]\n",
      " [0.35466906 0.30311942 0.34221146]\n",
      " [0.3369902  0.26098177 0.40202802]\n",
      " [0.25367838 0.23898354 0.5073381 ]\n",
      " [0.26653802 0.30413967 0.42932224]\n",
      " [0.33112714 0.29753977 0.37133306]\n",
      " [0.21903929 0.19613688 0.5848238 ]\n",
      " [0.32953712 0.28583103 0.38463184]\n",
      " [0.34874862 0.30646753 0.3447839 ]\n",
      " [0.2933601  0.27954784 0.42709205]\n",
      " [0.34622842 0.276308   0.37746355]\n",
      " [0.3487825  0.205069   0.44614846]\n",
      " [0.21741584 0.257783   0.52480114]\n",
      " [0.25557607 0.25569755 0.48872632]\n",
      " [0.32607663 0.3147987  0.3591246 ]\n",
      " [0.34642524 0.30670577 0.346869  ]\n",
      " [0.2850117  0.24893133 0.46605697]\n",
      " [0.30729213 0.32648653 0.36622134]\n",
      " [0.35699412 0.2925615  0.35044438]\n",
      " [0.34529254 0.30474576 0.34996173]\n",
      " [0.28233832 0.25528544 0.46237624]\n",
      " [0.352043   0.26930925 0.3786477 ]\n",
      " [0.25557607 0.25569755 0.48872632]\n",
      " [0.36089236 0.27854845 0.3605592 ]\n",
      " [0.29745862 0.29677263 0.40576878]\n",
      " [0.29686517 0.31357506 0.38955975]\n",
      " [0.29353124 0.32961515 0.37685362]\n",
      " [0.33112714 0.29753977 0.37133306]]\n",
      "[2 2 2 2 2 2 2 2 2 2 2 2 1 2 2 2 2 2 2 0 2 2 2 2 2 2 2 2 2 2 0 2 0 0 2 2 2\n",
      " 2 2 2 0 2 2 2 2 2 2 2 2 2 0 2 2 2 2 0 2 2 2 2]\n",
      "[2 1 1 0 2 0 1 2 1 2 1 1 1 2 1 0 0 0 0 2 2 1 0 1 0 0 2 0 2 0 0 0 1 2 2 2 2\n",
      " 2 2 0 2 0 0 0 2 1 1 1 0 1 2 1 2 1 1 0 2 1 1 2]\n"
     ]
    }
   ],
   "source": [
    "pred = model.predict(valid_X) #return learning labels \n",
    "pred_label=np.argmax(pred,axis=1) \n",
    "actual_label=np.argmax(valid_Y,axis=1)\n",
    "print(valid_Y)\n",
    "print(actual_label)\n",
    "print(\"--------------------------\")\n",
    "print(pred)\n",
    "print(pred_label)\n",
    "print(actual_label)"
   ]
  },
  {
   "cell_type": "markdown",
   "id": "36288a3d",
   "metadata": {
    "papermill": {
     "duration": 0.074468,
     "end_time": "2023-02-01T20:48:31.044384",
     "exception": false,
     "start_time": "2023-02-01T20:48:30.969916",
     "status": "completed"
    },
    "tags": []
   },
   "source": [
    "# Labelling"
   ]
  },
  {
   "cell_type": "code",
   "execution_count": 13,
   "id": "7e4a51be",
   "metadata": {
    "execution": {
     "iopub.execute_input": "2023-02-01T20:48:31.194030Z",
     "iopub.status.busy": "2023-02-01T20:48:31.193301Z",
     "iopub.status.idle": "2023-02-01T20:48:31.199125Z",
     "shell.execute_reply": "2023-02-01T20:48:31.197726Z"
    },
    "papermill": {
     "duration": 0.083267,
     "end_time": "2023-02-01T20:48:31.201564",
     "exception": false,
     "start_time": "2023-02-01T20:48:31.118297",
     "status": "completed"
    },
    "tags": []
   },
   "outputs": [],
   "source": [
    "label_name=[\"AD\",\"CN\",\"MCI\"]"
   ]
  },
  {
   "cell_type": "markdown",
   "id": "03ac7ee2",
   "metadata": {
    "papermill": {
     "duration": 0.073508,
     "end_time": "2023-02-01T20:48:31.348242",
     "exception": false,
     "start_time": "2023-02-01T20:48:31.274734",
     "status": "completed"
    },
    "tags": []
   },
   "source": [
    "# Confusion Matrix"
   ]
  },
  {
   "cell_type": "code",
   "execution_count": 14,
   "id": "28c18d91",
   "metadata": {
    "execution": {
     "iopub.execute_input": "2023-02-01T20:48:31.496507Z",
     "iopub.status.busy": "2023-02-01T20:48:31.495724Z",
     "iopub.status.idle": "2023-02-01T20:48:31.797696Z",
     "shell.execute_reply": "2023-02-01T20:48:31.796245Z"
    },
    "papermill": {
     "duration": 0.378823,
     "end_time": "2023-02-01T20:48:31.800117",
     "exception": false,
     "start_time": "2023-02-01T20:48:31.421294",
     "status": "completed"
    },
    "tags": []
   },
   "outputs": [
    {
     "data": {
      "image/png": "[encoded data removed]",
      "text/plain": [
       "<Figure size 432x288 with 2 Axes>"
      ]
     },
     "metadata": {
      "needs_background": "light"
     },
     "output_type": "display_data"
    }
   ],
   "source": [
    "from sklearn.metrics import confusion_matrix\n",
    "ConfusionMatrix = confusion_matrix(actual_label, pred_label)\n",
    "sns.heatmap(ConfusionMatrix, annot=True, fmt=\"d\", cmap=\"Greens\", xticklabels=label_name, yticklabels=label_name)\n",
    "plt.title(\"Confusion Matrix\\n\")\n",
    "plt.ylabel('Actual')\n",
    "plt.xlabel('Predicted')\n",
    "plt.show()\n"
   ]
  },
  {
   "cell_type": "markdown",
   "id": "0bbce80d",
   "metadata": {
    "papermill": {
     "duration": 0.073507,
     "end_time": "2023-02-01T20:48:31.947726",
     "exception": false,
     "start_time": "2023-02-01T20:48:31.874219",
     "status": "completed"
    },
    "tags": []
   },
   "source": [
    "# Classification Report "
   ]
  },
  {
   "cell_type": "code",
   "execution_count": 15,
   "id": "f1126606",
   "metadata": {
    "execution": {
     "iopub.execute_input": "2023-02-01T20:48:32.096374Z",
     "iopub.status.busy": "2023-02-01T20:48:32.095924Z",
     "iopub.status.idle": "2023-02-01T20:48:32.108702Z",
     "shell.execute_reply": "2023-02-01T20:48:32.106669Z"
    },
    "papermill": {
     "duration": 0.089754,
     "end_time": "2023-02-01T20:48:32.111124",
     "exception": false,
     "start_time": "2023-02-01T20:48:32.021370",
     "status": "completed"
    },
    "tags": []
   },
   "outputs": [
    {
     "name": "stdout",
     "output_type": "stream",
     "text": [
      "              precision    recall  f1-score   support\n",
      "\n",
      "          AD       0.29      0.11      0.15        19\n",
      "          CN       1.00      0.05      0.10        20\n",
      "         MCI       0.33      0.81      0.47        21\n",
      "\n",
      "    accuracy                           0.33        60\n",
      "   macro avg       0.54      0.32      0.24        60\n",
      "weighted avg       0.54      0.33      0.24        60\n",
      "\n"
     ]
    }
   ],
   "source": [
    "from sklearn.metrics import classification_report\n",
    "print(classification_report(actual_label, pred_label, target_names=[\"AD\",\"CN\",\"MCI\"]))"
   ]
  },
  {
   "cell_type": "markdown",
   "id": "d2ebee50",
   "metadata": {
    "papermill": {
     "duration": 0.072636,
     "end_time": "2023-02-01T20:48:32.258917",
     "exception": false,
     "start_time": "2023-02-01T20:48:32.186281",
     "status": "completed"
    },
    "tags": []
   },
   "source": [
    "# Roc Curve"
   ]
  },
  {
   "cell_type": "code",
   "execution_count": 16,
   "id": "4d02a8af",
   "metadata": {
    "execution": {
     "iopub.execute_input": "2023-02-01T20:48:32.407514Z",
     "iopub.status.busy": "2023-02-01T20:48:32.407039Z",
     "iopub.status.idle": "2023-02-01T20:48:33.040711Z",
     "shell.execute_reply": "2023-02-01T20:48:33.039413Z"
    },
    "papermill": {
     "duration": 0.711573,
     "end_time": "2023-02-01T20:48:33.043557",
     "exception": false,
     "start_time": "2023-02-01T20:48:32.331984",
     "status": "completed"
    },
    "tags": []
   },
   "outputs": [
    {
     "name": "stdout",
     "output_type": "stream",
     "text": [
      "ROC for label  0\n"
     ]
    },
    {
     "data": {
      "image/png": "[encoded data removed]",
      "text/plain": [
       "<Figure size 432x288 with 1 Axes>"
      ]
     },
     "metadata": {
      "needs_background": "light"
     },
     "output_type": "display_data"
    },
    {
     "name": "stdout",
     "output_type": "stream",
     "text": [
      "ROC for label  1\n"
     ]
    },
    {
     "data": {
      "image/png": "[encoded data removed]",
      "text/plain": [
       "<Figure size 432x288 with 1 Axes>"
      ]
     },
     "metadata": {
      "needs_background": "light"
     },
     "output_type": "display_data"
    },
    {
     "name": "stdout",
     "output_type": "stream",
     "text": [
      "ROC for label  2\n"
     ]
    },
    {
     "data": {
      "image/png": "[encoded data removed]",
      "text/plain": [
       "<Figure size 432x288 with 1 Axes>"
      ]
     },
     "metadata": {
      "needs_background": "light"
     },
     "output_type": "display_data"
    }
   ],
   "source": [
    "from sklearn.metrics import roc_auc_score\n",
    "from sklearn.metrics import roc_curve,auc\n",
    "\n",
    "fpr = dict()\n",
    "tpr = dict()\n",
    "roc_auc = dict()\n",
    "\n",
    "for i in range(3):\n",
    "    fpr[i], tpr[i], _ = roc_curve(valid_Y[:, i], pred[:, i])\n",
    "    roc_auc[i] = auc(fpr[i], tpr[i])\n",
    "    \n",
    "for i in range(3):\n",
    "    print(\"ROC for label \",i)\n",
    "    plt.figure()\n",
    "    plt.plot(fpr[i], tpr[i], label='ROC curve (area = %0.2f)' % roc_auc[i])\n",
    "    plt.plot([0, 1], [0, 1], 'g--')\n",
    "    plt.xlim([0.0, 1.0])\n",
    "    plt.ylim([0.0, 1.05])\n",
    "    plt.xlabel('False Positive Rate')\n",
    "    plt.ylabel('True Positive Rate')\n",
    "    plt.legend(loc=\"lower right\")\n",
    "    plt.show()"
   ]
  },
  {
   "cell_type": "markdown",
   "id": "9f4f0d42",
   "metadata": {
    "papermill": {
     "duration": 0.075432,
     "end_time": "2023-02-01T20:48:33.195170",
     "exception": false,
     "start_time": "2023-02-01T20:48:33.119738",
     "status": "completed"
    },
    "tags": []
   },
   "source": [
    "# Probablities Testing "
   ]
  },
  {
   "cell_type": "code",
   "execution_count": 17,
   "id": "fff8b97d",
   "metadata": {
    "execution": {
     "iopub.execute_input": "2023-02-01T20:48:33.349494Z",
     "iopub.status.busy": "2023-02-01T20:48:33.348682Z",
     "iopub.status.idle": "2023-02-01T20:48:33.355050Z",
     "shell.execute_reply": "2023-02-01T20:48:33.353930Z"
    },
    "papermill": {
     "duration": 0.086261,
     "end_time": "2023-02-01T20:48:33.357346",
     "exception": false,
     "start_time": "2023-02-01T20:48:33.271085",
     "status": "completed"
    },
    "tags": []
   },
   "outputs": [],
   "source": [
    "def maxProbability(arr):\n",
    "    array=arr[0]\n",
    "    max = array[0]\n",
    "    for i in range(1, 3):\n",
    "        if array[i] > max:\n",
    "            max = array[i]\n",
    "    return max"
   ]
  },
  {
   "cell_type": "code",
   "execution_count": 18,
   "id": "23f2d816",
   "metadata": {
    "execution": {
     "iopub.execute_input": "2023-02-01T20:48:33.579536Z",
     "iopub.status.busy": "2023-02-01T20:48:33.579081Z",
     "iopub.status.idle": "2023-02-01T20:48:34.094182Z",
     "shell.execute_reply": "2023-02-01T20:48:34.092512Z"
    },
    "papermill": {
     "duration": 0.598052,
     "end_time": "2023-02-01T20:48:34.098553",
     "exception": false,
     "start_time": "2023-02-01T20:48:33.500501",
     "status": "completed"
    },
    "tags": []
   },
   "outputs": [
    {
     "data": {
      "image/png": "[encoded data removed]",
      "text/plain": [
       "<Figure size 432x288 with 1 Axes>"
      ]
     },
     "metadata": {
      "needs_background": "light"
     },
     "output_type": "display_data"
    },
    {
     "name": "stdout",
     "output_type": "stream",
     "text": [
      "[[0.2732269  0.20769806 0.51907504]]\n",
      "[2]\n",
      "The actual label is 2\n",
      "51.91 % chances are there that the image is MCI\n"
     ]
    },
    {
     "data": {
      "image/png": "[encoded data removed]",
      "text/plain": [
       "<Figure size 432x288 with 1 Axes>"
      ]
     },
     "metadata": {
      "needs_background": "light"
     },
     "output_type": "display_data"
    }
   ],
   "source": [
    "#TEST CASE 1\n",
    "Test_image = valid_X[0]\n",
    "plt.imshow(Test_image[110], cmap='gray')\n",
    "plt.show()\n",
    "plt.axis('off')\n",
    "\n",
    "Test_image = np.expand_dims(Test_image, axis = 0)\n",
    "Result = model.predict(Test_image)\n",
    "Result_label=np.argmax(Result,axis=1)\n",
    "print(Result)\n",
    "print(Result_label)\n",
    "probability = round((maxProbability(model.predict(Test_image))*100),2)\n",
    "\n",
    "print('The actual label is',actual_label[0])\n",
    "if Result_label[0] == 0:\n",
    "    print(probability, '% chances are there that the image is AD')\n",
    "elif Result_label[0] == 1:\n",
    "    print(probability, '% chances are there that the image is CN')\n",
    "elif Result_label[0] == 2:\n",
    "    print(probability, '% chances are there that the image is MCI')\n"
   ]
  },
  {
   "cell_type": "code",
   "execution_count": 19,
   "id": "b8ee73f6",
   "metadata": {
    "execution": {
     "iopub.execute_input": "2023-02-01T20:48:34.295266Z",
     "iopub.status.busy": "2023-02-01T20:48:34.294814Z",
     "iopub.status.idle": "2023-02-01T20:48:34.785824Z",
     "shell.execute_reply": "2023-02-01T20:48:34.784184Z"
    },
    "papermill": {
     "duration": 0.572832,
     "end_time": "2023-02-01T20:48:34.790260",
     "exception": false,
     "start_time": "2023-02-01T20:48:34.217428",
     "status": "completed"
    },
    "tags": []
   },
   "outputs": [
    {
     "data": {
      "image/png": "[encoded data removed]",
      "text/plain": [
       "<Figure size 432x288 with 1 Axes>"
      ]
     },
     "metadata": {
      "needs_background": "light"
     },
     "output_type": "display_data"
    },
    {
     "name": "stdout",
     "output_type": "stream",
     "text": [
      "The actual label is 1\n",
      "40.75 % chances are there that the image is MCI\n"
     ]
    },
    {
     "data": {
      "image/png": "[encoded data removed]",
      "text/plain": [
       "<Figure size 432x288 with 1 Axes>"
      ]
     },
     "metadata": {
      "needs_background": "light"
     },
     "output_type": "display_data"
    }
   ],
   "source": [
    "#TEST CASE 2\n",
    "Test_image = valid_X[1]\n",
    "plt.imshow(Test_image[110], cmap='gray')\n",
    "plt.show()\n",
    "plt.axis('off')\n",
    "\n",
    "Test_image = np.expand_dims(Test_image, axis = 0)\n",
    "Result = model.predict(Test_image)\n",
    "Result_label=np.argmax(Result,axis=1)\n",
    "probability = round((maxProbability(model.predict(Test_image))*100),2)\n",
    "\n",
    "print('The actual label is',actual_label[1])\n",
    "if Result_label[0] == 0:\n",
    "    print(probability, '% chances are there that the image is AD')\n",
    "elif Result_label[0] == 1:\n",
    "    print(probability, '% chances are there that the image is CN')\n",
    "elif Result_label[0] == 2:\n",
    "    print(probability, '% chances are there that the image is MCI')"
   ]
  },
  {
   "cell_type": "code",
   "execution_count": 20,
   "id": "d3d25d76",
   "metadata": {
    "execution": {
     "iopub.execute_input": "2023-02-01T20:48:34.999789Z",
     "iopub.status.busy": "2023-02-01T20:48:34.998195Z",
     "iopub.status.idle": "2023-02-01T20:48:35.499671Z",
     "shell.execute_reply": "2023-02-01T20:48:35.497920Z"
    },
    "papermill": {
     "duration": 0.585854,
     "end_time": "2023-02-01T20:48:35.504242",
     "exception": false,
     "start_time": "2023-02-01T20:48:34.918388",
     "status": "completed"
    },
    "tags": []
   },
   "outputs": [
    {
     "data": {
      "image/png": "[encoded data removed]",
      "text/plain": [
       "<Figure size 432x288 with 1 Axes>"
      ]
     },
     "metadata": {
      "needs_background": "light"
     },
     "output_type": "display_data"
    },
    {
     "name": "stdout",
     "output_type": "stream",
     "text": [
      "The actual label is 1\n",
      "37.87 % chances are there that the image is MCI\n"
     ]
    },
    {
     "data": {
      "image/png": "[encoded data removed]",
      "text/plain": [
       "<Figure size 432x288 with 1 Axes>"
      ]
     },
     "metadata": {
      "needs_background": "light"
     },
     "output_type": "display_data"
    }
   ],
   "source": [
    "#TEST CASE 3\n",
    "Test_image = valid_X[2]\n",
    "plt.imshow(Test_image[110], cmap='gray')\n",
    "plt.show()\n",
    "plt.axis('off')\n",
    "\n",
    "Test_image = np.expand_dims(Test_image, axis = 0)\n",
    "Result = model.predict(Test_image)\n",
    "Result_label=np.argmax(Result,axis=1)\n",
    "probability = round((maxProbability(model.predict(Test_image))*100),2)\n",
    "\n",
    "print('The actual label is',actual_label[2])\n",
    "if Result_label[0] == 0:\n",
    "    print(probability, '% chances are there that the image is AD')\n",
    "elif Result_label[0] == 1:\n",
    "    print(probability, '% chances are there that the image is CN')\n",
    "elif Result_label[0] == 2:\n",
    "    print(probability, '% chances are there that the image is MCI')"
   ]
  },
  {
   "cell_type": "markdown",
   "id": "51bbcc4f",
   "metadata": {
    "papermill": {
     "duration": 0.077772,
     "end_time": "2023-02-01T20:48:35.696326",
     "exception": false,
     "start_time": "2023-02-01T20:48:35.618554",
     "status": "completed"
    },
    "tags": []
   },
   "source": [
    "# Grad Cam"
   ]
  },
  {
   "cell_type": "code",
   "execution_count": 21,
   "id": "d71a8e2d",
   "metadata": {
    "execution": {
     "iopub.execute_input": "2023-02-01T20:48:35.855862Z",
     "iopub.status.busy": "2023-02-01T20:48:35.855049Z",
     "iopub.status.idle": "2023-02-01T20:48:36.128397Z",
     "shell.execute_reply": "2023-02-01T20:48:36.127187Z"
    },
    "papermill": {
     "duration": 0.355949,
     "end_time": "2023-02-01T20:48:36.131083",
     "exception": false,
     "start_time": "2023-02-01T20:48:35.775134",
     "status": "completed"
    },
    "tags": []
   },
   "outputs": [],
   "source": [
    "import numpy as np\n",
    "import tensorflow as tf\n",
    "import torch\n",
    "import torch.nn as nn\n",
    "import torchvision\n",
    "from tensorflow import keras\n",
    "from IPython.display import Image, display\n",
    "import matplotlib.pyplot as plt\n",
    "import matplotlib.cm as cm\n",
    "from skimage.transform import resize"
   ]
  },
  {
   "cell_type": "code",
   "execution_count": 22,
   "id": "db5dc48d",
   "metadata": {
    "execution": {
     "iopub.execute_input": "2023-02-01T20:48:36.290307Z",
     "iopub.status.busy": "2023-02-01T20:48:36.289657Z",
     "iopub.status.idle": "2023-02-01T20:48:36.298056Z",
     "shell.execute_reply": "2023-02-01T20:48:36.296981Z"
    },
    "papermill": {
     "duration": 0.090482,
     "end_time": "2023-02-01T20:48:36.300366",
     "exception": false,
     "start_time": "2023-02-01T20:48:36.209884",
     "status": "completed"
    },
    "tags": []
   },
   "outputs": [],
   "source": [
    "def make_gradcam_heatmap(img_array, model, last_conv_layer_name, pred_index=None):\n",
    "    \n",
    "    #Give input to the model to get the output of the last conv layer and the predicted label\n",
    "    grad_model = tf.keras.models.Model(\n",
    "        [model.inputs], [model.get_layer(last_conv_layer_name).output, model.output])\n",
    "\n",
    "    with tf.GradientTape() as tape:\n",
    "        last_conv_layer_output, preds = grad_model(img_array)\n",
    "        if pred_index is None:\n",
    "            pred_index = tf.argmax(preds[0])\n",
    "        class_channel = preds[:, pred_index]\n",
    "\n",
    "    grads = tape.gradient(class_channel, last_conv_layer_output)\n",
    "    pooled_grads = tf.reduce_mean(grads, axis=(0, 1, 2))\n",
    "    last_conv_layer_output = last_conv_layer_output[0]\n",
    "    heatmap = last_conv_layer_output @ pooled_grads[..., tf.newaxis]\n",
    "    heatmap = tf.squeeze(heatmap)\n",
    "    heatmap = tf.maximum(heatmap, 0) / tf.math.reduce_max(heatmap)\n",
    "    \n",
    "    return heatmap.numpy()"
   ]
  },
  {
   "cell_type": "code",
   "execution_count": 23,
   "id": "727d2f31",
   "metadata": {
    "execution": {
     "iopub.execute_input": "2023-02-01T20:48:36.460838Z",
     "iopub.status.busy": "2023-02-01T20:48:36.460042Z",
     "iopub.status.idle": "2023-02-01T20:48:36.467648Z",
     "shell.execute_reply": "2023-02-01T20:48:36.466710Z"
    },
    "papermill": {
     "duration": 0.08989,
     "end_time": "2023-02-01T20:48:36.470249",
     "exception": false,
     "start_time": "2023-02-01T20:48:36.380359",
     "status": "completed"
    },
    "tags": []
   },
   "outputs": [],
   "source": [
    "def save_and_display_gradcam(img_array, heatmap, alpha=0.4):\n",
    "    \n",
    "    # Rescale heatmap to a range 0-255\n",
    "    heatmap = np.uint8(255 * heatmap)\n",
    "    \n",
    "    # Use jet colormap to colorize heatmap\n",
    "    jet = cm.get_cmap(\"jet\")\n",
    "\n",
    "    # Use RGB values of the colormap\n",
    "    jet_colors = jet(np.arange(256))[:, :3]\n",
    "    jet_heatmap = jet_colors[heatmap]\n",
    "\n",
    "    # Create an image with RGB colorized heatmap\n",
    "    jet_heatmap = keras.preprocessing.image.array_to_img(jet_heatmap)\n",
    "    jet_heatmap = jet_heatmap.resize(256,256)\n",
    "    jet_heatmap = keras.preprocessing.image.img_to_array(jet_heatmap)\n",
    "\n",
    "    # Superimpose the heatmap on original image\n",
    "    superimposed_img = jet_heatmap * alpha + img_array\n",
    "    superimposed_img = keras.preprocessing.image.array_to_img(superimposed_img)\n",
    "\n",
    "    # Display Grad CAM\n",
    "    plt.imshow(superimposed_img,cmap=\"gray\")\n",
    "    plt.show()"
   ]
  },
  {
   "cell_type": "code",
   "execution_count": 24,
   "id": "0ec3e805",
   "metadata": {
    "execution": {
     "iopub.execute_input": "2023-02-01T20:48:36.629590Z",
     "iopub.status.busy": "2023-02-01T20:48:36.628827Z",
     "iopub.status.idle": "2023-02-01T20:48:36.635664Z",
     "shell.execute_reply": "2023-02-01T20:48:36.634599Z"
    },
    "papermill": {
     "duration": 0.088945,
     "end_time": "2023-02-01T20:48:36.637954",
     "exception": false,
     "start_time": "2023-02-01T20:48:36.549009",
     "status": "completed"
    },
    "tags": []
   },
   "outputs": [
    {
     "data": {
      "text/plain": [
       "'images_array_R=[]\\nimage_path_test = \"../input/adni-tissueseg-gm-labelled/AD_GM/intermediatefileADNI_094_S_1397_MR_MPR-R__GradWarp__B1_Correction__N3__Scaled_Br_20080307104443256_S31011_I95662_pve_1.nii\"\\nsitk_image_R= sitk.ReadImage(image_path_test)\\nsitk_image_array = sitk.GetArrayFromImage(sitk_image_R)\\nsitk_image_array_Transposed = np.transpose(sitk_image_array)\\nsitk_image_array_Transposed = sitk_image_array_Transposed[...,np.newaxis]\\nimages_array_R.append(sitk_image_array_Transposed)\\nflippedArray = np.rot90(images_array_R[0])\\nplt.imshow(flippedArray[70],cmap=\"gray\")\\nplt.show()'"
      ]
     },
     "execution_count": 24,
     "metadata": {},
     "output_type": "execute_result"
    }
   ],
   "source": [
    "'''images_array_R=[]\n",
    "image_path_test = \"../input/adni-tissueseg-gm-labelled/AD_GM/intermediatefileADNI_094_S_1397_MR_MPR-R__GradWarp__B1_Correction__N3__Scaled_Br_20080307104443256_S31011_I95662_pve_1.nii\"\n",
    "sitk_image_R= sitk.ReadImage(image_path_test)\n",
    "sitk_image_array = sitk.GetArrayFromImage(sitk_image_R)\n",
    "sitk_image_array_Transposed = np.transpose(sitk_image_array)\n",
    "sitk_image_array_Transposed = sitk_image_array_Transposed[...,np.newaxis]\n",
    "images_array_R.append(sitk_image_array_Transposed)\n",
    "flippedArray = np.rot90(images_array_R[0])\n",
    "plt.imshow(flippedArray[70],cmap=\"gray\")\n",
    "plt.show()'''"
   ]
  },
  {
   "cell_type": "code",
   "execution_count": 25,
   "id": "abbd7de4",
   "metadata": {
    "execution": {
     "iopub.execute_input": "2023-02-01T20:48:36.800472Z",
     "iopub.status.busy": "2023-02-01T20:48:36.799718Z",
     "iopub.status.idle": "2023-02-01T20:48:36.805978Z",
     "shell.execute_reply": "2023-02-01T20:48:36.804969Z"
    },
    "papermill": {
     "duration": 0.089127,
     "end_time": "2023-02-01T20:48:36.808275",
     "exception": false,
     "start_time": "2023-02-01T20:48:36.719148",
     "status": "completed"
    },
    "tags": []
   },
   "outputs": [
    {
     "data": {
      "text/plain": [
       "\"images_array_R = np.array(images_array_R)\\nprint(images_array_R.shape)\\nResult = model.predict(images_array_R)\\nResult_label=np.argmax(Result,axis=1) \\nprobability = round((maxProbability(model.predict(images_array_R))*100),2)\\n\\nprint('The actual label is 0')\\nif Result_label[0] == 0:\\n    print(probability, '% chances are there that the image is AD')\\nelif Result_label[0] == 1:\\n    print(probability, '% chances are there that the image is CN')\\nelif Result_label[0] == 2:\\n    print(probability, '% chances are there that the image is MCI')\""
      ]
     },
     "execution_count": 25,
     "metadata": {},
     "output_type": "execute_result"
    }
   ],
   "source": [
    "'''images_array_R = np.array(images_array_R)\n",
    "print(images_array_R.shape)\n",
    "Result = model.predict(images_array_R)\n",
    "Result_label=np.argmax(Result,axis=1) \n",
    "probability = round((maxProbability(model.predict(images_array_R))*100),2)\n",
    "\n",
    "print('The actual label is 0')\n",
    "if Result_label[0] == 0:\n",
    "    print(probability, '% chances are there that the image is AD')\n",
    "elif Result_label[0] == 1:\n",
    "    print(probability, '% chances are there that the image is CN')\n",
    "elif Result_label[0] == 2:\n",
    "    print(probability, '% chances are there that the image is MCI')'''\n",
    "\n",
    "    \n",
    "\n"
   ]
  },
  {
   "cell_type": "code",
   "execution_count": 26,
   "id": "71ba8794",
   "metadata": {
    "execution": {
     "iopub.execute_input": "2023-02-01T20:48:36.972190Z",
     "iopub.status.busy": "2023-02-01T20:48:36.971772Z",
     "iopub.status.idle": "2023-02-01T20:48:36.978833Z",
     "shell.execute_reply": "2023-02-01T20:48:36.977962Z"
    },
    "papermill": {
     "duration": 0.09177,
     "end_time": "2023-02-01T20:48:36.980870",
     "exception": false,
     "start_time": "2023-02-01T20:48:36.889100",
     "status": "completed"
    },
    "tags": []
   },
   "outputs": [
    {
     "data": {
      "text/plain": [
       "'sitk_image_array_Transposed=tf.expand_dims(sitk_image_array_Transposed, axis=0)\\nlast_conv_layer_name = \"conv3d_1\"\\n\\ngrad_model = tf.keras.models.Model(\\n        [model.inputs], [model.get_layer(last_conv_layer_name).output, model.output])\\n\\nwith tf.GradientTape() as tape:\\n    conv_outputs, predictions = grad_model(sitk_image_array_Transposed)\\n    loss = predictions[:,0]\\n    \\noutput = conv_outputs[0]\\ngrads = tape.gradient(loss, conv_outputs)[0]\\n\\nweights = tf.reduce_mean(grads, axis=(0, 1,2))\\ncam = np.zeros(output.shape[0:3], dtype=np.float32)\\nfor index, w in enumerate(weights):\\n    cam += w * output[:, :, :, index]\\n    \\ncapi=resize(cam,(166,256,256))\\ncapi = np.maximum(capi,0)\\nheatmap = (capi - capi.min()) / (capi.max() - capi.min())\\n\\nslice_count=70\\n    \\naxial_ct_img=np.squeeze(sitk_image_array_Transposed[slice_count, :,:])\\naxial_grad_cmap_img=np.squeeze(heatmap[slice_count,:, :])\\n\\ncoronal_ct_img=np.squeeze(resized_img[:,slice_count2,:])\\ncoronal_grad_cmap_img=np.squeeze(heatmap[:,slice_count2,:]) \\n\\nimg_plot = axarr[0,0].imshow(coronal_ct_img, cmap=\\'gray\\')\\n#heatmap = make_gradcam_heatmap(images_array_R, model, last_conv_layer_name)\\n#save_and_display_gradcam(images_array_R[0][70], heatmap)'"
      ]
     },
     "execution_count": 26,
     "metadata": {},
     "output_type": "execute_result"
    }
   ],
   "source": [
    "'''sitk_image_array_Transposed=tf.expand_dims(sitk_image_array_Transposed, axis=0)\n",
    "last_conv_layer_name = \"conv3d_1\"\n",
    "\n",
    "grad_model = tf.keras.models.Model(\n",
    "        [model.inputs], [model.get_layer(last_conv_layer_name).output, model.output])\n",
    "\n",
    "with tf.GradientTape() as tape:\n",
    "    conv_outputs, predictions = grad_model(sitk_image_array_Transposed)\n",
    "    loss = predictions[:,0]\n",
    "    \n",
    "output = conv_outputs[0]\n",
    "grads = tape.gradient(loss, conv_outputs)[0]\n",
    "\n",
    "weights = tf.reduce_mean(grads, axis=(0, 1,2))\n",
    "cam = np.zeros(output.shape[0:3], dtype=np.float32)\n",
    "for index, w in enumerate(weights):\n",
    "    cam += w * output[:, :, :, index]\n",
    "    \n",
    "capi=resize(cam,(166,256,256))\n",
    "capi = np.maximum(capi,0)\n",
    "heatmap = (capi - capi.min()) / (capi.max() - capi.min())\n",
    "\n",
    "slice_count=70\n",
    "    \n",
    "axial_ct_img=np.squeeze(sitk_image_array_Transposed[slice_count, :,:])\n",
    "axial_grad_cmap_img=np.squeeze(heatmap[slice_count,:, :])\n",
    "\n",
    "coronal_ct_img=np.squeeze(resized_img[:,slice_count2,:])\n",
    "coronal_grad_cmap_img=np.squeeze(heatmap[:,slice_count2,:]) \n",
    "\n",
    "img_plot = axarr[0,0].imshow(coronal_ct_img, cmap='gray')\n",
    "#heatmap = make_gradcam_heatmap(images_array_R, model, last_conv_layer_name)\n",
    "#save_and_display_gradcam(images_array_R[0][70], heatmap)'''"
   ]
  },
  {
   "cell_type": "markdown",
   "id": "2d38e851",
   "metadata": {
    "papermill": {
     "duration": 0.078519,
     "end_time": "2023-02-01T20:48:37.138673",
     "exception": false,
     "start_time": "2023-02-01T20:48:37.060154",
     "status": "completed"
    },
    "tags": []
   },
   "source": [
    "# Save Model "
   ]
  },
  {
   "cell_type": "code",
   "execution_count": 27,
   "id": "49be5b88",
   "metadata": {
    "execution": {
     "iopub.execute_input": "2023-02-01T20:48:37.298727Z",
     "iopub.status.busy": "2023-02-01T20:48:37.297965Z",
     "iopub.status.idle": "2023-02-01T20:48:37.973771Z",
     "shell.execute_reply": "2023-02-01T20:48:37.972385Z"
    },
    "papermill": {
     "duration": 0.759411,
     "end_time": "2023-02-01T20:48:37.976946",
     "exception": false,
     "start_time": "2023-02-01T20:48:37.217535",
     "status": "completed"
    },
    "tags": []
   },
   "outputs": [],
   "source": [
    "from tensorflow.keras.models import save_model\n",
    "model.save('/kaggle/working/Modelling_MRI.h5')"
   ]
  },
  {
   "cell_type": "markdown",
   "id": "f0175dc3",
   "metadata": {
    "papermill": {
     "duration": 0.078727,
     "end_time": "2023-02-01T20:48:38.134566",
     "exception": false,
     "start_time": "2023-02-01T20:48:38.055839",
     "status": "completed"
    },
    "tags": []
   },
   "source": [
    "# SVM RBF"
   ]
  },
  {
   "cell_type": "code",
   "execution_count": 28,
   "id": "e2b676f0",
   "metadata": {
    "execution": {
     "iopub.execute_input": "2023-02-01T20:48:38.301589Z",
     "iopub.status.busy": "2023-02-01T20:48:38.300424Z",
     "iopub.status.idle": "2023-02-01T20:49:11.216604Z",
     "shell.execute_reply": "2023-02-01T20:49:11.215227Z"
    },
    "papermill": {
     "duration": 33.001774,
     "end_time": "2023-02-01T20:49:11.219549",
     "exception": false,
     "start_time": "2023-02-01T20:48:38.217775",
     "status": "completed"
    },
    "tags": []
   },
   "outputs": [
    {
     "name": "stderr",
     "output_type": "stream",
     "text": [
      "/opt/conda/lib/python3.7/site-packages/keras/engine/training.py:2470: UserWarning: `Model.state_updates` will be removed in a future version. This property should not be used in TensorFlow 2.0, as `updates` are applied automatically.\n",
      "  warnings.warn('`Model.state_updates` will be removed in a future version. '\n"
     ]
    }
   ],
   "source": [
    "model_features = Model(inputs=model.input,outputs=model.get_layer('dense_2').output)\n",
    "\n",
    "features_train = model_features.predict(train_X)\n",
    "features_validate = model_features.predict(valid_X)"
   ]
  },
  {
   "cell_type": "code",
   "execution_count": 29,
   "id": "d8419dbb",
   "metadata": {
    "execution": {
     "iopub.execute_input": "2023-02-01T20:49:11.385304Z",
     "iopub.status.busy": "2023-02-01T20:49:11.384630Z",
     "iopub.status.idle": "2023-02-01T20:49:12.052146Z",
     "shell.execute_reply": "2023-02-01T20:49:12.050284Z"
    },
    "papermill": {
     "duration": 0.751964,
     "end_time": "2023-02-01T20:49:12.055070",
     "exception": false,
     "start_time": "2023-02-01T20:49:11.303106",
     "status": "completed"
    },
    "tags": []
   },
   "outputs": [
    {
     "name": "stdout",
     "output_type": "stream",
     "text": [
      "The best gamma is: scale\n",
      "The best C is: 10\n",
      "The cross validation score is: [0.79166667 0.875      0.83333333 0.91666667 0.95833333 0.91666667\n",
      " 1.         0.91304348 0.7826087  0.86956522]\n",
      "The accuracy is : 88.56884057971014\n"
     ]
    }
   ],
   "source": [
    "from sklearn.model_selection import KFold,cross_val_score\n",
    "from sklearn.model_selection import GridSearchCV\n",
    "from sklearn.svm import SVC\n",
    "\n",
    "SVM_KFold= KFold(n_splits=10,shuffle=True,random_state=3)\n",
    "svm = SVC(kernel='rbf')\n",
    "hyperparameters= {'gamma':[\"auto\", \"scale\"],'C': [0.001, 0.1, 1, 10]}\n",
    "bestModelFound=GridSearchCV(svm,hyperparameters,cv=SVM_KFold)\n",
    "bestModelFound.fit(features_train,np.argmax(train_Y,axis=1))\n",
    "\n",
    "\n",
    "bestGamma = bestModelFound.best_params_.get('gamma')\n",
    "print(\"The best gamma is:\",bestGamma)\n",
    "bestC = bestModelFound.best_params_.get('C')\n",
    "print(\"The best C is:\",bestC)\n",
    "results= cross_val_score(SVC(kernel='rbf',gamma=bestGamma,C=bestC),features_train,np.argmax(train_Y,axis=1),cv=10)\n",
    "print(\"The cross validation score is:\",results)\n",
    "print(\"The accuracy is :\",results.mean()*100)"
   ]
  },
  {
   "cell_type": "code",
   "execution_count": 30,
   "id": "7fe557f5",
   "metadata": {
    "execution": {
     "iopub.execute_input": "2023-02-01T20:49:12.215887Z",
     "iopub.status.busy": "2023-02-01T20:49:12.215075Z",
     "iopub.status.idle": "2023-02-01T20:49:12.239790Z",
     "shell.execute_reply": "2023-02-01T20:49:12.238840Z"
    },
    "papermill": {
     "duration": 0.108371,
     "end_time": "2023-02-01T20:49:12.242336",
     "exception": false,
     "start_time": "2023-02-01T20:49:12.133965",
     "status": "completed"
    },
    "tags": []
   },
   "outputs": [
    {
     "data": {
      "text/plain": [
       "SVC(C=10, probability=True)"
      ]
     },
     "execution_count": 30,
     "metadata": {},
     "output_type": "execute_result"
    }
   ],
   "source": [
    "SVM_Used =SVC(kernel='rbf',gamma=bestGamma,C=bestC,probability=True)\n",
    "SVM_Used.fit(features_train,np.argmax(train_Y,axis=1))"
   ]
  },
  {
   "cell_type": "markdown",
   "id": "b81fd4fd",
   "metadata": {
    "papermill": {
     "duration": 0.081915,
     "end_time": "2023-02-01T20:49:12.407204",
     "exception": false,
     "start_time": "2023-02-01T20:49:12.325289",
     "status": "completed"
    },
    "tags": []
   },
   "source": [
    "# Prediction"
   ]
  },
  {
   "cell_type": "code",
   "execution_count": 31,
   "id": "97eb50ff",
   "metadata": {
    "execution": {
     "iopub.execute_input": "2023-02-01T20:49:12.572336Z",
     "iopub.status.busy": "2023-02-01T20:49:12.571495Z",
     "iopub.status.idle": "2023-02-01T20:49:12.578229Z",
     "shell.execute_reply": "2023-02-01T20:49:12.576975Z"
    },
    "papermill": {
     "duration": 0.092303,
     "end_time": "2023-02-01T20:49:12.580739",
     "exception": false,
     "start_time": "2023-02-01T20:49:12.488436",
     "status": "completed"
    },
    "tags": []
   },
   "outputs": [],
   "source": [
    "SVM_pred_label = SVM_Used.predict(features_validate) #return learning labels \n",
    "SVM_actual_label=np.argmax(valid_Y,axis=1)"
   ]
  },
  {
   "cell_type": "markdown",
   "id": "185b9274",
   "metadata": {
    "papermill": {
     "duration": 0.07897,
     "end_time": "2023-02-01T20:49:12.739117",
     "exception": false,
     "start_time": "2023-02-01T20:49:12.660147",
     "status": "completed"
    },
    "tags": []
   },
   "source": [
    "# Labelling"
   ]
  },
  {
   "cell_type": "code",
   "execution_count": 32,
   "id": "da9fd4e8",
   "metadata": {
    "execution": {
     "iopub.execute_input": "2023-02-01T20:49:12.904257Z",
     "iopub.status.busy": "2023-02-01T20:49:12.903490Z",
     "iopub.status.idle": "2023-02-01T20:49:12.908069Z",
     "shell.execute_reply": "2023-02-01T20:49:12.907203Z"
    },
    "papermill": {
     "duration": 0.089197,
     "end_time": "2023-02-01T20:49:12.910121",
     "exception": false,
     "start_time": "2023-02-01T20:49:12.820924",
     "status": "completed"
    },
    "tags": []
   },
   "outputs": [],
   "source": [
    "label_name=[\"AD\",\"CN\",\"MCI\"]"
   ]
  },
  {
   "cell_type": "markdown",
   "id": "514c7c36",
   "metadata": {
    "papermill": {
     "duration": 0.078731,
     "end_time": "2023-02-01T20:49:13.068131",
     "exception": false,
     "start_time": "2023-02-01T20:49:12.989400",
     "status": "completed"
    },
    "tags": []
   },
   "source": [
    "# Confusion Matrix"
   ]
  },
  {
   "cell_type": "code",
   "execution_count": 33,
   "id": "2061be71",
   "metadata": {
    "execution": {
     "iopub.execute_input": "2023-02-01T20:49:13.228310Z",
     "iopub.status.busy": "2023-02-01T20:49:13.227559Z",
     "iopub.status.idle": "2023-02-01T20:49:13.497252Z",
     "shell.execute_reply": "2023-02-01T20:49:13.496407Z"
    },
    "papermill": {
     "duration": 0.352105,
     "end_time": "2023-02-01T20:49:13.499305",
     "exception": false,
     "start_time": "2023-02-01T20:49:13.147200",
     "status": "completed"
    },
    "tags": []
   },
   "outputs": [
    {
     "data": {
      "image/png": "[encoded data removed]",
      "text/plain": [
       "<Figure size 432x288 with 2 Axes>"
      ]
     },
     "metadata": {
      "needs_background": "light"
     },
     "output_type": "display_data"
    }
   ],
   "source": [
    "from sklearn.metrics import confusion_matrix\n",
    "ConfusionMatrix = confusion_matrix(SVM_actual_label, SVM_pred_label)\n",
    "sns.heatmap(ConfusionMatrix, annot=True, fmt=\"d\", cmap=\"Greens\", xticklabels=label_name, yticklabels=label_name)\n",
    "plt.title(\"Confusion Matrix\\n\")\n",
    "plt.ylabel('Actual')\n",
    "plt.xlabel('Predicted')\n",
    "plt.show()"
   ]
  },
  {
   "cell_type": "markdown",
   "id": "81a09e34",
   "metadata": {
    "papermill": {
     "duration": 0.079559,
     "end_time": "2023-02-01T20:49:13.658499",
     "exception": false,
     "start_time": "2023-02-01T20:49:13.578940",
     "status": "completed"
    },
    "tags": []
   },
   "source": [
    "# Classification Report"
   ]
  },
  {
   "cell_type": "code",
   "execution_count": 34,
   "id": "a1ddc250",
   "metadata": {
    "execution": {
     "iopub.execute_input": "2023-02-01T20:49:13.819696Z",
     "iopub.status.busy": "2023-02-01T20:49:13.818387Z",
     "iopub.status.idle": "2023-02-01T20:49:13.829189Z",
     "shell.execute_reply": "2023-02-01T20:49:13.827553Z"
    },
    "papermill": {
     "duration": 0.094787,
     "end_time": "2023-02-01T20:49:13.832400",
     "exception": false,
     "start_time": "2023-02-01T20:49:13.737613",
     "status": "completed"
    },
    "tags": []
   },
   "outputs": [
    {
     "name": "stdout",
     "output_type": "stream",
     "text": [
      "              precision    recall  f1-score   support\n",
      "\n",
      "          AD       0.88      0.74      0.80        19\n",
      "          CN       0.65      0.65      0.65        20\n",
      "         MCI       0.71      0.81      0.76        21\n",
      "\n",
      "    accuracy                           0.73        60\n",
      "   macro avg       0.74      0.73      0.74        60\n",
      "weighted avg       0.74      0.73      0.73        60\n",
      "\n"
     ]
    }
   ],
   "source": [
    "from sklearn.metrics import classification_report\n",
    "print(classification_report(SVM_actual_label, SVM_pred_label, target_names=[\"AD\",\"CN\",\"MCI\"]))"
   ]
  },
  {
   "cell_type": "markdown",
   "id": "9fcca63d",
   "metadata": {
    "papermill": {
     "duration": 0.080105,
     "end_time": "2023-02-01T20:49:13.993760",
     "exception": false,
     "start_time": "2023-02-01T20:49:13.913655",
     "status": "completed"
    },
    "tags": []
   },
   "source": [
    "# Probabilities Testing"
   ]
  },
  {
   "cell_type": "code",
   "execution_count": 35,
   "id": "55f50ad2",
   "metadata": {
    "execution": {
     "iopub.execute_input": "2023-02-01T20:49:14.158978Z",
     "iopub.status.busy": "2023-02-01T20:49:14.158190Z",
     "iopub.status.idle": "2023-02-01T20:49:14.539543Z",
     "shell.execute_reply": "2023-02-01T20:49:14.538662Z"
    },
    "papermill": {
     "duration": 0.470963,
     "end_time": "2023-02-01T20:49:14.546942",
     "exception": false,
     "start_time": "2023-02-01T20:49:14.075979",
     "status": "completed"
    },
    "tags": []
   },
   "outputs": [
    {
     "data": {
      "image/png": "[encoded data removed]",
      "text/plain": [
       "<Figure size 432x288 with 1 Axes>"
      ]
     },
     "metadata": {
      "needs_background": "light"
     },
     "output_type": "display_data"
    },
    {
     "name": "stdout",
     "output_type": "stream",
     "text": [
      "[[0.09439455 0.00249546 0.90310999]]\n",
      "The actual label is 2\n",
      "90.31 % chances are there that the image is MCI\n"
     ]
    },
    {
     "data": {
      "image/png": "[encoded data removed]",
      "text/plain": [
       "<Figure size 432x288 with 1 Axes>"
      ]
     },
     "metadata": {
      "needs_background": "light"
     },
     "output_type": "display_data"
    }
   ],
   "source": [
    "#TEST CASE 1\n",
    "Test_image = valid_X[0]\n",
    "plt.imshow(Test_image[110], cmap='gray')\n",
    "plt.show()\n",
    "plt.axis('off')\n",
    "\n",
    "Test_image = np.expand_dims(Test_image, axis = 0)\n",
    "CNN_Result = model_features.predict(Test_image)\n",
    "SVM_Result = SVM_Used.predict(CNN_Result)\n",
    "\n",
    "print(SVM_Used.predict_proba(CNN_Result))\n",
    "\n",
    "probability = round((maxProbability(SVM_Used.predict_proba(CNN_Result))*100),2)\n",
    "\n",
    "print('The actual label is',SVM_actual_label[0])\n",
    "if SVM_Result[0] == 0:\n",
    "    print(probability, '% chances are there that the image is AD')\n",
    "elif SVM_Result[0] == 1:\n",
    "    print(probability, '% chances are there that the image is CN')\n",
    "elif SVM_Result[0] == 2:\n",
    "    print(probability, '% chances are there that the image is MCI')"
   ]
  },
  {
   "cell_type": "code",
   "execution_count": 36,
   "id": "c0083d33",
   "metadata": {
    "execution": {
     "iopub.execute_input": "2023-02-01T20:49:14.750726Z",
     "iopub.status.busy": "2023-02-01T20:49:14.750036Z",
     "iopub.status.idle": "2023-02-01T20:49:15.141009Z",
     "shell.execute_reply": "2023-02-01T20:49:15.139250Z"
    },
    "papermill": {
     "duration": 0.479787,
     "end_time": "2023-02-01T20:49:15.146482",
     "exception": false,
     "start_time": "2023-02-01T20:49:14.666695",
     "status": "completed"
    },
    "tags": []
   },
   "outputs": [
    {
     "data": {
      "image/png": "[encoded data removed]",
      "text/plain": [
       "<Figure size 432x288 with 1 Axes>"
      ]
     },
     "metadata": {
      "needs_background": "light"
     },
     "output_type": "display_data"
    },
    {
     "name": "stdout",
     "output_type": "stream",
     "text": [
      "The actual label is 1\n",
      "92.85 % chances are there that the image is CN\n"
     ]
    },
    {
     "data": {
      "image/png": "[encoded data removed]",
      "text/plain": [
       "<Figure size 432x288 with 1 Axes>"
      ]
     },
     "metadata": {
      "needs_background": "light"
     },
     "output_type": "display_data"
    }
   ],
   "source": [
    "#TEST CASE 2\n",
    "Test_image = valid_X[1]\n",
    "plt.imshow(Test_image[110], cmap='gray')\n",
    "plt.show()\n",
    "plt.axis('off')\n",
    "\n",
    "Test_image = np.expand_dims(Test_image, axis = 0)\n",
    "CNN_Result = model_features.predict(Test_image)\n",
    "SVM_Result = SVM_Used.predict(CNN_Result)\n",
    "\n",
    "probability = round((maxProbability(SVM_Used.predict_proba(CNN_Result))*100),2)\n",
    "\n",
    "print('The actual label is',SVM_actual_label[1])\n",
    "if SVM_Result[0] == 0:\n",
    "    print(probability, '% chances are there that the image is AD')\n",
    "elif SVM_Result[0] == 1:\n",
    "    print(probability, '% chances are there that the image is CN')\n",
    "elif SVM_Result[0] == 2:\n",
    "    print(probability, '% chances are there that the image is MCI')"
   ]
  },
  {
   "cell_type": "code",
   "execution_count": 37,
   "id": "fa0b52d2",
   "metadata": {
    "execution": {
     "iopub.execute_input": "2023-02-01T20:49:15.348337Z",
     "iopub.status.busy": "2023-02-01T20:49:15.347150Z",
     "iopub.status.idle": "2023-02-01T20:49:15.729651Z",
     "shell.execute_reply": "2023-02-01T20:49:15.728002Z"
    },
    "papermill": {
     "duration": 0.47229,
     "end_time": "2023-02-01T20:49:15.736322",
     "exception": false,
     "start_time": "2023-02-01T20:49:15.264032",
     "status": "completed"
    },
    "tags": []
   },
   "outputs": [
    {
     "data": {
      "image/png": "[encoded data removed]",
      "text/plain": [
       "<Figure size 432x288 with 1 Axes>"
      ]
     },
     "metadata": {
      "needs_background": "light"
     },
     "output_type": "display_data"
    },
    {
     "name": "stdout",
     "output_type": "stream",
     "text": [
      "The actual label is 1\n",
      "86.94 % chances are there that the image is CN\n"
     ]
    },
    {
     "data": {
      "image/png": "[encoded data removed]",
      "text/plain": [
       "<Figure size 432x288 with 1 Axes>"
      ]
     },
     "metadata": {
      "needs_background": "light"
     },
     "output_type": "display_data"
    }
   ],
   "source": [
    "#TEST CASE 3\n",
    "Test_image = valid_X[2]\n",
    "plt.imshow(Test_image[110], cmap='gray')\n",
    "plt.show()\n",
    "plt.axis('off')\n",
    "\n",
    "Test_image = np.expand_dims(Test_image, axis = 0)\n",
    "CNN_Result = model_features.predict(Test_image)\n",
    "SVM_Result = SVM_Used.predict(CNN_Result)\n",
    "\n",
    "probability = round((maxProbability(SVM_Used.predict_proba(CNN_Result))*100),2)\n",
    "\n",
    "print('The actual label is',SVM_actual_label[2])\n",
    "if SVM_Result[0] == 0:\n",
    "    print(probability, '% chances are there that the image is AD')\n",
    "elif SVM_Result[0] == 1:\n",
    "    print(probability, '% chances are there that the image is CN')\n",
    "elif SVM_Result[0] == 2:\n",
    "    print(probability, '% chances are there that the image is MCI')"
   ]
  },
  {
   "cell_type": "markdown",
   "id": "06b66830",
   "metadata": {
    "papermill": {
     "duration": 0.085205,
     "end_time": "2023-02-01T20:49:15.945068",
     "exception": false,
     "start_time": "2023-02-01T20:49:15.859863",
     "status": "completed"
    },
    "tags": []
   },
   "source": [
    "# SVM Poly"
   ]
  },
  {
   "cell_type": "code",
   "execution_count": 38,
   "id": "1e776545",
   "metadata": {
    "execution": {
     "iopub.execute_input": "2023-02-01T20:49:16.115120Z",
     "iopub.status.busy": "2023-02-01T20:49:16.113922Z",
     "iopub.status.idle": "2023-02-01T20:49:17.221128Z",
     "shell.execute_reply": "2023-02-01T20:49:17.219333Z"
    },
    "papermill": {
     "duration": 1.195627,
     "end_time": "2023-02-01T20:49:17.224328",
     "exception": false,
     "start_time": "2023-02-01T20:49:16.028701",
     "status": "completed"
    },
    "tags": []
   },
   "outputs": [
    {
     "name": "stdout",
     "output_type": "stream",
     "text": [
      "The best degree is: 4\n",
      "The best C is: 0.1\n",
      "The best degree is: 4\n",
      "The best coef is: 10\n",
      "The cross validation score is: [0.875      0.875      0.875      0.91666667 1.         0.91666667\n",
      " 0.95833333 0.86956522 0.91304348 0.86956522]\n",
      "The accuracy is : 90.68840579710144\n"
     ]
    }
   ],
   "source": [
    "from sklearn.model_selection import KFold,cross_val_score\n",
    "from sklearn.model_selection import GridSearchCV\n",
    "from sklearn.svm import SVC\n",
    "\n",
    "SVM_Poly_KFold= KFold(n_splits=10,shuffle=True,random_state=3)\n",
    "svmPoly = SVC(kernel='poly')\n",
    "hyperparameters= {'degree':[2,3,4],'C': [0.001, 0.1, 1, 10],'coef0':[1, 10]}\n",
    "bestModelFound=GridSearchCV(svmPoly,hyperparameters,cv=SVM_Poly_KFold)\n",
    "bestModelFound.fit(features_train,np.argmax(train_Y,axis=1))\n",
    "\n",
    "\n",
    "bestDegree = bestModelFound.best_params_.get('degree')\n",
    "print(\"The best degree is:\",bestDegree)\n",
    "bestC = bestModelFound.best_params_.get('C')\n",
    "print(\"The best C is:\",bestC)\n",
    "bestDegree = bestModelFound.best_params_.get('degree')\n",
    "print(\"The best degree is:\",bestDegree)\n",
    "bestCoef = bestModelFound.best_params_.get('coef0')\n",
    "print(\"The best coef is:\",bestCoef)\n",
    "results= cross_val_score(SVC(kernel='poly',degree=bestDegree,C=bestC,coef0=bestCoef),features_train,np.argmax(train_Y,axis=1),cv=10)\n",
    "print(\"The cross validation score is:\",results)\n",
    "print(\"The accuracy is :\",results.mean()*100)"
   ]
  },
  {
   "cell_type": "code",
   "execution_count": 39,
   "id": "701ce4dc",
   "metadata": {
    "execution": {
     "iopub.execute_input": "2023-02-01T20:49:17.398805Z",
     "iopub.status.busy": "2023-02-01T20:49:17.398324Z",
     "iopub.status.idle": "2023-02-01T20:49:17.415543Z",
     "shell.execute_reply": "2023-02-01T20:49:17.414391Z"
    },
    "papermill": {
     "duration": 0.108207,
     "end_time": "2023-02-01T20:49:17.417821",
     "exception": false,
     "start_time": "2023-02-01T20:49:17.309614",
     "status": "completed"
    },
    "tags": []
   },
   "outputs": [
    {
     "data": {
      "text/plain": [
       "SVC(C=0.1, coef0=10, degree=4, kernel='poly', probability=True)"
      ]
     },
     "execution_count": 39,
     "metadata": {},
     "output_type": "execute_result"
    }
   ],
   "source": [
    "SVM_Used_Poly =SVC(kernel='poly',degree=bestDegree,C=bestC,coef0=bestCoef,probability=True)\n",
    "SVM_Used_Poly.fit(features_train,np.argmax(train_Y,axis=1))"
   ]
  },
  {
   "cell_type": "markdown",
   "id": "d0c31937",
   "metadata": {
    "papermill": {
     "duration": 0.08346,
     "end_time": "2023-02-01T20:49:17.585841",
     "exception": false,
     "start_time": "2023-02-01T20:49:17.502381",
     "status": "completed"
    },
    "tags": []
   },
   "source": [
    "# Prediction"
   ]
  },
  {
   "cell_type": "code",
   "execution_count": 40,
   "id": "e9aee451",
   "metadata": {
    "execution": {
     "iopub.execute_input": "2023-02-01T20:49:17.772166Z",
     "iopub.status.busy": "2023-02-01T20:49:17.771493Z",
     "iopub.status.idle": "2023-02-01T20:49:17.776941Z",
     "shell.execute_reply": "2023-02-01T20:49:17.775860Z"
    },
    "papermill": {
     "duration": 0.108003,
     "end_time": "2023-02-01T20:49:17.779395",
     "exception": false,
     "start_time": "2023-02-01T20:49:17.671392",
     "status": "completed"
    },
    "tags": []
   },
   "outputs": [],
   "source": [
    "SVM_Poly_pred_label = SVM_Used_Poly.predict(features_validate) #return learning labels \n",
    "SVM_Poly_actual_label=np.argmax(valid_Y,axis=1)"
   ]
  },
  {
   "cell_type": "markdown",
   "id": "51f7fc68",
   "metadata": {
    "papermill": {
     "duration": 0.083582,
     "end_time": "2023-02-01T20:49:17.947061",
     "exception": false,
     "start_time": "2023-02-01T20:49:17.863479",
     "status": "completed"
    },
    "tags": []
   },
   "source": [
    "# Labelling"
   ]
  },
  {
   "cell_type": "code",
   "execution_count": 41,
   "id": "f2bcb45c",
   "metadata": {
    "execution": {
     "iopub.execute_input": "2023-02-01T20:49:18.117507Z",
     "iopub.status.busy": "2023-02-01T20:49:18.117081Z",
     "iopub.status.idle": "2023-02-01T20:49:18.122057Z",
     "shell.execute_reply": "2023-02-01T20:49:18.120888Z"
    },
    "papermill": {
     "duration": 0.094317,
     "end_time": "2023-02-01T20:49:18.124543",
     "exception": false,
     "start_time": "2023-02-01T20:49:18.030226",
     "status": "completed"
    },
    "tags": []
   },
   "outputs": [],
   "source": [
    "label_name=[\"AD\",\"CN\",\"MCI\"]"
   ]
  },
  {
   "cell_type": "markdown",
   "id": "27e9243d",
   "metadata": {
    "papermill": {
     "duration": 0.086264,
     "end_time": "2023-02-01T20:49:18.295779",
     "exception": false,
     "start_time": "2023-02-01T20:49:18.209515",
     "status": "completed"
    },
    "tags": []
   },
   "source": [
    "# Confusion Matrix"
   ]
  },
  {
   "cell_type": "code",
   "execution_count": 42,
   "id": "d7194dde",
   "metadata": {
    "execution": {
     "iopub.execute_input": "2023-02-01T20:49:18.465819Z",
     "iopub.status.busy": "2023-02-01T20:49:18.465311Z",
     "iopub.status.idle": "2023-02-01T20:49:18.756287Z",
     "shell.execute_reply": "2023-02-01T20:49:18.754921Z"
    },
    "papermill": {
     "duration": 0.379682,
     "end_time": "2023-02-01T20:49:18.759502",
     "exception": false,
     "start_time": "2023-02-01T20:49:18.379820",
     "status": "completed"
    },
    "tags": []
   },
   "outputs": [
    {
     "data": {
      "image/png": "[encoded data removed]",
      "text/plain": [
       "<Figure size 432x288 with 2 Axes>"
      ]
     },
     "metadata": {
      "needs_background": "light"
     },
     "output_type": "display_data"
    }
   ],
   "source": [
    "from sklearn.metrics import confusion_matrix\n",
    "\n",
    "ConfusionMatrix = confusion_matrix(SVM_Poly_actual_label, SVM_Poly_pred_label)\n",
    "sns.heatmap(ConfusionMatrix, annot=True, fmt=\"d\", cmap=\"Greens\", xticklabels=label_name, yticklabels=label_name)\n",
    "plt.title(\"Confusion Matrix\\n\")\n",
    "plt.ylabel('Actual')\n",
    "plt.xlabel('Predicted')\n",
    "plt.show()"
   ]
  },
  {
   "cell_type": "markdown",
   "id": "df53d1e4",
   "metadata": {
    "papermill": {
     "duration": 0.084405,
     "end_time": "2023-02-01T20:49:18.933742",
     "exception": false,
     "start_time": "2023-02-01T20:49:18.849337",
     "status": "completed"
    },
    "tags": []
   },
   "source": [
    "# Classification Report"
   ]
  },
  {
   "cell_type": "code",
   "execution_count": 43,
   "id": "54fb77c2",
   "metadata": {
    "execution": {
     "iopub.execute_input": "2023-02-01T20:49:19.103821Z",
     "iopub.status.busy": "2023-02-01T20:49:19.102508Z",
     "iopub.status.idle": "2023-02-01T20:49:19.113570Z",
     "shell.execute_reply": "2023-02-01T20:49:19.111714Z"
    },
    "papermill": {
     "duration": 0.098626,
     "end_time": "2023-02-01T20:49:19.116169",
     "exception": false,
     "start_time": "2023-02-01T20:49:19.017543",
     "status": "completed"
    },
    "tags": []
   },
   "outputs": [
    {
     "name": "stdout",
     "output_type": "stream",
     "text": [
      "              precision    recall  f1-score   support\n",
      "\n",
      "          AD       0.92      0.58      0.71        19\n",
      "          CN       0.68      0.65      0.67        20\n",
      "         MCI       0.62      0.86      0.72        21\n",
      "\n",
      "    accuracy                           0.70        60\n",
      "   macro avg       0.74      0.70      0.70        60\n",
      "weighted avg       0.74      0.70      0.70        60\n",
      "\n"
     ]
    }
   ],
   "source": [
    "from sklearn.metrics import classification_report\n",
    "print(classification_report(SVM_Poly_actual_label, SVM_Poly_pred_label, target_names=[\"AD\",\"CN\",\"MCI\"]))"
   ]
  },
  {
   "cell_type": "markdown",
   "id": "40500476",
   "metadata": {
    "papermill": {
     "duration": 0.08624,
     "end_time": "2023-02-01T20:49:19.291681",
     "exception": false,
     "start_time": "2023-02-01T20:49:19.205441",
     "status": "completed"
    },
    "tags": []
   },
   "source": [
    "# Probabilities Testing"
   ]
  },
  {
   "cell_type": "code",
   "execution_count": 44,
   "id": "fd10aac0",
   "metadata": {
    "execution": {
     "iopub.execute_input": "2023-02-01T20:49:19.463488Z",
     "iopub.status.busy": "2023-02-01T20:49:19.463092Z",
     "iopub.status.idle": "2023-02-01T20:49:19.854422Z",
     "shell.execute_reply": "2023-02-01T20:49:19.851591Z"
    },
    "papermill": {
     "duration": 0.482579,
     "end_time": "2023-02-01T20:49:19.858649",
     "exception": false,
     "start_time": "2023-02-01T20:49:19.376070",
     "status": "completed"
    },
    "tags": []
   },
   "outputs": [
    {
     "data": {
      "image/png": "[encoded data removed]",
      "text/plain": [
       "<Figure size 432x288 with 1 Axes>"
      ]
     },
     "metadata": {
      "needs_background": "light"
     },
     "output_type": "display_data"
    },
    {
     "name": "stdout",
     "output_type": "stream",
     "text": [
      "The actual label is 2\n",
      "98.48 % chances are there that the image is MCI\n"
     ]
    },
    {
     "data": {
      "image/png": "[encoded data removed]",
      "text/plain": [
       "<Figure size 432x288 with 1 Axes>"
      ]
     },
     "metadata": {
      "needs_background": "light"
     },
     "output_type": "display_data"
    }
   ],
   "source": [
    "\n",
    "#TEST CASE 1\n",
    "Test_image = valid_X[0]\n",
    "plt.imshow(Test_image[110], cmap='gray')\n",
    "plt.show()\n",
    "plt.axis('off')\n",
    "\n",
    "Test_image = np.expand_dims(Test_image, axis = 0)\n",
    "CNN_Result = model_features.predict(Test_image)\n",
    "SVM_Result = SVM_Used_Poly.predict(CNN_Result)\n",
    "\n",
    "probability = round((maxProbability(SVM_Used_Poly.predict_proba(CNN_Result))*100),2)\n",
    "\n",
    "print('The actual label is',SVM_Poly_actual_label[0])\n",
    "if SVM_Result[0] == 0:\n",
    "    print(probability, '% chances are there that the image is AD')\n",
    "elif SVM_Result[0] == 1:\n",
    "    print(probability, '% chances are there that the image is CN')\n",
    "elif SVM_Result[0] == 2:\n",
    "    print(probability, '% chances are there that the image is MCI')"
   ]
  },
  {
   "cell_type": "code",
   "execution_count": 45,
   "id": "3423dc00",
   "metadata": {
    "execution": {
     "iopub.execute_input": "2023-02-01T20:49:20.070567Z",
     "iopub.status.busy": "2023-02-01T20:49:20.070108Z",
     "iopub.status.idle": "2023-02-01T20:49:20.447203Z",
     "shell.execute_reply": "2023-02-01T20:49:20.445431Z"
    },
    "papermill": {
     "duration": 0.468156,
     "end_time": "2023-02-01T20:49:20.451712",
     "exception": false,
     "start_time": "2023-02-01T20:49:19.983556",
     "status": "completed"
    },
    "tags": []
   },
   "outputs": [
    {
     "data": {
      "image/png": "[encoded data removed]",
      "text/plain": [
       "<Figure size 432x288 with 1 Axes>"
      ]
     },
     "metadata": {
      "needs_background": "light"
     },
     "output_type": "display_data"
    },
    {
     "name": "stdout",
     "output_type": "stream",
     "text": [
      "The actual label is 1\n",
      "48.2 % chances are there that the image is MCI\n"
     ]
    },
    {
     "data": {
      "image/png": "[encoded data removed]",
      "text/plain": [
       "<Figure size 432x288 with 1 Axes>"
      ]
     },
     "metadata": {
      "needs_background": "light"
     },
     "output_type": "display_data"
    }
   ],
   "source": [
    "#TEST CASE 2\n",
    "Test_image = valid_X[1]\n",
    "plt.imshow(Test_image[110], cmap='gray')\n",
    "plt.show()\n",
    "plt.axis('off')\n",
    "\n",
    "Test_image = np.expand_dims(Test_image, axis = 0)\n",
    "CNN_Result = model_features.predict(Test_image)\n",
    "SVM_Result = SVM_Used_Poly.predict(CNN_Result)\n",
    "\n",
    "probability = round((maxProbability(SVM_Used_Poly.predict_proba(CNN_Result))*100),2)\n",
    "\n",
    "print('The actual label is',SVM_Poly_actual_label[1])\n",
    "if SVM_Result[0] == 0:\n",
    "    print(probability, '% chances are there that the image is AD')\n",
    "elif SVM_Result[0] == 1:\n",
    "    print(probability, '% chances are there that the image is CN')\n",
    "elif SVM_Result[0] == 2:\n",
    "    print(probability, '% chances are there that the image is MCI')"
   ]
  },
  {
   "cell_type": "code",
   "execution_count": 46,
   "id": "8f1a36b5",
   "metadata": {
    "execution": {
     "iopub.execute_input": "2023-02-01T20:49:20.663872Z",
     "iopub.status.busy": "2023-02-01T20:49:20.663049Z",
     "iopub.status.idle": "2023-02-01T20:49:21.045188Z",
     "shell.execute_reply": "2023-02-01T20:49:21.043614Z"
    },
    "papermill": {
     "duration": 0.472788,
     "end_time": "2023-02-01T20:49:21.049153",
     "exception": false,
     "start_time": "2023-02-01T20:49:20.576365",
     "status": "completed"
    },
    "tags": []
   },
   "outputs": [
    {
     "data": {
      "image/png": "[encoded data removed]",
      "text/plain": [
       "<Figure size 432x288 with 1 Axes>"
      ]
     },
     "metadata": {
      "needs_background": "light"
     },
     "output_type": "display_data"
    },
    {
     "name": "stdout",
     "output_type": "stream",
     "text": [
      "The actual label is 1\n",
      "51.91 % chances are there that the image is CN\n"
     ]
    },
    {
     "data": {
      "image/png": "[encoded data removed]",
      "text/plain": [
       "<Figure size 432x288 with 1 Axes>"
      ]
     },
     "metadata": {
      "needs_background": "light"
     },
     "output_type": "display_data"
    }
   ],
   "source": [
    "#TEST CASE 3\n",
    "Test_image = valid_X[2]\n",
    "plt.imshow(Test_image[110], cmap='gray')\n",
    "plt.show()\n",
    "plt.axis('off')\n",
    "\n",
    "Test_image = np.expand_dims(Test_image, axis = 0)\n",
    "CNN_Result = model_features.predict(Test_image)\n",
    "SVM_Result = SVM_Used_Poly.predict(CNN_Result)\n",
    "\n",
    "probability = round((maxProbability(SVM_Used_Poly.predict_proba(CNN_Result))*100),2)\n",
    "\n",
    "print('The actual label is',SVM_Poly_actual_label[2])\n",
    "if SVM_Result[0] == 0:\n",
    "    print(probability, '% chances are there that the image is AD')\n",
    "elif SVM_Result[0] == 1:\n",
    "    print(probability, '% chances are there that the image is CN')\n",
    "elif SVM_Result[0] == 2:\n",
    "    print(probability, '% chances are there that the image is MCI')"
   ]
  },
  {
   "cell_type": "markdown",
   "id": "8e50d373",
   "metadata": {
    "papermill": {
     "duration": 0.085883,
     "end_time": "2023-02-01T20:49:21.265203",
     "exception": false,
     "start_time": "2023-02-01T20:49:21.179320",
     "status": "completed"
    },
    "tags": []
   },
   "source": [
    "# XGBoost"
   ]
  },
  {
   "cell_type": "code",
   "execution_count": 47,
   "id": "52a3a6c6",
   "metadata": {
    "execution": {
     "iopub.execute_input": "2023-02-01T20:49:21.441984Z",
     "iopub.status.busy": "2023-02-01T20:49:21.440882Z",
     "iopub.status.idle": "2023-02-01T20:49:22.196926Z",
     "shell.execute_reply": "2023-02-01T20:49:22.195605Z"
    },
    "papermill": {
     "duration": 0.847914,
     "end_time": "2023-02-01T20:49:22.199287",
     "exception": false,
     "start_time": "2023-02-01T20:49:21.351373",
     "status": "completed"
    },
    "tags": []
   },
   "outputs": [
    {
     "data": {
      "text/plain": [
       "XGBClassifier(base_score=0.5, booster='gbtree', callbacks=None,\n",
       "              colsample_bylevel=1, colsample_bynode=1, colsample_bytree=1,\n",
       "              early_stopping_rounds=None, enable_categorical=False,\n",
       "              eval_metric=None, gamma=0, gpu_id=-1, grow_policy='depthwise',\n",
       "              importance_type=None, interaction_constraints='',\n",
       "              learning_rate=0.300000012, max_bin=256, max_cat_to_onehot=4,\n",
       "              max_delta_step=0, max_depth=6, max_leaves=0, min_child_weight=1,\n",
       "              missing=nan, monotone_constraints='()', n_estimators=100,\n",
       "              n_jobs=0, num_parallel_tree=1, objective='multi:softprob',\n",
       "              predictor='auto', random_state=0, reg_alpha=0, ...)"
      ]
     },
     "execution_count": 47,
     "metadata": {},
     "output_type": "execute_result"
    }
   ],
   "source": [
    "import xgboost as xgb\n",
    "\n",
    "xb = xgb.XGBClassifier()\n",
    "xb.fit(features_train,np.argmax(train_Y,axis=1))\n"
   ]
  },
  {
   "cell_type": "markdown",
   "id": "798276cc",
   "metadata": {
    "papermill": {
     "duration": 0.090332,
     "end_time": "2023-02-01T20:49:22.440963",
     "exception": false,
     "start_time": "2023-02-01T20:49:22.350631",
     "status": "completed"
    },
    "tags": []
   },
   "source": [
    "# Prediction"
   ]
  },
  {
   "cell_type": "code",
   "execution_count": 48,
   "id": "e91edaf3",
   "metadata": {
    "execution": {
     "iopub.execute_input": "2023-02-01T20:49:22.617816Z",
     "iopub.status.busy": "2023-02-01T20:49:22.617381Z",
     "iopub.status.idle": "2023-02-01T20:49:22.628882Z",
     "shell.execute_reply": "2023-02-01T20:49:22.627597Z"
    },
    "papermill": {
     "duration": 0.103602,
     "end_time": "2023-02-01T20:49:22.631693",
     "exception": false,
     "start_time": "2023-02-01T20:49:22.528091",
     "status": "completed"
    },
    "tags": []
   },
   "outputs": [],
   "source": [
    "XGB_pred_label = xb.predict(features_validate) #return learning labels \n",
    "XGB_actual_label=np.argmax(valid_Y,axis=1)"
   ]
  },
  {
   "cell_type": "markdown",
   "id": "fac9c4e0",
   "metadata": {
    "papermill": {
     "duration": 0.087547,
     "end_time": "2023-02-01T20:49:22.806615",
     "exception": false,
     "start_time": "2023-02-01T20:49:22.719068",
     "status": "completed"
    },
    "tags": []
   },
   "source": [
    "# Labelling"
   ]
  },
  {
   "cell_type": "code",
   "execution_count": 49,
   "id": "2dd081ed",
   "metadata": {
    "execution": {
     "iopub.execute_input": "2023-02-01T20:49:22.983986Z",
     "iopub.status.busy": "2023-02-01T20:49:22.982949Z",
     "iopub.status.idle": "2023-02-01T20:49:22.987617Z",
     "shell.execute_reply": "2023-02-01T20:49:22.986783Z"
    },
    "papermill": {
     "duration": 0.095775,
     "end_time": "2023-02-01T20:49:22.989817",
     "exception": false,
     "start_time": "2023-02-01T20:49:22.894042",
     "status": "completed"
    },
    "tags": []
   },
   "outputs": [],
   "source": [
    "label_name=[\"AD\",\"CN\",\"MCI\"]"
   ]
  },
  {
   "cell_type": "markdown",
   "id": "f772733c",
   "metadata": {
    "papermill": {
     "duration": 0.087524,
     "end_time": "2023-02-01T20:49:23.163904",
     "exception": false,
     "start_time": "2023-02-01T20:49:23.076380",
     "status": "completed"
    },
    "tags": []
   },
   "source": [
    "# Confusion Matrix"
   ]
  },
  {
   "cell_type": "code",
   "execution_count": 50,
   "id": "d601499e",
   "metadata": {
    "execution": {
     "iopub.execute_input": "2023-02-01T20:49:23.341475Z",
     "iopub.status.busy": "2023-02-01T20:49:23.340850Z",
     "iopub.status.idle": "2023-02-01T20:49:23.618820Z",
     "shell.execute_reply": "2023-02-01T20:49:23.617397Z"
    },
    "papermill": {
     "duration": 0.369715,
     "end_time": "2023-02-01T20:49:23.622153",
     "exception": false,
     "start_time": "2023-02-01T20:49:23.252438",
     "status": "completed"
    },
    "tags": []
   },
   "outputs": [
    {
     "data": {
      "image/png": "[encoded data removed]",
      "text/plain": [
       "<Figure size 432x288 with 2 Axes>"
      ]
     },
     "metadata": {
      "needs_background": "light"
     },
     "output_type": "display_data"
    }
   ],
   "source": [
    "from sklearn.metrics import confusion_matrix\n",
    "\n",
    "ConfusionMatrix = confusion_matrix(XGB_actual_label, XGB_pred_label)\n",
    "sns.heatmap(ConfusionMatrix, annot=True, fmt=\"d\", cmap=\"Greens\", xticklabels=label_name, yticklabels=label_name)\n",
    "plt.title(\"Confusion Matrix\\n\")\n",
    "plt.ylabel('Actual')\n",
    "plt.xlabel('Predicted')\n",
    "plt.show()"
   ]
  },
  {
   "cell_type": "markdown",
   "id": "31101748",
   "metadata": {
    "papermill": {
     "duration": 0.094368,
     "end_time": "2023-02-01T20:49:23.811998",
     "exception": false,
     "start_time": "2023-02-01T20:49:23.717630",
     "status": "completed"
    },
    "tags": []
   },
   "source": [
    "# Classification Report"
   ]
  },
  {
   "cell_type": "code",
   "execution_count": 51,
   "id": "c0ecfffa",
   "metadata": {
    "execution": {
     "iopub.execute_input": "2023-02-01T20:49:24.008915Z",
     "iopub.status.busy": "2023-02-01T20:49:24.008466Z",
     "iopub.status.idle": "2023-02-01T20:49:24.020415Z",
     "shell.execute_reply": "2023-02-01T20:49:24.018705Z"
    },
    "papermill": {
     "duration": 0.105807,
     "end_time": "2023-02-01T20:49:24.023617",
     "exception": false,
     "start_time": "2023-02-01T20:49:23.917810",
     "status": "completed"
    },
    "tags": []
   },
   "outputs": [
    {
     "name": "stdout",
     "output_type": "stream",
     "text": [
      "              precision    recall  f1-score   support\n",
      "\n",
      "          AD       0.72      0.68      0.70        19\n",
      "          CN       0.65      0.85      0.74        20\n",
      "         MCI       0.75      0.57      0.65        21\n",
      "\n",
      "    accuracy                           0.70        60\n",
      "   macro avg       0.71      0.70      0.70        60\n",
      "weighted avg       0.71      0.70      0.70        60\n",
      "\n"
     ]
    }
   ],
   "source": [
    "from sklearn.metrics import classification_report\n",
    "print(classification_report(XGB_actual_label, XGB_pred_label, target_names=[\"AD\",\"CN\",\"MCI\"]))"
   ]
  },
  {
   "cell_type": "markdown",
   "id": "3ad4dc29",
   "metadata": {
    "papermill": {
     "duration": 0.088932,
     "end_time": "2023-02-01T20:49:24.201134",
     "exception": false,
     "start_time": "2023-02-01T20:49:24.112202",
     "status": "completed"
    },
    "tags": []
   },
   "source": [
    "# Probabilities Testing"
   ]
  },
  {
   "cell_type": "code",
   "execution_count": 52,
   "id": "47d3990c",
   "metadata": {
    "execution": {
     "iopub.execute_input": "2023-02-01T20:49:24.378459Z",
     "iopub.status.busy": "2023-02-01T20:49:24.378033Z",
     "iopub.status.idle": "2023-02-01T20:49:25.297612Z",
     "shell.execute_reply": "2023-02-01T20:49:25.295928Z"
    },
    "papermill": {
     "duration": 1.013572,
     "end_time": "2023-02-01T20:49:25.302404",
     "exception": false,
     "start_time": "2023-02-01T20:49:24.288832",
     "status": "completed"
    },
    "tags": []
   },
   "outputs": [
    {
     "data": {
      "image/png": "[encoded data removed]",
      "text/plain": [
       "<Figure size 432x288 with 1 Axes>"
      ]
     },
     "metadata": {
      "needs_background": "light"
     },
     "output_type": "display_data"
    },
    {
     "name": "stdout",
     "output_type": "stream",
     "text": [
      "The actual label is 2\n",
      "98.25 % chances are there that the image is MCI\n"
     ]
    },
    {
     "data": {
      "image/png": "[encoded data removed]",
      "text/plain": [
       "<Figure size 432x288 with 1 Axes>"
      ]
     },
     "metadata": {
      "needs_background": "light"
     },
     "output_type": "display_data"
    }
   ],
   "source": [
    "#TEST CASE 1\n",
    "Test_image = valid_X[0]\n",
    "plt.imshow(Test_image[110], cmap='gray')\n",
    "plt.show()\n",
    "plt.axis('off')\n",
    "\n",
    "Test_image = np.expand_dims(Test_image, axis = 0)\n",
    "CNN_Result = model_features.predict(Test_image)\n",
    "XGB_Result = xb.predict(CNN_Result)\n",
    "\n",
    "probability = round((maxProbability(xb.predict_proba(CNN_Result))*100),2)\n",
    "\n",
    "print('The actual label is',XGB_actual_label[0])\n",
    "if XGB_Result[0] == 0:\n",
    "    print(probability, '% chances are there that the image is AD')\n",
    "elif XGB_Result[0] == 1:\n",
    "    print(probability, '% chances are there that the image is CN')\n",
    "elif XGB_Result[0] == 2:\n",
    "    print(probability, '% chances are there that the image is MCI')"
   ]
  },
  {
   "cell_type": "code",
   "execution_count": 53,
   "id": "28557904",
   "metadata": {
    "execution": {
     "iopub.execute_input": "2023-02-01T20:49:25.535786Z",
     "iopub.status.busy": "2023-02-01T20:49:25.535057Z",
     "iopub.status.idle": "2023-02-01T20:49:25.918662Z",
     "shell.execute_reply": "2023-02-01T20:49:25.916864Z"
    },
    "papermill": {
     "duration": 0.480084,
     "end_time": "2023-02-01T20:49:25.924777",
     "exception": false,
     "start_time": "2023-02-01T20:49:25.444693",
     "status": "completed"
    },
    "tags": []
   },
   "outputs": [
    {
     "data": {
      "image/png": "[encoded data removed]",
      "text/plain": [
       "<Figure size 432x288 with 1 Axes>"
      ]
     },
     "metadata": {
      "needs_background": "light"
     },
     "output_type": "display_data"
    },
    {
     "name": "stdout",
     "output_type": "stream",
     "text": [
      "The actual label is 1\n",
      "99.48 % chances are there that the image is CN\n"
     ]
    },
    {
     "data": {
      "image/png": "[encoded data removed]",
      "text/plain": [
       "<Figure size 432x288 with 1 Axes>"
      ]
     },
     "metadata": {
      "needs_background": "light"
     },
     "output_type": "display_data"
    }
   ],
   "source": [
    "#TEST CASE 2\n",
    "Test_image = valid_X[1]\n",
    "plt.imshow(Test_image[110], cmap='gray')\n",
    "plt.show()\n",
    "plt.axis('off')\n",
    "\n",
    "Test_image = np.expand_dims(Test_image, axis = 0)\n",
    "CNN_Result = model_features.predict(Test_image)\n",
    "XGB_Result = xb.predict(CNN_Result)\n",
    "\n",
    "probability = round((maxProbability(xb.predict_proba(CNN_Result))*100),2)\n",
    "\n",
    "print('The actual label is',XGB_actual_label[1])\n",
    "if XGB_Result[0] == 0:\n",
    "    print(probability, '% chances are there that the image is AD')\n",
    "elif XGB_Result[0] == 1:\n",
    "    print(probability, '% chances are there that the image is CN')\n",
    "elif XGB_Result[0] == 2:\n",
    "    print(probability, '% chances are there that the image is MCI')"
   ]
  },
  {
   "cell_type": "code",
   "execution_count": 54,
   "id": "4ac197ed",
   "metadata": {
    "execution": {
     "iopub.execute_input": "2023-02-01T20:49:26.148287Z",
     "iopub.status.busy": "2023-02-01T20:49:26.147478Z",
     "iopub.status.idle": "2023-02-01T20:49:26.531436Z",
     "shell.execute_reply": "2023-02-01T20:49:26.529642Z"
    },
    "papermill": {
     "duration": 0.479836,
     "end_time": "2023-02-01T20:49:26.535884",
     "exception": false,
     "start_time": "2023-02-01T20:49:26.056048",
     "status": "completed"
    },
    "tags": []
   },
   "outputs": [
    {
     "data": {
      "image/png": "[encoded data removed]",
      "text/plain": [
       "<Figure size 432x288 with 1 Axes>"
      ]
     },
     "metadata": {
      "needs_background": "light"
     },
     "output_type": "display_data"
    },
    {
     "name": "stdout",
     "output_type": "stream",
     "text": [
      "The actual label is 1\n",
      "99.81 % chances are there that the image is CN\n"
     ]
    },
    {
     "data": {
      "image/png": "[encoded data removed]",
      "text/plain": [
       "<Figure size 432x288 with 1 Axes>"
      ]
     },
     "metadata": {
      "needs_background": "light"
     },
     "output_type": "display_data"
    }
   ],
   "source": [
    "#TEST CASE 3\n",
    "Test_image = valid_X[2]\n",
    "plt.imshow(Test_image[110], cmap='gray')\n",
    "plt.show()\n",
    "plt.axis('off')\n",
    "\n",
    "Test_image = np.expand_dims(Test_image, axis = 0)\n",
    "CNN_Result = model_features.predict(Test_image)\n",
    "XGB_Result = xb.predict(CNN_Result)\n",
    "\n",
    "probability = round((maxProbability(xb.predict_proba(CNN_Result))*100),2)\n",
    "\n",
    "print('The actual label is',XGB_actual_label[2])\n",
    "if XGB_Result[0] == 0:\n",
    "    print(probability, '% chances are there that the image is AD')\n",
    "elif XGB_Result[0] == 1:\n",
    "    print(probability, '% chances are there that the image is CN')\n",
    "elif XGB_Result[0] == 2:\n",
    "    print(probability, '% chances are there that the image is MCI')"
   ]
  }
 ],
 "metadata": {
  "kernelspec": {
   "display_name": "Python 3",
   "language": "python",
   "name": "python3"
  },
  "language_info": {
   "codemirror_mode": {
    "name": "ipython",
    "version": 3
   },
   "file_extension": ".py",
   "mimetype": "text/x-python",
   "name": "python",
   "nbconvert_exporter": "python",
   "pygments_lexer": "ipython3",
   "version": "3.7.12"
  },
  "papermill": {
   "default_parameters": {},
   "duration": 3952.896486,
   "end_time": "2023-02-01T20:49:30.445607",
   "environment_variables": {},
   "exception": null,
   "input_path": "__notebook__.ipynb",
   "output_path": "__notebook__.ipynb",
   "parameters": {},
   "start_time": "2023-02-01T19:43:37.549121",
   "version": "2.3.4"
  }
 },
 "nbformat": 4,
 "nbformat_minor": 5
}
