{
 "cells": [
  {
   "cell_type": "code",
   "execution_count": 1,
   "id": "0dfdaf9e",
   "metadata": {
    "_cell_guid": "b1076dfc-b9ad-4769-8c92-a6c4dae69d19",
    "_uuid": "8f2839f25d086af736a60e9eeb907d3b93b6e0e5",
    "execution": {
     "iopub.execute_input": "2023-04-14T00:32:50.426239Z",
     "iopub.status.busy": "2023-04-14T00:32:50.425322Z",
     "iopub.status.idle": "2023-04-14T00:32:51.994912Z",
     "shell.execute_reply": "2023-04-14T00:32:51.993836Z"
    },
    "papermill": {
     "duration": 1.584051,
     "end_time": "2023-04-14T00:32:51.997986",
     "exception": false,
     "start_time": "2023-04-14T00:32:50.413935",
     "status": "completed"
    },
    "tags": []
   },
   "outputs": [],
   "source": [
    "import pandas as pd\n",
    "import numpy as np\n",
    "from sklearn.preprocessing import LabelEncoder\n",
    "from sklearn.model_selection import train_test_split\n",
    "from sklearn.model_selection import KFold\n",
    "from sklearn.model_selection import GridSearchCV, RandomizedSearchCV\n",
    "import matplotlib.pyplot as plt\n",
    "import seaborn as sns\n",
    "import os\n",
    "from sklearn.metrics import accuracy_score\n",
    "from sklearn.metrics import classification_report\n",
    "from sklearn.model_selection import StratifiedKFold\n",
    "from sklearn.model_selection import cross_val_score\n",
    "from sklearn.feature_selection import RFE\n",
    "import xgboost as xgb\n",
    "from sklearn.svm import SVC\n",
    "from sklearn.utils import class_weight\n",
    "from sklearn.naive_bayes import MultinomialNB\n",
    "from sklearn.ensemble import GradientBoostingClassifier\n"
   ]
  },
  {
   "attachments": {},
   "cell_type": "markdown",
   "id": "6e9f6a34",
   "metadata": {
    "papermill": {
     "duration": 0.007629,
     "end_time": "2023-04-14T00:32:52.013919",
     "exception": false,
     "start_time": "2023-04-14T00:32:52.006290",
     "status": "completed"
    },
    "tags": []
   },
   "source": [
    "# Read CSV"
   ]
  },
  {
   "cell_type": "code",
   "execution_count": 2,
   "id": "425b7291",
   "metadata": {
    "execution": {
     "iopub.execute_input": "2023-04-14T00:32:52.033025Z",
     "iopub.status.busy": "2023-04-14T00:32:52.031785Z",
     "iopub.status.idle": "2023-04-14T00:32:52.062786Z",
     "shell.execute_reply": "2023-04-14T00:32:52.061467Z"
    },
    "papermill": {
     "duration": 0.043589,
     "end_time": "2023-04-14T00:32:52.065713",
     "exception": false,
     "start_time": "2023-04-14T00:32:52.022124",
     "status": "completed"
    },
    "tags": []
   },
   "outputs": [],
   "source": [
    "df = pd.read_csv(\"../input/geneall-data-filtered/GeneALL_Data_filtered.csv\")"
   ]
  },
  {
   "cell_type": "code",
   "execution_count": 3,
   "id": "33f449ef",
   "metadata": {
    "execution": {
     "iopub.execute_input": "2023-04-14T00:32:52.083576Z",
     "iopub.status.busy": "2023-04-14T00:32:52.082967Z",
     "iopub.status.idle": "2023-04-14T00:32:52.109818Z",
     "shell.execute_reply": "2023-04-14T00:32:52.108527Z"
    },
    "papermill": {
     "duration": 0.039253,
     "end_time": "2023-04-14T00:32:52.113035",
     "exception": false,
     "start_time": "2023-04-14T00:32:52.073782",
     "status": "completed"
    },
    "tags": []
   },
   "outputs": [
    {
     "name": "stdout",
     "output_type": "stream",
     "text": [
      "     Unnamed: 0  Unnamed: 0.1  Unnamed: 0.1.1          ID Group Sex   Age  \\\n",
      "0             0             0             0.0  002_S_0295    CN   M  85.0   \n",
      "1             1             1             0.0  002_S_0413    CN   F  76.0   \n",
      "2             2             2             0.0  002_S_0559    CN   M  79.0   \n",
      "3             3             3             0.0  002_S_0619    AD   M  78.0   \n",
      "4             4             4             0.0  002_S_0685    CN   F  90.0   \n",
      "..          ...           ...             ...         ...   ...  ..   ...   \n",
      "745         745           112             0.0  941_S_1202    CN   M  78.0   \n",
      "746         746           113             0.0  941_S_1203    CN   M  83.0   \n",
      "747         747           114             0.0  941_S_1295   MCI   M  77.0   \n",
      "748         748           115             0.0  941_S_1311   MCI   M  69.0   \n",
      "749         749           116             0.0  941_S_1363   MCI   F  70.0   \n",
      "\n",
      "     rs10460695  rs1150895  rs11666145  ...  rs6516727  rs7276036  rs7278838  \\\n",
      "0             0          0           0  ...          0          0          0   \n",
      "1             0          0           0  ...          2          1          1   \n",
      "2             0          1           0  ...          2          0          0   \n",
      "3             0          1           0  ...          1          0          0   \n",
      "4             0          1           0  ...          0          0          0   \n",
      "..          ...        ...         ...  ...        ...        ...        ...   \n",
      "745           0          0           0  ...          0          0          0   \n",
      "746           0          0           0  ...          0          0          0   \n",
      "747           0          0           0  ...          0          0          0   \n",
      "748           0          1           0  ...          1          1          1   \n",
      "749           0          0           0  ...          1          1          1   \n",
      "\n",
      "     rs7283136  rs731523  rs768039  rs769451  rs8006497  rs8106922  rs8127122  \n",
      "0            0         2         2         0          0          1          0  \n",
      "1            0         2         2         1          0          1          0  \n",
      "2            0         2         2         0          0          0          0  \n",
      "3            0         2         2         0          0          0          0  \n",
      "4            0         2         2         0          0          0          0  \n",
      "..         ...       ...       ...       ...        ...        ...        ...  \n",
      "745          0         2         2         0          1          1          0  \n",
      "746          0         2         2         0          0          2          0  \n",
      "747          0         2         2         0          0          1          0  \n",
      "748          0         2         2         0          1          0          0  \n",
      "749          1         2         2         0          0          0          0  \n",
      "\n",
      "[750 rows x 96 columns]\n"
     ]
    }
   ],
   "source": [
    "print(df)"
   ]
  },
  {
   "cell_type": "code",
   "execution_count": 4,
   "id": "9c69a4ab",
   "metadata": {
    "execution": {
     "iopub.execute_input": "2023-04-14T00:32:52.131645Z",
     "iopub.status.busy": "2023-04-14T00:32:52.131092Z",
     "iopub.status.idle": "2023-04-14T00:32:52.151913Z",
     "shell.execute_reply": "2023-04-14T00:32:52.150603Z"
    },
    "papermill": {
     "duration": 0.033599,
     "end_time": "2023-04-14T00:32:52.155043",
     "exception": false,
     "start_time": "2023-04-14T00:32:52.121444",
     "status": "completed"
    },
    "tags": []
   },
   "outputs": [],
   "source": [
    "df = pd.read_csv(\"../input/geneall-data-filtered/GeneALL_Data_filtered.csv\").drop([\"Unnamed: 0\",\"Unnamed: 0.1\",\"Unnamed: 0.1.1\",\"ID\"], axis=1)"
   ]
  },
  {
   "cell_type": "code",
   "execution_count": 5,
   "id": "46a4f646",
   "metadata": {
    "execution": {
     "iopub.execute_input": "2023-04-14T00:32:52.173608Z",
     "iopub.status.busy": "2023-04-14T00:32:52.173089Z",
     "iopub.status.idle": "2023-04-14T00:32:52.189934Z",
     "shell.execute_reply": "2023-04-14T00:32:52.188004Z"
    },
    "papermill": {
     "duration": 0.029046,
     "end_time": "2023-04-14T00:32:52.192419",
     "exception": false,
     "start_time": "2023-04-14T00:32:52.163373",
     "status": "completed"
    },
    "tags": []
   },
   "outputs": [
    {
     "name": "stdout",
     "output_type": "stream",
     "text": [
      "    Group Sex   Age  rs10460695  rs1150895  rs11666145  rs11702267  \\\n",
      "0      CN   M  85.0           0          0           0           0   \n",
      "1      CN   F  76.0           0          0           0           0   \n",
      "2      CN   M  79.0           0          1           0           1   \n",
      "3      AD   M  78.0           0          1           0           0   \n",
      "4      CN   F  90.0           0          1           0           0   \n",
      "..    ...  ..   ...         ...        ...         ...         ...   \n",
      "745    CN   M  78.0           0          0           0           0   \n",
      "746    CN   M  83.0           0          0           0           0   \n",
      "747   MCI   M  77.0           0          0           0           0   \n",
      "748   MCI   M  69.0           0          1           0           0   \n",
      "749   MCI   F  70.0           0          0           0           0   \n",
      "\n",
      "     rs12482262  rs12482753  rs1295640  ...  rs6516727  rs7276036  rs7278838  \\\n",
      "0             0           0          2  ...          0          0          0   \n",
      "1             1           1          2  ...          2          1          1   \n",
      "2             0           0          0  ...          2          0          0   \n",
      "3             0           0          0  ...          1          0          0   \n",
      "4             0           0          0  ...          0          0          0   \n",
      "..          ...         ...        ...  ...        ...        ...        ...   \n",
      "745           0           0          1  ...          0          0          0   \n",
      "746           0           0          0  ...          0          0          0   \n",
      "747           0           0          2  ...          0          0          0   \n",
      "748           0           0          1  ...          1          1          1   \n",
      "749           0           0          2  ...          1          1          1   \n",
      "\n",
      "     rs7283136  rs731523  rs768039  rs769451  rs8006497  rs8106922  rs8127122  \n",
      "0            0         2         2         0          0          1          0  \n",
      "1            0         2         2         1          0          1          0  \n",
      "2            0         2         2         0          0          0          0  \n",
      "3            0         2         2         0          0          0          0  \n",
      "4            0         2         2         0          0          0          0  \n",
      "..         ...       ...       ...       ...        ...        ...        ...  \n",
      "745          0         2         2         0          1          1          0  \n",
      "746          0         2         2         0          0          2          0  \n",
      "747          0         2         2         0          0          1          0  \n",
      "748          0         2         2         0          1          0          0  \n",
      "749          1         2         2         0          0          0          0  \n",
      "\n",
      "[750 rows x 92 columns]\n"
     ]
    }
   ],
   "source": [
    "print(df)"
   ]
  },
  {
   "cell_type": "code",
   "execution_count": 6,
   "id": "83d0d01c",
   "metadata": {
    "execution": {
     "iopub.execute_input": "2023-04-14T00:32:52.211578Z",
     "iopub.status.busy": "2023-04-14T00:32:52.210723Z",
     "iopub.status.idle": "2023-04-14T00:32:52.223865Z",
     "shell.execute_reply": "2023-04-14T00:32:52.222630Z"
    },
    "papermill": {
     "duration": 0.025281,
     "end_time": "2023-04-14T00:32:52.226275",
     "exception": false,
     "start_time": "2023-04-14T00:32:52.200994",
     "status": "completed"
    },
    "tags": []
   },
   "outputs": [],
   "source": [
    "df['Group'].replace('  ', np.nan, inplace=True)\n",
    "df= df.dropna(subset=['Group'])"
   ]
  },
  {
   "cell_type": "code",
   "execution_count": 7,
   "id": "ef7dbb1c",
   "metadata": {
    "execution": {
     "iopub.execute_input": "2023-04-14T00:32:52.245678Z",
     "iopub.status.busy": "2023-04-14T00:32:52.245268Z",
     "iopub.status.idle": "2023-04-14T00:32:52.260304Z",
     "shell.execute_reply": "2023-04-14T00:32:52.258972Z"
    },
    "papermill": {
     "duration": 0.027002,
     "end_time": "2023-04-14T00:32:52.262611",
     "exception": false,
     "start_time": "2023-04-14T00:32:52.235609",
     "status": "completed"
    },
    "tags": []
   },
   "outputs": [
    {
     "name": "stdout",
     "output_type": "stream",
     "text": [
      "    Group Sex   Age  rs10460695  rs1150895  rs11666145  rs11702267  \\\n",
      "0      CN   M  85.0           0          0           0           0   \n",
      "1      CN   F  76.0           0          0           0           0   \n",
      "2      CN   M  79.0           0          1           0           1   \n",
      "3      AD   M  78.0           0          1           0           0   \n",
      "4      CN   F  90.0           0          1           0           0   \n",
      "..    ...  ..   ...         ...        ...         ...         ...   \n",
      "745    CN   M  78.0           0          0           0           0   \n",
      "746    CN   M  83.0           0          0           0           0   \n",
      "747   MCI   M  77.0           0          0           0           0   \n",
      "748   MCI   M  69.0           0          1           0           0   \n",
      "749   MCI   F  70.0           0          0           0           0   \n",
      "\n",
      "     rs12482262  rs12482753  rs1295640  ...  rs6516727  rs7276036  rs7278838  \\\n",
      "0             0           0          2  ...          0          0          0   \n",
      "1             1           1          2  ...          2          1          1   \n",
      "2             0           0          0  ...          2          0          0   \n",
      "3             0           0          0  ...          1          0          0   \n",
      "4             0           0          0  ...          0          0          0   \n",
      "..          ...         ...        ...  ...        ...        ...        ...   \n",
      "745           0           0          1  ...          0          0          0   \n",
      "746           0           0          0  ...          0          0          0   \n",
      "747           0           0          2  ...          0          0          0   \n",
      "748           0           0          1  ...          1          1          1   \n",
      "749           0           0          2  ...          1          1          1   \n",
      "\n",
      "     rs7283136  rs731523  rs768039  rs769451  rs8006497  rs8106922  rs8127122  \n",
      "0            0         2         2         0          0          1          0  \n",
      "1            0         2         2         1          0          1          0  \n",
      "2            0         2         2         0          0          0          0  \n",
      "3            0         2         2         0          0          0          0  \n",
      "4            0         2         2         0          0          0          0  \n",
      "..         ...       ...       ...       ...        ...        ...        ...  \n",
      "745          0         2         2         0          1          1          0  \n",
      "746          0         2         2         0          0          2          0  \n",
      "747          0         2         2         0          0          1          0  \n",
      "748          0         2         2         0          1          0          0  \n",
      "749          1         2         2         0          0          0          0  \n",
      "\n",
      "[749 rows x 92 columns]\n"
     ]
    }
   ],
   "source": [
    "print(df)"
   ]
  },
  {
   "attachments": {},
   "cell_type": "markdown",
   "id": "3aa8ce1a",
   "metadata": {
    "papermill": {
     "duration": 0.008196,
     "end_time": "2023-04-14T00:32:52.279274",
     "exception": false,
     "start_time": "2023-04-14T00:32:52.271078",
     "status": "completed"
    },
    "tags": []
   },
   "source": [
    "# Encode Categorical Data"
   ]
  },
  {
   "cell_type": "code",
   "execution_count": 8,
   "id": "f39fd1e1",
   "metadata": {
    "execution": {
     "iopub.execute_input": "2023-04-14T00:32:52.298740Z",
     "iopub.status.busy": "2023-04-14T00:32:52.298289Z",
     "iopub.status.idle": "2023-04-14T00:32:52.305386Z",
     "shell.execute_reply": "2023-04-14T00:32:52.304332Z"
    },
    "papermill": {
     "duration": 0.01984,
     "end_time": "2023-04-14T00:32:52.307607",
     "exception": false,
     "start_time": "2023-04-14T00:32:52.287767",
     "status": "completed"
    },
    "tags": []
   },
   "outputs": [],
   "source": [
    "#CN 1, AD 0, MCI 2\n",
    "#M 1, F 0\n",
    "label_encoder = LabelEncoder()\n",
    "df[\"Group\"]= label_encoder.fit_transform(df[\"Group\"])\n",
    "df[\"Sex\"]= label_encoder.fit_transform(df[\"Sex\"])"
   ]
  },
  {
   "attachments": {},
   "cell_type": "markdown",
   "id": "5d3826ce",
   "metadata": {
    "papermill": {
     "duration": 0.008325,
     "end_time": "2023-04-14T00:32:52.324530",
     "exception": false,
     "start_time": "2023-04-14T00:32:52.316205",
     "status": "completed"
    },
    "tags": []
   },
   "source": [
    "# Get Features and Labels"
   ]
  },
  {
   "cell_type": "code",
   "execution_count": 9,
   "id": "e2c7e9cc",
   "metadata": {
    "execution": {
     "iopub.execute_input": "2023-04-14T00:32:52.343288Z",
     "iopub.status.busy": "2023-04-14T00:32:52.342860Z",
     "iopub.status.idle": "2023-04-14T00:32:52.349706Z",
     "shell.execute_reply": "2023-04-14T00:32:52.348795Z"
    },
    "papermill": {
     "duration": 0.019087,
     "end_time": "2023-04-14T00:32:52.351990",
     "exception": false,
     "start_time": "2023-04-14T00:32:52.332903",
     "status": "completed"
    },
    "tags": []
   },
   "outputs": [],
   "source": [
    "features = df.drop('Group',axis=1)\n",
    "label= df.Group"
   ]
  },
  {
   "attachments": {},
   "cell_type": "markdown",
   "id": "6048ff45",
   "metadata": {
    "papermill": {
     "duration": 0.008012,
     "end_time": "2023-04-14T00:32:52.368433",
     "exception": false,
     "start_time": "2023-04-14T00:32:52.360421",
     "status": "completed"
    },
    "tags": []
   },
   "source": [
    "# Split Data into Training and Testing"
   ]
  },
  {
   "cell_type": "code",
   "execution_count": 10,
   "id": "ebd2f713",
   "metadata": {
    "execution": {
     "iopub.execute_input": "2023-04-14T00:32:52.387423Z",
     "iopub.status.busy": "2023-04-14T00:32:52.386607Z",
     "iopub.status.idle": "2023-04-14T00:32:52.396324Z",
     "shell.execute_reply": "2023-04-14T00:32:52.395242Z"
    },
    "papermill": {
     "duration": 0.021906,
     "end_time": "2023-04-14T00:32:52.398709",
     "exception": false,
     "start_time": "2023-04-14T00:32:52.376803",
     "status": "completed"
    },
    "tags": []
   },
   "outputs": [],
   "source": [
    "x_train,x_test,y_train,y_test = train_test_split(features,label,test_size=0.2,stratify=label,random_state = 42)"
   ]
  },
  {
   "attachments": {},
   "cell_type": "markdown",
   "id": "615e8681",
   "metadata": {
    "papermill": {
     "duration": 0.00816,
     "end_time": "2023-04-14T00:32:52.415427",
     "exception": false,
     "start_time": "2023-04-14T00:32:52.407267",
     "status": "completed"
    },
    "tags": []
   },
   "source": [
    "# Select Most Important Features"
   ]
  },
  {
   "attachments": {},
   "cell_type": "markdown",
   "id": "180b3f96",
   "metadata": {
    "papermill": {
     "duration": 0.007982,
     "end_time": "2023-04-14T00:32:52.431723",
     "exception": false,
     "start_time": "2023-04-14T00:32:52.423741",
     "status": "completed"
    },
    "tags": []
   },
   "source": [
    "# GB Trees"
   ]
  },
  {
   "cell_type": "code",
   "execution_count": 11,
   "id": "44af7816",
   "metadata": {
    "execution": {
     "iopub.execute_input": "2023-04-14T00:32:52.450563Z",
     "iopub.status.busy": "2023-04-14T00:32:52.449859Z",
     "iopub.status.idle": "2023-04-14T00:34:19.060320Z",
     "shell.execute_reply": "2023-04-14T00:34:19.058968Z"
    },
    "papermill": {
     "duration": 86.630572,
     "end_time": "2023-04-14T00:34:19.070755",
     "exception": false,
     "start_time": "2023-04-14T00:32:52.440183",
     "status": "completed"
    },
    "tags": []
   },
   "outputs": [
    {
     "name": "stdout",
     "output_type": "stream",
     "text": [
      "The best score found is: 0.44223163841807905\n",
      "best learning rate: 0.2\n",
      "The best N estimators is: 976\n",
      "The best Criterion is: squared_error\n",
      "The best Min sample split is: 29\n",
      "The best Min sample Leaf is: 3\n",
      "The best Max Depth is: 1\n"
     ]
    }
   ],
   "source": [
    "GBTkfold = StratifiedKFold(n_splits=10,shuffle=True,random_state=42)\n",
    "hyperparameters = {\"learning_rate\" : [0.1, 0.2, 0.3, 0.4, 0.5, 0.6, 0.7, 0.8, 0.9], \"n_estimators\" : list(range(50, 1001, 1)), \"criterion\": ['friedman_mse', 'squared_error'], \"min_samples_split\" : list(range(2, 51, 1)),\"min_samples_leaf\": list(range(1,11 ,1)), \"max_depth\": list(range(1, 11, 1))}\n",
    "\n",
    "bestModelFound = RandomizedSearchCV(GradientBoostingClassifier(random_state=42),hyperparameters,scoring='accuracy',cv=GBTkfold,n_jobs=-1)\n",
    "bestModelFound.fit(x_train,y_train)\n",
    "print(\"The best score found is:\",bestModelFound.best_score_)\n",
    "\n",
    "best_learning_rate= bestModelFound.best_params_.get(\"learning_rate\")\n",
    "print(\"best learning rate:\",best_learning_rate)\n",
    "\n",
    "bestNestimators = bestModelFound.best_params_.get(\"n_estimators\")\n",
    "print(\"The best N estimators is:\",bestNestimators)\n",
    "\n",
    "bestCriterion = bestModelFound.best_params_.get(\"criterion\")\n",
    "print(\"The best Criterion is:\",bestCriterion)\n",
    "\n",
    "bestMinSampleSplit = bestModelFound.best_params_.get(\"min_samples_split\")\n",
    "print(\"The best Min sample split is:\",bestMinSampleSplit)\n",
    "                                            \n",
    "bestMinSampleLeaf = bestModelFound.best_params_.get(\"min_samples_leaf\")\n",
    "print(\"The best Min sample Leaf is:\",bestMinSampleLeaf)\n",
    "                                            \n",
    "bestMaxDepth = bestModelFound.best_params_.get(\"max_depth\")\n",
    "print(\"The best Max Depth is:\",bestMaxDepth)"
   ]
  },
  {
   "cell_type": "code",
   "execution_count": 12,
   "id": "d4daab11",
   "metadata": {
    "execution": {
     "iopub.execute_input": "2023-04-14T00:34:19.090898Z",
     "iopub.status.busy": "2023-04-14T00:34:19.090439Z",
     "iopub.status.idle": "2023-04-14T00:34:19.097386Z",
     "shell.execute_reply": "2023-04-14T00:34:19.096013Z"
    },
    "papermill": {
     "duration": 0.02032,
     "end_time": "2023-04-14T00:34:19.099905",
     "exception": false,
     "start_time": "2023-04-14T00:34:19.079585",
     "status": "completed"
    },
    "tags": []
   },
   "outputs": [],
   "source": [
    "gbt = GradientBoostingClassifier(n_estimators=bestNestimators, learning_rate=best_learning_rate, max_depth=bestMaxDepth,criterion=bestCriterion,min_samples_split=bestMinSampleSplit, min_samples_leaf=bestMinSampleLeaf, random_state=42)"
   ]
  },
  {
   "cell_type": "code",
   "execution_count": 13,
   "id": "92dd3432",
   "metadata": {
    "execution": {
     "iopub.execute_input": "2023-04-14T00:34:19.119416Z",
     "iopub.status.busy": "2023-04-14T00:34:19.118686Z",
     "iopub.status.idle": "2023-04-14T00:34:19.124525Z",
     "shell.execute_reply": "2023-04-14T00:34:19.123047Z"
    },
    "papermill": {
     "duration": 0.01839,
     "end_time": "2023-04-14T00:34:19.127081",
     "exception": false,
     "start_time": "2023-04-14T00:34:19.108691",
     "status": "completed"
    },
    "tags": []
   },
   "outputs": [],
   "source": [
    "feature_selector = RFE(gbt, step=1, n_features_to_select=40)"
   ]
  },
  {
   "cell_type": "code",
   "execution_count": 14,
   "id": "9312e9bc",
   "metadata": {
    "execution": {
     "iopub.execute_input": "2023-04-14T00:34:19.147698Z",
     "iopub.status.busy": "2023-04-14T00:34:19.147177Z",
     "iopub.status.idle": "2023-04-14T00:36:53.239059Z",
     "shell.execute_reply": "2023-04-14T00:36:53.237801Z"
    },
    "papermill": {
     "duration": 154.114112,
     "end_time": "2023-04-14T00:36:53.250839",
     "exception": false,
     "start_time": "2023-04-14T00:34:19.136727",
     "status": "completed"
    },
    "tags": []
   },
   "outputs": [
    {
     "data": {
      "text/plain": [
       "RFE(estimator=GradientBoostingClassifier(criterion='squared_error',\n",
       "                                         learning_rate=0.2, max_depth=1,\n",
       "                                         min_samples_leaf=3,\n",
       "                                         min_samples_split=29, n_estimators=976,\n",
       "                                         random_state=42),\n",
       "    n_features_to_select=40)"
      ]
     },
     "execution_count": 14,
     "metadata": {},
     "output_type": "execute_result"
    }
   ],
   "source": [
    "feature_selector.fit(x_train, y_train)"
   ]
  },
  {
   "attachments": {},
   "cell_type": "markdown",
   "id": "e2d09038",
   "metadata": {
    "papermill": {
     "duration": 0.008591,
     "end_time": "2023-04-14T00:36:53.268159",
     "exception": false,
     "start_time": "2023-04-14T00:36:53.259568",
     "status": "completed"
    },
    "tags": []
   },
   "source": [
    "# Plot Most Important Features"
   ]
  },
  {
   "cell_type": "code",
   "execution_count": 15,
   "id": "bdb484f4",
   "metadata": {
    "execution": {
     "iopub.execute_input": "2023-04-14T00:36:53.287271Z",
     "iopub.status.busy": "2023-04-14T00:36:53.286847Z",
     "iopub.status.idle": "2023-04-14T00:36:53.293633Z",
     "shell.execute_reply": "2023-04-14T00:36:53.292434Z"
    },
    "papermill": {
     "duration": 0.020017,
     "end_time": "2023-04-14T00:36:53.296732",
     "exception": false,
     "start_time": "2023-04-14T00:36:53.276715",
     "status": "completed"
    },
    "tags": []
   },
   "outputs": [
    {
     "name": "stdout",
     "output_type": "stream",
     "text": [
      "Optimal number of features is: 40\n",
      "The selected features are: Index(['Sex', 'Age', 'rs1150895', 'rs11702267', 'rs1295640', 'rs17001492',\n",
      "       'rs17588612', 'rs1783016', 'rs1787438', 'rs216779', 'rs2186302',\n",
      "       'rs2256331', 'rs2829973', 'rs2829984', 'rs2829997', 'rs2830000',\n",
      "       'rs2830012', 'rs2830017', 'rs2830028', 'rs2830033', 'rs2830040',\n",
      "       'rs2830044', 'rs2830052', 'rs2830088', 'rs2830104', 'rs362350',\n",
      "       'rs362393', 'rs373521', 'rs375369', 'rs3787620', 'rs3787630',\n",
      "       'rs380417', 'rs439401', 'rs462281', 'rs7276036', 'rs7278838',\n",
      "       'rs769451', 'rs8006497', 'rs8106922', 'rs8127122'],\n",
      "      dtype='object')\n"
     ]
    }
   ],
   "source": [
    "# Print the optimal number of features\n",
    "print(\"Optimal number of features is:\",feature_selector.n_features_)\n",
    "print(\"The selected features are:\",x_train.columns[(feature_selector.get_support())])"
   ]
  },
  {
   "cell_type": "code",
   "execution_count": 16,
   "id": "35de36b3",
   "metadata": {
    "execution": {
     "iopub.execute_input": "2023-04-14T00:36:53.316558Z",
     "iopub.status.busy": "2023-04-14T00:36:53.316148Z",
     "iopub.status.idle": "2023-04-14T00:36:54.326819Z",
     "shell.execute_reply": "2023-04-14T00:36:54.325807Z"
    },
    "papermill": {
     "duration": 1.027608,
     "end_time": "2023-04-14T00:36:54.333381",
     "exception": false,
     "start_time": "2023-04-14T00:36:53.305773",
     "status": "completed"
    },
    "tags": []
   },
   "outputs": [
    {
     "data": {
      "text/plain": [
       "Text(0, 0.5, 'FEATURE NAMES')"
      ]
     },
     "execution_count": 16,
     "metadata": {},
     "output_type": "execute_result"
    },
    {
     "data": {
      "image/png": "[encoded data removed]",
      "text/plain": [
       "<Figure size 1000x5000 with 1 Axes>"
      ]
     },
     "metadata": {},
     "output_type": "display_data"
    }
   ],
   "source": [
    "#Create arrays of features importance and feature names\n",
    "features_importance = np.array(feature_selector.estimator_.feature_importances_)\n",
    "feature_names = np.array(x_train.columns[(feature_selector.get_support())])\n",
    "\n",
    "#Create a data frame using a dictionary\n",
    "data={'feature_names':feature_names,'features_importance':features_importance}\n",
    "feature_df = pd.DataFrame(data)\n",
    "\n",
    "#Sort the data frame according to decreasing feature importance\n",
    "feature_df.sort_values(by=['features_importance'], ascending=False,inplace=True)\n",
    "\n",
    "#Define size of plot\n",
    "plt.figure(figsize=(10,50))\n",
    "\n",
    "#Plot\n",
    "sns.barplot(x=feature_df['features_importance'], y=feature_df['feature_names'])\n",
    "\n",
    "plt.xlabel('FEATURE IMPORTANCE')\n",
    "plt.ylabel('FEATURE NAMES')"
   ]
  },
  {
   "attachments": {},
   "cell_type": "markdown",
   "id": "52a24607",
   "metadata": {
    "papermill": {
     "duration": 0.015191,
     "end_time": "2023-04-14T00:36:54.364344",
     "exception": false,
     "start_time": "2023-04-14T00:36:54.349153",
     "status": "completed"
    },
    "tags": []
   },
   "source": [
    "# Remove Non Important Features"
   ]
  },
  {
   "cell_type": "code",
   "execution_count": 17,
   "id": "ead4a69c",
   "metadata": {
    "execution": {
     "iopub.execute_input": "2023-04-14T00:36:54.389769Z",
     "iopub.status.busy": "2023-04-14T00:36:54.388796Z",
     "iopub.status.idle": "2023-04-14T00:36:54.401864Z",
     "shell.execute_reply": "2023-04-14T00:36:54.400615Z"
    },
    "papermill": {
     "duration": 0.028661,
     "end_time": "2023-04-14T00:36:54.404546",
     "exception": false,
     "start_time": "2023-04-14T00:36:54.375885",
     "status": "completed"
    },
    "tags": []
   },
   "outputs": [],
   "source": [
    "x_train= feature_selector.transform(x_train)\n",
    "x_test = feature_selector.transform(x_test)"
   ]
  },
  {
   "attachments": {},
   "cell_type": "markdown",
   "id": "4d1f3db6",
   "metadata": {
    "papermill": {
     "duration": 0.010631,
     "end_time": "2023-04-14T00:36:54.426281",
     "exception": false,
     "start_time": "2023-04-14T00:36:54.415650",
     "status": "completed"
    },
    "tags": []
   },
   "source": [
    "# SVM classifier "
   ]
  },
  {
   "cell_type": "code",
   "execution_count": 18,
   "id": "3406e2ca",
   "metadata": {
    "execution": {
     "iopub.execute_input": "2023-04-14T00:36:54.450947Z",
     "iopub.status.busy": "2023-04-14T00:36:54.449987Z",
     "iopub.status.idle": "2023-04-14T00:36:54.456195Z",
     "shell.execute_reply": "2023-04-14T00:36:54.455002Z"
    },
    "papermill": {
     "duration": 0.021329,
     "end_time": "2023-04-14T00:36:54.458559",
     "exception": false,
     "start_time": "2023-04-14T00:36:54.437230",
     "status": "completed"
    },
    "tags": []
   },
   "outputs": [],
   "source": [
    "# SVMKFold = StratifiedKFold(n_splits=10,shuffle=True,random_state=42)\n",
    "# hyperparameters = {\"C\": [0.1, 1, 10, 100],\"degree\": [2, 3, 4, 5],\"coef0\": [0, 1, 10, 100]}\n",
    "\n",
    "# bestModelFound = GridSearchCV(SVC(kernel = \"poly\",probability= True,random_state = 42, class_weight = class_weights_dict),hyperparameters,scoring='accuracy',cv=SVMKFold,n_jobs=-1)\n",
    "# bestModelFound.fit(x_train,y_train)\n",
    "# print(\"The best score found is:\",bestModelFound.best_score_)\n",
    "\n",
    "# bestC= bestModelFound.best_params_.get('C')\n",
    "# print(\"The best C is:\",bestC)\n",
    "# bestDegree = bestModelFound.best_params_.get('degree')\n",
    "# print(\"The best degree is:\",bestDegree)\n",
    "# bestCoef0 = bestModelFound.best_params_.get('coef0')\n",
    "# print(\"The best coef0 is:\",bestCoef0)\n"
   ]
  },
  {
   "attachments": {},
   "cell_type": "markdown",
   "id": "a82afaea",
   "metadata": {
    "papermill": {
     "duration": 0.010909,
     "end_time": "2023-04-14T00:36:54.484531",
     "exception": false,
     "start_time": "2023-04-14T00:36:54.473622",
     "status": "completed"
    },
    "tags": []
   },
   "source": [
    "# Class Weights"
   ]
  },
  {
   "cell_type": "code",
   "execution_count": 19,
   "id": "c29814fb",
   "metadata": {
    "execution": {
     "iopub.execute_input": "2023-04-14T00:36:54.508682Z",
     "iopub.status.busy": "2023-04-14T00:36:54.507607Z",
     "iopub.status.idle": "2023-04-14T00:36:54.515247Z",
     "shell.execute_reply": "2023-04-14T00:36:54.514363Z"
    },
    "papermill": {
     "duration": 0.022826,
     "end_time": "2023-04-14T00:36:54.518289",
     "exception": false,
     "start_time": "2023-04-14T00:36:54.495463",
     "status": "completed"
    },
    "tags": []
   },
   "outputs": [
    {
     "name": "stdout",
     "output_type": "stream",
     "text": [
      "[1.4468599  1.1745098  0.68613975]\n",
      "{0: 1.4468599033816425, 1: 1.1745098039215687, 2: 0.6861397479954181}\n"
     ]
    }
   ],
   "source": [
    "class_weights = class_weight.compute_class_weight(class_weight = 'balanced',\n",
    "                                                 classes = np.unique(y_train),\n",
    "                                                 y = y_train)\n",
    "print(class_weights)\n",
    "class_weights_dict = {0: class_weights[0], 1: class_weights[1], 2: class_weights[2]}\n",
    "print(class_weights_dict)"
   ]
  },
  {
   "cell_type": "code",
   "execution_count": 20,
   "id": "b98804a3",
   "metadata": {
    "execution": {
     "iopub.execute_input": "2023-04-14T00:36:54.552986Z",
     "iopub.status.busy": "2023-04-14T00:36:54.552118Z",
     "iopub.status.idle": "2023-04-14T00:36:54.557873Z",
     "shell.execute_reply": "2023-04-14T00:36:54.556687Z"
    },
    "papermill": {
     "duration": 0.026248,
     "end_time": "2023-04-14T00:36:54.560840",
     "exception": false,
     "start_time": "2023-04-14T00:36:54.534592",
     "status": "completed"
    },
    "tags": []
   },
   "outputs": [],
   "source": [
    "svm_classfier = SVC(kernel = \"poly\",probability= True,random_state = 42, class_weight = class_weights_dict)"
   ]
  },
  {
   "cell_type": "code",
   "execution_count": 21,
   "id": "3e29331e",
   "metadata": {
    "execution": {
     "iopub.execute_input": "2023-04-14T00:36:54.591098Z",
     "iopub.status.busy": "2023-04-14T00:36:54.590224Z",
     "iopub.status.idle": "2023-04-14T00:36:54.732437Z",
     "shell.execute_reply": "2023-04-14T00:36:54.731293Z"
    },
    "papermill": {
     "duration": 0.158186,
     "end_time": "2023-04-14T00:36:54.735254",
     "exception": false,
     "start_time": "2023-04-14T00:36:54.577068",
     "status": "completed"
    },
    "tags": []
   },
   "outputs": [
    {
     "data": {
      "text/plain": [
       "SVC(class_weight={0: 1.4468599033816425, 1: 1.1745098039215687,\n",
       "                  2: 0.6861397479954181},\n",
       "    kernel='poly', probability=True, random_state=42)"
      ]
     },
     "execution_count": 21,
     "metadata": {},
     "output_type": "execute_result"
    }
   ],
   "source": [
    "svm_classfier.fit(x_train, y_train)"
   ]
  },
  {
   "cell_type": "code",
   "execution_count": 22,
   "id": "2beec315",
   "metadata": {
    "execution": {
     "iopub.execute_input": "2023-04-14T00:36:54.759791Z",
     "iopub.status.busy": "2023-04-14T00:36:54.759406Z",
     "iopub.status.idle": "2023-04-14T00:36:54.770012Z",
     "shell.execute_reply": "2023-04-14T00:36:54.768788Z"
    },
    "papermill": {
     "duration": 0.026142,
     "end_time": "2023-04-14T00:36:54.772760",
     "exception": false,
     "start_time": "2023-04-14T00:36:54.746618",
     "status": "completed"
    },
    "tags": []
   },
   "outputs": [],
   "source": [
    "svm_predict = svm_classfier.predict(x_test)"
   ]
  },
  {
   "cell_type": "code",
   "execution_count": 23,
   "id": "95f732ae",
   "metadata": {
    "execution": {
     "iopub.execute_input": "2023-04-14T00:36:54.798164Z",
     "iopub.status.busy": "2023-04-14T00:36:54.797001Z",
     "iopub.status.idle": "2023-04-14T00:36:54.805062Z",
     "shell.execute_reply": "2023-04-14T00:36:54.803360Z"
    },
    "papermill": {
     "duration": 0.023051,
     "end_time": "2023-04-14T00:36:54.807305",
     "exception": false,
     "start_time": "2023-04-14T00:36:54.784254",
     "status": "completed"
    },
    "tags": []
   },
   "outputs": [
    {
     "name": "stdout",
     "output_type": "stream",
     "text": [
      "[2 0 2 2 1 0 1 2 2 0 2 1 0 1 0 2 2 2 2 2 1 2 2 1 1 1 2 1 1 2 1 1 2 2 2 0 0\n",
      " 0 1 1 2 2 1 0 1 1 2 2 1 1 1 0 0 2 2 1 0 2 2 2 2 0 2 0 2 0 2 2 2 2 1 1 0 1\n",
      " 1 0 0 2 2 2 0 2 2 2 2 1 0 2 2 0 0 2 2 2 0 2 1 0 0 0 2 2 0 1 0 2 2 2 2 1 1\n",
      " 2 2 2 2 0 2 0 2 2 2 1 2 1 2 1 1 1 2 1 1 2 0 0 2 2 2 2 0 1 0 1 2 1 2 0 1 1\n",
      " 2 2]\n",
      "[2 0 2 0 2 2 2 2 1 2 2 2 2 0 2 2 2 0 2 0 2 2 2 0 2 2 0 0 1 2 2 2 2 0 2 2 2\n",
      " 1 0 2 1 0 2 2 1 0 0 2 2 2 2 0 2 0 2 1 2 2 2 1 2 0 0 2 2 2 0 0 1 1 0 2 0 2\n",
      " 2 2 2 1 2 1 2 2 0 0 0 0 0 0 2 0 2 2 0 2 0 2 1 0 2 2 0 2 2 2 1 2 2 2 2 0 2\n",
      " 0 2 0 1 2 0 2 2 0 0 0 2 0 2 2 1 2 0 1 1 0 2 2 2 2 0 2 0 1 0 1 2 2 0 0 2 0\n",
      " 0 2]\n"
     ]
    }
   ],
   "source": [
    "print(np.array(y_test))\n",
    "print(svm_predict)"
   ]
  },
  {
   "attachments": {},
   "cell_type": "markdown",
   "id": "aee3da46",
   "metadata": {
    "papermill": {
     "duration": 0.011057,
     "end_time": "2023-04-14T00:36:54.829806",
     "exception": false,
     "start_time": "2023-04-14T00:36:54.818749",
     "status": "completed"
    },
    "tags": []
   },
   "source": [
    "# Accuracy Score "
   ]
  },
  {
   "cell_type": "code",
   "execution_count": 24,
   "id": "63bd04d9",
   "metadata": {
    "execution": {
     "iopub.execute_input": "2023-04-14T00:36:54.858064Z",
     "iopub.status.busy": "2023-04-14T00:36:54.857467Z",
     "iopub.status.idle": "2023-04-14T00:36:54.863880Z",
     "shell.execute_reply": "2023-04-14T00:36:54.862802Z"
    },
    "papermill": {
     "duration": 0.024384,
     "end_time": "2023-04-14T00:36:54.866762",
     "exception": false,
     "start_time": "2023-04-14T00:36:54.842378",
     "status": "completed"
    },
    "tags": []
   },
   "outputs": [
    {
     "name": "stdout",
     "output_type": "stream",
     "text": [
      "accruracy score is :  0.38666666666666666\n"
     ]
    }
   ],
   "source": [
    "print(\"accruracy score is : \" , accuracy_score(np.array(y_test), svm_predict)) "
   ]
  },
  {
   "attachments": {},
   "cell_type": "markdown",
   "id": "7b584dd1",
   "metadata": {
    "papermill": {
     "duration": 0.011213,
     "end_time": "2023-04-14T00:36:54.894387",
     "exception": false,
     "start_time": "2023-04-14T00:36:54.883174",
     "status": "completed"
    },
    "tags": []
   },
   "source": [
    "# Model Confusion Matrix"
   ]
  },
  {
   "cell_type": "code",
   "execution_count": 25,
   "id": "b7fbcca3",
   "metadata": {
    "execution": {
     "iopub.execute_input": "2023-04-14T00:36:54.921146Z",
     "iopub.status.busy": "2023-04-14T00:36:54.919201Z",
     "iopub.status.idle": "2023-04-14T00:36:54.925699Z",
     "shell.execute_reply": "2023-04-14T00:36:54.924733Z"
    },
    "papermill": {
     "duration": 0.022202,
     "end_time": "2023-04-14T00:36:54.928118",
     "exception": false,
     "start_time": "2023-04-14T00:36:54.905916",
     "status": "completed"
    },
    "tags": []
   },
   "outputs": [],
   "source": [
    "label_name=[\"AD\",\"CN\",\"MCI\"]"
   ]
  },
  {
   "cell_type": "code",
   "execution_count": 26,
   "id": "f882e74c",
   "metadata": {
    "execution": {
     "iopub.execute_input": "2023-04-14T00:36:54.953802Z",
     "iopub.status.busy": "2023-04-14T00:36:54.953103Z",
     "iopub.status.idle": "2023-04-14T00:36:55.211164Z",
     "shell.execute_reply": "2023-04-14T00:36:55.209861Z"
    },
    "papermill": {
     "duration": 0.273825,
     "end_time": "2023-04-14T00:36:55.213764",
     "exception": false,
     "start_time": "2023-04-14T00:36:54.939939",
     "status": "completed"
    },
    "tags": []
   },
   "outputs": [
    {
     "data": {
      "image/png": "[encoded data removed]",
      "text/plain": [
       "<Figure size 640x480 with 2 Axes>"
      ]
     },
     "metadata": {},
     "output_type": "display_data"
    }
   ],
   "source": [
    "from sklearn.metrics import confusion_matrix\n",
    "import seaborn as sns\n",
    "\n",
    "ConfusionMatrix = confusion_matrix(np.array(y_test),svm_predict)\n",
    "sns.heatmap(ConfusionMatrix, annot=True, fmt=\"d\", cmap=\"Greens\", xticklabels=label_name, yticklabels=label_name)\n",
    "plt.title(\"Confusion Matrix\\n\")\n",
    "plt.ylabel('Actual')\n",
    "plt.xlabel('Predicted')\n",
    "plt.show()"
   ]
  },
  {
   "attachments": {},
   "cell_type": "markdown",
   "id": "3e1bee22",
   "metadata": {
    "papermill": {
     "duration": 0.011562,
     "end_time": "2023-04-14T00:36:55.237228",
     "exception": false,
     "start_time": "2023-04-14T00:36:55.225666",
     "status": "completed"
    },
    "tags": []
   },
   "source": [
    "# Model Classification Report"
   ]
  },
  {
   "cell_type": "code",
   "execution_count": 27,
   "id": "49fad1af",
   "metadata": {
    "execution": {
     "iopub.execute_input": "2023-04-14T00:36:55.263708Z",
     "iopub.status.busy": "2023-04-14T00:36:55.262858Z",
     "iopub.status.idle": "2023-04-14T00:36:55.274430Z",
     "shell.execute_reply": "2023-04-14T00:36:55.273030Z"
    },
    "papermill": {
     "duration": 0.027875,
     "end_time": "2023-04-14T00:36:55.277132",
     "exception": false,
     "start_time": "2023-04-14T00:36:55.249257",
     "status": "completed"
    },
    "tags": []
   },
   "outputs": [
    {
     "name": "stdout",
     "output_type": "stream",
     "text": [
      "Classification Report\n",
      "\n",
      "              precision    recall  f1-score   support\n",
      "\n",
      "          AD       0.22      0.31      0.26        35\n",
      "          CN       0.47      0.21      0.30        42\n",
      "         MCI       0.46      0.52      0.49        73\n",
      "\n",
      "    accuracy                           0.39       150\n",
      "   macro avg       0.39      0.35      0.35       150\n",
      "weighted avg       0.41      0.39      0.38       150\n",
      "\n"
     ]
    }
   ],
   "source": [
    "from sklearn.metrics import classification_report\n",
    "\n",
    "print(\"Classification Report\\n\")\n",
    "print(classification_report(np.array(y_test),svm_predict, target_names=[\"AD\",\"CN\",\"MCI\"]))"
   ]
  }
 ],
 "metadata": {
  "kernelspec": {
   "display_name": "Python 3",
   "language": "python",
   "name": "python3"
  },
  "language_info": {
   "codemirror_mode": {
    "name": "ipython",
    "version": 3
   },
   "file_extension": ".py",
   "mimetype": "text/x-python",
   "name": "python",
   "nbconvert_exporter": "python",
   "pygments_lexer": "ipython3",
   "version": "3.7.12"
  },
  "papermill": {
   "default_parameters": {},
   "duration": 258.02158,
   "end_time": "2023-04-14T00:36:57.912070",
   "environment_variables": {},
   "exception": null,
   "input_path": "__notebook__.ipynb",
   "output_path": "__notebook__.ipynb",
   "parameters": {},
   "start_time": "2023-04-14T00:32:39.890490",
   "version": "2.4.0"
  }
 },
 "nbformat": 4,
 "nbformat_minor": 5
}
