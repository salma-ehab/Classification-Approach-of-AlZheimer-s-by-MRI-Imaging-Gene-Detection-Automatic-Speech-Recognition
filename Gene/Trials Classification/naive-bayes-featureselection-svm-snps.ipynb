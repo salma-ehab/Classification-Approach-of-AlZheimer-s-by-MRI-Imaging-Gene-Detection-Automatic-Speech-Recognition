{
 "cells": [
  {
   "cell_type": "code",
   "execution_count": 1,
   "id": "72bc72ca",
   "metadata": {
    "_cell_guid": "b1076dfc-b9ad-4769-8c92-a6c4dae69d19",
    "_uuid": "8f2839f25d086af736a60e9eeb907d3b93b6e0e5",
    "execution": {
     "iopub.execute_input": "2023-04-13T23:42:56.836921Z",
     "iopub.status.busy": "2023-04-13T23:42:56.836441Z",
     "iopub.status.idle": "2023-04-13T23:42:58.569682Z",
     "shell.execute_reply": "2023-04-13T23:42:58.568589Z"
    },
    "papermill": {
     "duration": 1.745566,
     "end_time": "2023-04-13T23:42:58.572143",
     "exception": false,
     "start_time": "2023-04-13T23:42:56.826577",
     "status": "completed"
    },
    "tags": []
   },
   "outputs": [],
   "source": [
    "import pandas as pd\n",
    "import numpy as np\n",
    "from sklearn.preprocessing import LabelEncoder\n",
    "from sklearn.model_selection import train_test_split\n",
    "from sklearn.model_selection import KFold\n",
    "from sklearn.model_selection import GridSearchCV\n",
    "import matplotlib.pyplot as plt\n",
    "import seaborn as sns\n",
    "import os\n",
    "from sklearn.metrics import accuracy_score\n",
    "from sklearn.metrics import classification_report\n",
    "from sklearn.model_selection import StratifiedKFold\n",
    "from sklearn.model_selection import cross_val_score\n",
    "from sklearn.feature_selection import RFE\n",
    "import xgboost as xgb\n",
    "from sklearn.svm import SVC\n",
    "from sklearn.utils import class_weight\n",
    "from sklearn.naive_bayes import MultinomialNB\n"
   ]
  },
  {
   "attachments": {},
   "cell_type": "markdown",
   "id": "49d424b5",
   "metadata": {
    "papermill": {
     "duration": 0.006783,
     "end_time": "2023-04-13T23:42:58.586025",
     "exception": false,
     "start_time": "2023-04-13T23:42:58.579242",
     "status": "completed"
    },
    "tags": []
   },
   "source": [
    "# Read CSV"
   ]
  },
  {
   "cell_type": "code",
   "execution_count": 2,
   "id": "412ee830",
   "metadata": {
    "execution": {
     "iopub.execute_input": "2023-04-13T23:42:58.601846Z",
     "iopub.status.busy": "2023-04-13T23:42:58.601469Z",
     "iopub.status.idle": "2023-04-13T23:42:58.674400Z",
     "shell.execute_reply": "2023-04-13T23:42:58.673288Z"
    },
    "papermill": {
     "duration": 0.083962,
     "end_time": "2023-04-13T23:42:58.676991",
     "exception": false,
     "start_time": "2023-04-13T23:42:58.593029",
     "status": "completed"
    },
    "tags": []
   },
   "outputs": [],
   "source": [
    "df = pd.read_csv(\"../input/geneall-data-filtered/GeneALL_Data_filtered.csv\")"
   ]
  },
  {
   "cell_type": "code",
   "execution_count": 3,
   "id": "0e38980b",
   "metadata": {
    "execution": {
     "iopub.execute_input": "2023-04-13T23:42:58.692564Z",
     "iopub.status.busy": "2023-04-13T23:42:58.692115Z",
     "iopub.status.idle": "2023-04-13T23:42:58.719552Z",
     "shell.execute_reply": "2023-04-13T23:42:58.717625Z"
    },
    "papermill": {
     "duration": 0.038701,
     "end_time": "2023-04-13T23:42:58.722735",
     "exception": false,
     "start_time": "2023-04-13T23:42:58.684034",
     "status": "completed"
    },
    "tags": []
   },
   "outputs": [
    {
     "name": "stdout",
     "output_type": "stream",
     "text": [
      "     Unnamed: 0  Unnamed: 0.1  Unnamed: 0.1.1          ID Group Sex   Age  \\\n",
      "0             0             0             0.0  002_S_0295    CN   M  85.0   \n",
      "1             1             1             0.0  002_S_0413    CN   F  76.0   \n",
      "2             2             2             0.0  002_S_0559    CN   M  79.0   \n",
      "3             3             3             0.0  002_S_0619    AD   M  78.0   \n",
      "4             4             4             0.0  002_S_0685    CN   F  90.0   \n",
      "..          ...           ...             ...         ...   ...  ..   ...   \n",
      "745         745           112             0.0  941_S_1202    CN   M  78.0   \n",
      "746         746           113             0.0  941_S_1203    CN   M  83.0   \n",
      "747         747           114             0.0  941_S_1295   MCI   M  77.0   \n",
      "748         748           115             0.0  941_S_1311   MCI   M  69.0   \n",
      "749         749           116             0.0  941_S_1363   MCI   F  70.0   \n",
      "\n",
      "     rs10460695  rs1150895  rs11666145  ...  rs6516727  rs7276036  rs7278838  \\\n",
      "0             0          0           0  ...          0          0          0   \n",
      "1             0          0           0  ...          2          1          1   \n",
      "2             0          1           0  ...          2          0          0   \n",
      "3             0          1           0  ...          1          0          0   \n",
      "4             0          1           0  ...          0          0          0   \n",
      "..          ...        ...         ...  ...        ...        ...        ...   \n",
      "745           0          0           0  ...          0          0          0   \n",
      "746           0          0           0  ...          0          0          0   \n",
      "747           0          0           0  ...          0          0          0   \n",
      "748           0          1           0  ...          1          1          1   \n",
      "749           0          0           0  ...          1          1          1   \n",
      "\n",
      "     rs7283136  rs731523  rs768039  rs769451  rs8006497  rs8106922  rs8127122  \n",
      "0            0         2         2         0          0          1          0  \n",
      "1            0         2         2         1          0          1          0  \n",
      "2            0         2         2         0          0          0          0  \n",
      "3            0         2         2         0          0          0          0  \n",
      "4            0         2         2         0          0          0          0  \n",
      "..         ...       ...       ...       ...        ...        ...        ...  \n",
      "745          0         2         2         0          1          1          0  \n",
      "746          0         2         2         0          0          2          0  \n",
      "747          0         2         2         0          0          1          0  \n",
      "748          0         2         2         0          1          0          0  \n",
      "749          1         2         2         0          0          0          0  \n",
      "\n",
      "[750 rows x 96 columns]\n"
     ]
    }
   ],
   "source": [
    "print(df)"
   ]
  },
  {
   "cell_type": "code",
   "execution_count": 4,
   "id": "d13153a4",
   "metadata": {
    "execution": {
     "iopub.execute_input": "2023-04-13T23:42:58.739135Z",
     "iopub.status.busy": "2023-04-13T23:42:58.738446Z",
     "iopub.status.idle": "2023-04-13T23:42:58.761811Z",
     "shell.execute_reply": "2023-04-13T23:42:58.760652Z"
    },
    "papermill": {
     "duration": 0.03418,
     "end_time": "2023-04-13T23:42:58.764220",
     "exception": false,
     "start_time": "2023-04-13T23:42:58.730040",
     "status": "completed"
    },
    "tags": []
   },
   "outputs": [],
   "source": [
    "df = pd.read_csv(\"../input/geneall-data-filtered/GeneALL_Data_filtered.csv\").drop([\"Unnamed: 0\",\"Unnamed: 0.1\",\"Unnamed: 0.1.1\",\"ID\"], axis=1)"
   ]
  },
  {
   "cell_type": "code",
   "execution_count": 5,
   "id": "1463045f",
   "metadata": {
    "execution": {
     "iopub.execute_input": "2023-04-13T23:42:58.780200Z",
     "iopub.status.busy": "2023-04-13T23:42:58.779815Z",
     "iopub.status.idle": "2023-04-13T23:42:58.794024Z",
     "shell.execute_reply": "2023-04-13T23:42:58.792705Z"
    },
    "papermill": {
     "duration": 0.024745,
     "end_time": "2023-04-13T23:42:58.796254",
     "exception": false,
     "start_time": "2023-04-13T23:42:58.771509",
     "status": "completed"
    },
    "tags": []
   },
   "outputs": [
    {
     "name": "stdout",
     "output_type": "stream",
     "text": [
      "    Group Sex   Age  rs10460695  rs1150895  rs11666145  rs11702267  \\\n",
      "0      CN   M  85.0           0          0           0           0   \n",
      "1      CN   F  76.0           0          0           0           0   \n",
      "2      CN   M  79.0           0          1           0           1   \n",
      "3      AD   M  78.0           0          1           0           0   \n",
      "4      CN   F  90.0           0          1           0           0   \n",
      "..    ...  ..   ...         ...        ...         ...         ...   \n",
      "745    CN   M  78.0           0          0           0           0   \n",
      "746    CN   M  83.0           0          0           0           0   \n",
      "747   MCI   M  77.0           0          0           0           0   \n",
      "748   MCI   M  69.0           0          1           0           0   \n",
      "749   MCI   F  70.0           0          0           0           0   \n",
      "\n",
      "     rs12482262  rs12482753  rs1295640  ...  rs6516727  rs7276036  rs7278838  \\\n",
      "0             0           0          2  ...          0          0          0   \n",
      "1             1           1          2  ...          2          1          1   \n",
      "2             0           0          0  ...          2          0          0   \n",
      "3             0           0          0  ...          1          0          0   \n",
      "4             0           0          0  ...          0          0          0   \n",
      "..          ...         ...        ...  ...        ...        ...        ...   \n",
      "745           0           0          1  ...          0          0          0   \n",
      "746           0           0          0  ...          0          0          0   \n",
      "747           0           0          2  ...          0          0          0   \n",
      "748           0           0          1  ...          1          1          1   \n",
      "749           0           0          2  ...          1          1          1   \n",
      "\n",
      "     rs7283136  rs731523  rs768039  rs769451  rs8006497  rs8106922  rs8127122  \n",
      "0            0         2         2         0          0          1          0  \n",
      "1            0         2         2         1          0          1          0  \n",
      "2            0         2         2         0          0          0          0  \n",
      "3            0         2         2         0          0          0          0  \n",
      "4            0         2         2         0          0          0          0  \n",
      "..         ...       ...       ...       ...        ...        ...        ...  \n",
      "745          0         2         2         0          1          1          0  \n",
      "746          0         2         2         0          0          2          0  \n",
      "747          0         2         2         0          0          1          0  \n",
      "748          0         2         2         0          1          0          0  \n",
      "749          1         2         2         0          0          0          0  \n",
      "\n",
      "[750 rows x 92 columns]\n"
     ]
    }
   ],
   "source": [
    "print(df)"
   ]
  },
  {
   "cell_type": "code",
   "execution_count": 6,
   "id": "d0eab84b",
   "metadata": {
    "execution": {
     "iopub.execute_input": "2023-04-13T23:42:58.811991Z",
     "iopub.status.busy": "2023-04-13T23:42:58.811603Z",
     "iopub.status.idle": "2023-04-13T23:42:58.823629Z",
     "shell.execute_reply": "2023-04-13T23:42:58.822594Z"
    },
    "papermill": {
     "duration": 0.02223,
     "end_time": "2023-04-13T23:42:58.825631",
     "exception": false,
     "start_time": "2023-04-13T23:42:58.803401",
     "status": "completed"
    },
    "tags": []
   },
   "outputs": [],
   "source": [
    "df['Group'].replace('  ', np.nan, inplace=True)\n",
    "df= df.dropna(subset=['Group'])"
   ]
  },
  {
   "cell_type": "code",
   "execution_count": 7,
   "id": "4563b81a",
   "metadata": {
    "execution": {
     "iopub.execute_input": "2023-04-13T23:42:58.842793Z",
     "iopub.status.busy": "2023-04-13T23:42:58.842380Z",
     "iopub.status.idle": "2023-04-13T23:42:58.855518Z",
     "shell.execute_reply": "2023-04-13T23:42:58.854583Z"
    },
    "papermill": {
     "duration": 0.024224,
     "end_time": "2023-04-13T23:42:58.858016",
     "exception": false,
     "start_time": "2023-04-13T23:42:58.833792",
     "status": "completed"
    },
    "tags": []
   },
   "outputs": [
    {
     "name": "stdout",
     "output_type": "stream",
     "text": [
      "    Group Sex   Age  rs10460695  rs1150895  rs11666145  rs11702267  \\\n",
      "0      CN   M  85.0           0          0           0           0   \n",
      "1      CN   F  76.0           0          0           0           0   \n",
      "2      CN   M  79.0           0          1           0           1   \n",
      "3      AD   M  78.0           0          1           0           0   \n",
      "4      CN   F  90.0           0          1           0           0   \n",
      "..    ...  ..   ...         ...        ...         ...         ...   \n",
      "745    CN   M  78.0           0          0           0           0   \n",
      "746    CN   M  83.0           0          0           0           0   \n",
      "747   MCI   M  77.0           0          0           0           0   \n",
      "748   MCI   M  69.0           0          1           0           0   \n",
      "749   MCI   F  70.0           0          0           0           0   \n",
      "\n",
      "     rs12482262  rs12482753  rs1295640  ...  rs6516727  rs7276036  rs7278838  \\\n",
      "0             0           0          2  ...          0          0          0   \n",
      "1             1           1          2  ...          2          1          1   \n",
      "2             0           0          0  ...          2          0          0   \n",
      "3             0           0          0  ...          1          0          0   \n",
      "4             0           0          0  ...          0          0          0   \n",
      "..          ...         ...        ...  ...        ...        ...        ...   \n",
      "745           0           0          1  ...          0          0          0   \n",
      "746           0           0          0  ...          0          0          0   \n",
      "747           0           0          2  ...          0          0          0   \n",
      "748           0           0          1  ...          1          1          1   \n",
      "749           0           0          2  ...          1          1          1   \n",
      "\n",
      "     rs7283136  rs731523  rs768039  rs769451  rs8006497  rs8106922  rs8127122  \n",
      "0            0         2         2         0          0          1          0  \n",
      "1            0         2         2         1          0          1          0  \n",
      "2            0         2         2         0          0          0          0  \n",
      "3            0         2         2         0          0          0          0  \n",
      "4            0         2         2         0          0          0          0  \n",
      "..         ...       ...       ...       ...        ...        ...        ...  \n",
      "745          0         2         2         0          1          1          0  \n",
      "746          0         2         2         0          0          2          0  \n",
      "747          0         2         2         0          0          1          0  \n",
      "748          0         2         2         0          1          0          0  \n",
      "749          1         2         2         0          0          0          0  \n",
      "\n",
      "[749 rows x 92 columns]\n"
     ]
    }
   ],
   "source": [
    "print(df)"
   ]
  },
  {
   "attachments": {},
   "cell_type": "markdown",
   "id": "ca011470",
   "metadata": {
    "papermill": {
     "duration": 0.006919,
     "end_time": "2023-04-13T23:42:58.872216",
     "exception": false,
     "start_time": "2023-04-13T23:42:58.865297",
     "status": "completed"
    },
    "tags": []
   },
   "source": [
    "# Encode Categorical Data"
   ]
  },
  {
   "cell_type": "code",
   "execution_count": 8,
   "id": "ea4413a2",
   "metadata": {
    "execution": {
     "iopub.execute_input": "2023-04-13T23:42:58.887913Z",
     "iopub.status.busy": "2023-04-13T23:42:58.887515Z",
     "iopub.status.idle": "2023-04-13T23:42:58.894398Z",
     "shell.execute_reply": "2023-04-13T23:42:58.892977Z"
    },
    "papermill": {
     "duration": 0.017142,
     "end_time": "2023-04-13T23:42:58.896338",
     "exception": false,
     "start_time": "2023-04-13T23:42:58.879196",
     "status": "completed"
    },
    "tags": []
   },
   "outputs": [],
   "source": [
    "#CN 1, AD 0, MCI 2\n",
    "#M 1, F 0\n",
    "label_encoder = LabelEncoder()\n",
    "df[\"Group\"]= label_encoder.fit_transform(df[\"Group\"])\n",
    "df[\"Sex\"]= label_encoder.fit_transform(df[\"Sex\"])"
   ]
  },
  {
   "attachments": {},
   "cell_type": "markdown",
   "id": "1e03f726",
   "metadata": {
    "papermill": {
     "duration": 0.007133,
     "end_time": "2023-04-13T23:42:58.911589",
     "exception": false,
     "start_time": "2023-04-13T23:42:58.904456",
     "status": "completed"
    },
    "tags": []
   },
   "source": [
    "# Get Features and Labels"
   ]
  },
  {
   "cell_type": "code",
   "execution_count": 9,
   "id": "077c60da",
   "metadata": {
    "execution": {
     "iopub.execute_input": "2023-04-13T23:42:58.927767Z",
     "iopub.status.busy": "2023-04-13T23:42:58.927348Z",
     "iopub.status.idle": "2023-04-13T23:42:58.934246Z",
     "shell.execute_reply": "2023-04-13T23:42:58.933359Z"
    },
    "papermill": {
     "duration": 0.017381,
     "end_time": "2023-04-13T23:42:58.936222",
     "exception": false,
     "start_time": "2023-04-13T23:42:58.918841",
     "status": "completed"
    },
    "tags": []
   },
   "outputs": [],
   "source": [
    "features = df.drop('Group',axis=1)\n",
    "label= df.Group"
   ]
  },
  {
   "attachments": {},
   "cell_type": "markdown",
   "id": "f1988279",
   "metadata": {
    "papermill": {
     "duration": 0.00712,
     "end_time": "2023-04-13T23:42:58.950750",
     "exception": false,
     "start_time": "2023-04-13T23:42:58.943630",
     "status": "completed"
    },
    "tags": []
   },
   "source": [
    "# Split Data into Training and Testing"
   ]
  },
  {
   "cell_type": "code",
   "execution_count": 10,
   "id": "4c06eff7",
   "metadata": {
    "execution": {
     "iopub.execute_input": "2023-04-13T23:42:58.966816Z",
     "iopub.status.busy": "2023-04-13T23:42:58.966429Z",
     "iopub.status.idle": "2023-04-13T23:42:58.975723Z",
     "shell.execute_reply": "2023-04-13T23:42:58.974925Z"
    },
    "papermill": {
     "duration": 0.019685,
     "end_time": "2023-04-13T23:42:58.977718",
     "exception": false,
     "start_time": "2023-04-13T23:42:58.958033",
     "status": "completed"
    },
    "tags": []
   },
   "outputs": [],
   "source": [
    "x_train,x_test,y_train,y_test = train_test_split(features,label,test_size=0.2,stratify=label,random_state = 42)"
   ]
  },
  {
   "attachments": {},
   "cell_type": "markdown",
   "id": "a07b7211",
   "metadata": {
    "papermill": {
     "duration": 0.007303,
     "end_time": "2023-04-13T23:42:58.992491",
     "exception": false,
     "start_time": "2023-04-13T23:42:58.985188",
     "status": "completed"
    },
    "tags": []
   },
   "source": [
    "# Select Most Important Features"
   ]
  },
  {
   "cell_type": "code",
   "execution_count": 11,
   "id": "0f2685f3",
   "metadata": {
    "execution": {
     "iopub.execute_input": "2023-04-13T23:42:59.008686Z",
     "iopub.status.busy": "2023-04-13T23:42:59.008246Z",
     "iopub.status.idle": "2023-04-13T23:42:59.013753Z",
     "shell.execute_reply": "2023-04-13T23:42:59.012383Z"
    },
    "papermill": {
     "duration": 0.01614,
     "end_time": "2023-04-13T23:42:59.016021",
     "exception": false,
     "start_time": "2023-04-13T23:42:58.999881",
     "status": "completed"
    },
    "tags": []
   },
   "outputs": [],
   "source": [
    "nb = MultinomialNB()"
   ]
  },
  {
   "cell_type": "code",
   "execution_count": 12,
   "id": "a0118cc2",
   "metadata": {
    "execution": {
     "iopub.execute_input": "2023-04-13T23:42:59.033479Z",
     "iopub.status.busy": "2023-04-13T23:42:59.032443Z",
     "iopub.status.idle": "2023-04-13T23:42:59.037396Z",
     "shell.execute_reply": "2023-04-13T23:42:59.036620Z"
    },
    "papermill": {
     "duration": 0.015677,
     "end_time": "2023-04-13T23:42:59.039282",
     "exception": false,
     "start_time": "2023-04-13T23:42:59.023605",
     "status": "completed"
    },
    "tags": []
   },
   "outputs": [],
   "source": [
    "feature_selector = RFE(nb, step=1, n_features_to_select=40)"
   ]
  },
  {
   "cell_type": "code",
   "execution_count": 13,
   "id": "6837bfe2",
   "metadata": {
    "execution": {
     "iopub.execute_input": "2023-04-13T23:42:59.055821Z",
     "iopub.status.busy": "2023-04-13T23:42:59.055415Z",
     "iopub.status.idle": "2023-04-13T23:42:59.128943Z",
     "shell.execute_reply": "2023-04-13T23:42:59.127599Z"
    },
    "papermill": {
     "duration": 0.084767,
     "end_time": "2023-04-13T23:42:59.131461",
     "exception": false,
     "start_time": "2023-04-13T23:42:59.046694",
     "status": "completed"
    },
    "tags": []
   },
   "outputs": [
    {
     "name": "stderr",
     "output_type": "stream",
     "text": [
      "/opt/conda/lib/python3.7/site-packages/sklearn/utils/deprecation.py:103: FutureWarning: Attribute `coef_` was deprecated in version 0.24 and will be removed in 1.1 (renaming of 0.26).\n",
      "  warnings.warn(msg, category=FutureWarning)\n",
      "/opt/conda/lib/python3.7/site-packages/sklearn/utils/deprecation.py:103: FutureWarning: Attribute `coef_` was deprecated in version 0.24 and will be removed in 1.1 (renaming of 0.26).\n",
      "  warnings.warn(msg, category=FutureWarning)\n",
      "/opt/conda/lib/python3.7/site-packages/sklearn/utils/deprecation.py:103: FutureWarning: Attribute `coef_` was deprecated in version 0.24 and will be removed in 1.1 (renaming of 0.26).\n",
      "  warnings.warn(msg, category=FutureWarning)\n",
      "/opt/conda/lib/python3.7/site-packages/sklearn/utils/deprecation.py:103: FutureWarning: Attribute `coef_` was deprecated in version 0.24 and will be removed in 1.1 (renaming of 0.26).\n",
      "  warnings.warn(msg, category=FutureWarning)\n",
      "/opt/conda/lib/python3.7/site-packages/sklearn/utils/deprecation.py:103: FutureWarning: Attribute `coef_` was deprecated in version 0.24 and will be removed in 1.1 (renaming of 0.26).\n",
      "  warnings.warn(msg, category=FutureWarning)\n",
      "/opt/conda/lib/python3.7/site-packages/sklearn/utils/deprecation.py:103: FutureWarning: Attribute `coef_` was deprecated in version 0.24 and will be removed in 1.1 (renaming of 0.26).\n",
      "  warnings.warn(msg, category=FutureWarning)\n",
      "/opt/conda/lib/python3.7/site-packages/sklearn/utils/deprecation.py:103: FutureWarning: Attribute `coef_` was deprecated in version 0.24 and will be removed in 1.1 (renaming of 0.26).\n",
      "  warnings.warn(msg, category=FutureWarning)\n",
      "/opt/conda/lib/python3.7/site-packages/sklearn/utils/deprecation.py:103: FutureWarning: Attribute `coef_` was deprecated in version 0.24 and will be removed in 1.1 (renaming of 0.26).\n",
      "  warnings.warn(msg, category=FutureWarning)\n",
      "/opt/conda/lib/python3.7/site-packages/sklearn/utils/deprecation.py:103: FutureWarning: Attribute `coef_` was deprecated in version 0.24 and will be removed in 1.1 (renaming of 0.26).\n",
      "  warnings.warn(msg, category=FutureWarning)\n",
      "/opt/conda/lib/python3.7/site-packages/sklearn/utils/deprecation.py:103: FutureWarning: Attribute `coef_` was deprecated in version 0.24 and will be removed in 1.1 (renaming of 0.26).\n",
      "  warnings.warn(msg, category=FutureWarning)\n",
      "/opt/conda/lib/python3.7/site-packages/sklearn/utils/deprecation.py:103: FutureWarning: Attribute `coef_` was deprecated in version 0.24 and will be removed in 1.1 (renaming of 0.26).\n",
      "  warnings.warn(msg, category=FutureWarning)\n",
      "/opt/conda/lib/python3.7/site-packages/sklearn/utils/deprecation.py:103: FutureWarning: Attribute `coef_` was deprecated in version 0.24 and will be removed in 1.1 (renaming of 0.26).\n",
      "  warnings.warn(msg, category=FutureWarning)\n",
      "/opt/conda/lib/python3.7/site-packages/sklearn/utils/deprecation.py:103: FutureWarning: Attribute `coef_` was deprecated in version 0.24 and will be removed in 1.1 (renaming of 0.26).\n",
      "  warnings.warn(msg, category=FutureWarning)\n",
      "/opt/conda/lib/python3.7/site-packages/sklearn/utils/deprecation.py:103: FutureWarning: Attribute `coef_` was deprecated in version 0.24 and will be removed in 1.1 (renaming of 0.26).\n",
      "  warnings.warn(msg, category=FutureWarning)\n",
      "/opt/conda/lib/python3.7/site-packages/sklearn/utils/deprecation.py:103: FutureWarning: Attribute `coef_` was deprecated in version 0.24 and will be removed in 1.1 (renaming of 0.26).\n",
      "  warnings.warn(msg, category=FutureWarning)\n",
      "/opt/conda/lib/python3.7/site-packages/sklearn/utils/deprecation.py:103: FutureWarning: Attribute `coef_` was deprecated in version 0.24 and will be removed in 1.1 (renaming of 0.26).\n",
      "  warnings.warn(msg, category=FutureWarning)\n",
      "/opt/conda/lib/python3.7/site-packages/sklearn/utils/deprecation.py:103: FutureWarning: Attribute `coef_` was deprecated in version 0.24 and will be removed in 1.1 (renaming of 0.26).\n",
      "  warnings.warn(msg, category=FutureWarning)\n",
      "/opt/conda/lib/python3.7/site-packages/sklearn/utils/deprecation.py:103: FutureWarning: Attribute `coef_` was deprecated in version 0.24 and will be removed in 1.1 (renaming of 0.26).\n",
      "  warnings.warn(msg, category=FutureWarning)\n",
      "/opt/conda/lib/python3.7/site-packages/sklearn/utils/deprecation.py:103: FutureWarning: Attribute `coef_` was deprecated in version 0.24 and will be removed in 1.1 (renaming of 0.26).\n",
      "  warnings.warn(msg, category=FutureWarning)\n",
      "/opt/conda/lib/python3.7/site-packages/sklearn/utils/deprecation.py:103: FutureWarning: Attribute `coef_` was deprecated in version 0.24 and will be removed in 1.1 (renaming of 0.26).\n",
      "  warnings.warn(msg, category=FutureWarning)\n",
      "/opt/conda/lib/python3.7/site-packages/sklearn/utils/deprecation.py:103: FutureWarning: Attribute `coef_` was deprecated in version 0.24 and will be removed in 1.1 (renaming of 0.26).\n",
      "  warnings.warn(msg, category=FutureWarning)\n",
      "/opt/conda/lib/python3.7/site-packages/sklearn/utils/deprecation.py:103: FutureWarning: Attribute `coef_` was deprecated in version 0.24 and will be removed in 1.1 (renaming of 0.26).\n",
      "  warnings.warn(msg, category=FutureWarning)\n",
      "/opt/conda/lib/python3.7/site-packages/sklearn/utils/deprecation.py:103: FutureWarning: Attribute `coef_` was deprecated in version 0.24 and will be removed in 1.1 (renaming of 0.26).\n",
      "  warnings.warn(msg, category=FutureWarning)\n",
      "/opt/conda/lib/python3.7/site-packages/sklearn/utils/deprecation.py:103: FutureWarning: Attribute `coef_` was deprecated in version 0.24 and will be removed in 1.1 (renaming of 0.26).\n",
      "  warnings.warn(msg, category=FutureWarning)\n",
      "/opt/conda/lib/python3.7/site-packages/sklearn/utils/deprecation.py:103: FutureWarning: Attribute `coef_` was deprecated in version 0.24 and will be removed in 1.1 (renaming of 0.26).\n",
      "  warnings.warn(msg, category=FutureWarning)\n",
      "/opt/conda/lib/python3.7/site-packages/sklearn/utils/deprecation.py:103: FutureWarning: Attribute `coef_` was deprecated in version 0.24 and will be removed in 1.1 (renaming of 0.26).\n",
      "  warnings.warn(msg, category=FutureWarning)\n",
      "/opt/conda/lib/python3.7/site-packages/sklearn/utils/deprecation.py:103: FutureWarning: Attribute `coef_` was deprecated in version 0.24 and will be removed in 1.1 (renaming of 0.26).\n",
      "  warnings.warn(msg, category=FutureWarning)\n",
      "/opt/conda/lib/python3.7/site-packages/sklearn/utils/deprecation.py:103: FutureWarning: Attribute `coef_` was deprecated in version 0.24 and will be removed in 1.1 (renaming of 0.26).\n",
      "  warnings.warn(msg, category=FutureWarning)\n",
      "/opt/conda/lib/python3.7/site-packages/sklearn/utils/deprecation.py:103: FutureWarning: Attribute `coef_` was deprecated in version 0.24 and will be removed in 1.1 (renaming of 0.26).\n",
      "  warnings.warn(msg, category=FutureWarning)\n",
      "/opt/conda/lib/python3.7/site-packages/sklearn/utils/deprecation.py:103: FutureWarning: Attribute `coef_` was deprecated in version 0.24 and will be removed in 1.1 (renaming of 0.26).\n",
      "  warnings.warn(msg, category=FutureWarning)\n",
      "/opt/conda/lib/python3.7/site-packages/sklearn/utils/deprecation.py:103: FutureWarning: Attribute `coef_` was deprecated in version 0.24 and will be removed in 1.1 (renaming of 0.26).\n",
      "  warnings.warn(msg, category=FutureWarning)\n",
      "/opt/conda/lib/python3.7/site-packages/sklearn/utils/deprecation.py:103: FutureWarning: Attribute `coef_` was deprecated in version 0.24 and will be removed in 1.1 (renaming of 0.26).\n",
      "  warnings.warn(msg, category=FutureWarning)\n",
      "/opt/conda/lib/python3.7/site-packages/sklearn/utils/deprecation.py:103: FutureWarning: Attribute `coef_` was deprecated in version 0.24 and will be removed in 1.1 (renaming of 0.26).\n",
      "  warnings.warn(msg, category=FutureWarning)\n",
      "/opt/conda/lib/python3.7/site-packages/sklearn/utils/deprecation.py:103: FutureWarning: Attribute `coef_` was deprecated in version 0.24 and will be removed in 1.1 (renaming of 0.26).\n",
      "  warnings.warn(msg, category=FutureWarning)\n",
      "/opt/conda/lib/python3.7/site-packages/sklearn/utils/deprecation.py:103: FutureWarning: Attribute `coef_` was deprecated in version 0.24 and will be removed in 1.1 (renaming of 0.26).\n",
      "  warnings.warn(msg, category=FutureWarning)\n",
      "/opt/conda/lib/python3.7/site-packages/sklearn/utils/deprecation.py:103: FutureWarning: Attribute `coef_` was deprecated in version 0.24 and will be removed in 1.1 (renaming of 0.26).\n",
      "  warnings.warn(msg, category=FutureWarning)\n",
      "/opt/conda/lib/python3.7/site-packages/sklearn/utils/deprecation.py:103: FutureWarning: Attribute `coef_` was deprecated in version 0.24 and will be removed in 1.1 (renaming of 0.26).\n",
      "  warnings.warn(msg, category=FutureWarning)\n",
      "/opt/conda/lib/python3.7/site-packages/sklearn/utils/deprecation.py:103: FutureWarning: Attribute `coef_` was deprecated in version 0.24 and will be removed in 1.1 (renaming of 0.26).\n",
      "  warnings.warn(msg, category=FutureWarning)\n",
      "/opt/conda/lib/python3.7/site-packages/sklearn/utils/deprecation.py:103: FutureWarning: Attribute `coef_` was deprecated in version 0.24 and will be removed in 1.1 (renaming of 0.26).\n",
      "  warnings.warn(msg, category=FutureWarning)\n",
      "/opt/conda/lib/python3.7/site-packages/sklearn/utils/deprecation.py:103: FutureWarning: Attribute `coef_` was deprecated in version 0.24 and will be removed in 1.1 (renaming of 0.26).\n",
      "  warnings.warn(msg, category=FutureWarning)\n",
      "/opt/conda/lib/python3.7/site-packages/sklearn/utils/deprecation.py:103: FutureWarning: Attribute `coef_` was deprecated in version 0.24 and will be removed in 1.1 (renaming of 0.26).\n",
      "  warnings.warn(msg, category=FutureWarning)\n",
      "/opt/conda/lib/python3.7/site-packages/sklearn/utils/deprecation.py:103: FutureWarning: Attribute `coef_` was deprecated in version 0.24 and will be removed in 1.1 (renaming of 0.26).\n",
      "  warnings.warn(msg, category=FutureWarning)\n",
      "/opt/conda/lib/python3.7/site-packages/sklearn/utils/deprecation.py:103: FutureWarning: Attribute `coef_` was deprecated in version 0.24 and will be removed in 1.1 (renaming of 0.26).\n",
      "  warnings.warn(msg, category=FutureWarning)\n",
      "/opt/conda/lib/python3.7/site-packages/sklearn/utils/deprecation.py:103: FutureWarning: Attribute `coef_` was deprecated in version 0.24 and will be removed in 1.1 (renaming of 0.26).\n",
      "  warnings.warn(msg, category=FutureWarning)\n",
      "/opt/conda/lib/python3.7/site-packages/sklearn/utils/deprecation.py:103: FutureWarning: Attribute `coef_` was deprecated in version 0.24 and will be removed in 1.1 (renaming of 0.26).\n",
      "  warnings.warn(msg, category=FutureWarning)\n",
      "/opt/conda/lib/python3.7/site-packages/sklearn/utils/deprecation.py:103: FutureWarning: Attribute `coef_` was deprecated in version 0.24 and will be removed in 1.1 (renaming of 0.26).\n",
      "  warnings.warn(msg, category=FutureWarning)\n",
      "/opt/conda/lib/python3.7/site-packages/sklearn/utils/deprecation.py:103: FutureWarning: Attribute `coef_` was deprecated in version 0.24 and will be removed in 1.1 (renaming of 0.26).\n",
      "  warnings.warn(msg, category=FutureWarning)\n",
      "/opt/conda/lib/python3.7/site-packages/sklearn/utils/deprecation.py:103: FutureWarning: Attribute `coef_` was deprecated in version 0.24 and will be removed in 1.1 (renaming of 0.26).\n",
      "  warnings.warn(msg, category=FutureWarning)\n",
      "/opt/conda/lib/python3.7/site-packages/sklearn/utils/deprecation.py:103: FutureWarning: Attribute `coef_` was deprecated in version 0.24 and will be removed in 1.1 (renaming of 0.26).\n",
      "  warnings.warn(msg, category=FutureWarning)\n",
      "/opt/conda/lib/python3.7/site-packages/sklearn/utils/deprecation.py:103: FutureWarning: Attribute `coef_` was deprecated in version 0.24 and will be removed in 1.1 (renaming of 0.26).\n",
      "  warnings.warn(msg, category=FutureWarning)\n",
      "/opt/conda/lib/python3.7/site-packages/sklearn/utils/deprecation.py:103: FutureWarning: Attribute `coef_` was deprecated in version 0.24 and will be removed in 1.1 (renaming of 0.26).\n",
      "  warnings.warn(msg, category=FutureWarning)\n"
     ]
    },
    {
     "data": {
      "text/plain": [
       "RFE(estimator=MultinomialNB(), n_features_to_select=40)"
      ]
     },
     "execution_count": 13,
     "metadata": {},
     "output_type": "execute_result"
    }
   ],
   "source": [
    "feature_selector.fit(x_train, y_train)"
   ]
  },
  {
   "attachments": {},
   "cell_type": "markdown",
   "id": "16d85632",
   "metadata": {
    "papermill": {
     "duration": 0.007276,
     "end_time": "2023-04-13T23:42:59.146501",
     "exception": false,
     "start_time": "2023-04-13T23:42:59.139225",
     "status": "completed"
    },
    "tags": []
   },
   "source": [
    "# Plot Most Important Features"
   ]
  },
  {
   "cell_type": "code",
   "execution_count": 14,
   "id": "86e2cbd6",
   "metadata": {
    "execution": {
     "iopub.execute_input": "2023-04-13T23:42:59.163557Z",
     "iopub.status.busy": "2023-04-13T23:42:59.162982Z",
     "iopub.status.idle": "2023-04-13T23:42:59.169004Z",
     "shell.execute_reply": "2023-04-13T23:42:59.167249Z"
    },
    "papermill": {
     "duration": 0.016843,
     "end_time": "2023-04-13T23:42:59.170945",
     "exception": false,
     "start_time": "2023-04-13T23:42:59.154102",
     "status": "completed"
    },
    "tags": []
   },
   "outputs": [
    {
     "name": "stdout",
     "output_type": "stream",
     "text": [
      "The selected features are: Index(['rs10460695', 'rs1150895', 'rs11666145', 'rs11702267', 'rs12482262',\n",
      "       'rs12482753', 'rs17001492', 'rs17588612', 'rs1783016', 'rs216779',\n",
      "       'rs2226330', 'rs2234983', 'rs2829984', 'rs2829989', 'rs2830001',\n",
      "       'rs2830008', 'rs2830017', 'rs2830018', 'rs2830036', 'rs2830040',\n",
      "       'rs2830051', 'rs2830058', 'rs2830079', 'rs2830104', 'rs362346',\n",
      "       'rs362350', 'rs362377', 'rs362393', 'rs362400', 'rs3787620',\n",
      "       'rs3787625', 'rs3787630', 'rs3827166', 'rs438031', 'rs462281',\n",
      "       'rs7276036', 'rs7283136', 'rs769451', 'rs8006497', 'rs8127122'],\n",
      "      dtype='object')\n"
     ]
    }
   ],
   "source": [
    "# Print the optimal number of features\n",
    "# print(\"Optimal number of features is:\",feature_selector.n_features_)\n",
    "print(\"The selected features are:\",x_train.columns[(feature_selector.get_support())])"
   ]
  },
  {
   "attachments": {},
   "cell_type": "markdown",
   "id": "3037aa3d",
   "metadata": {
    "papermill": {
     "duration": 0.007478,
     "end_time": "2023-04-13T23:42:59.209849",
     "exception": false,
     "start_time": "2023-04-13T23:42:59.202371",
     "status": "completed"
    },
    "tags": []
   },
   "source": [
    "# Remove Non Important Features"
   ]
  },
  {
   "cell_type": "code",
   "execution_count": 16,
   "id": "72b4f956",
   "metadata": {
    "execution": {
     "iopub.execute_input": "2023-04-13T23:42:59.227251Z",
     "iopub.status.busy": "2023-04-13T23:42:59.226915Z",
     "iopub.status.idle": "2023-04-13T23:42:59.236766Z",
     "shell.execute_reply": "2023-04-13T23:42:59.235669Z"
    },
    "papermill": {
     "duration": 0.021117,
     "end_time": "2023-04-13T23:42:59.238875",
     "exception": false,
     "start_time": "2023-04-13T23:42:59.217758",
     "status": "completed"
    },
    "tags": []
   },
   "outputs": [],
   "source": [
    "x_train= feature_selector.transform(x_train)\n",
    "x_test = feature_selector.transform(x_test)"
   ]
  },
  {
   "attachments": {},
   "cell_type": "markdown",
   "id": "e82504a1",
   "metadata": {
    "papermill": {
     "duration": 0.007542,
     "end_time": "2023-04-13T23:42:59.254308",
     "exception": false,
     "start_time": "2023-04-13T23:42:59.246766",
     "status": "completed"
    },
    "tags": []
   },
   "source": [
    "# SVM classifier "
   ]
  },
  {
   "cell_type": "code",
   "execution_count": 17,
   "id": "4f565835",
   "metadata": {
    "execution": {
     "iopub.execute_input": "2023-04-13T23:42:59.272191Z",
     "iopub.status.busy": "2023-04-13T23:42:59.271821Z",
     "iopub.status.idle": "2023-04-13T23:42:59.277683Z",
     "shell.execute_reply": "2023-04-13T23:42:59.276130Z"
    },
    "papermill": {
     "duration": 0.018673,
     "end_time": "2023-04-13T23:42:59.280906",
     "exception": false,
     "start_time": "2023-04-13T23:42:59.262233",
     "status": "completed"
    },
    "tags": []
   },
   "outputs": [],
   "source": [
    "# SVMKFold = StratifiedKFold(n_splits=10,shuffle=True,random_state=42)\n",
    "# hyperparameters = {\"C\": [0.1, 1, 10, 100],\"degree\": [2, 3, 4, 5],\"coef0\": [0, 1, 10, 100]}\n",
    "\n",
    "# bestModelFound = GridSearchCV(SVC(kernel = \"poly\",probability= True,random_state = 42, class_weight = class_weights_dict),hyperparameters,scoring='accuracy',cv=SVMKFold,n_jobs=-1)\n",
    "# bestModelFound.fit(x_train,y_train)\n",
    "# print(\"The best score found is:\",bestModelFound.best_score_)\n",
    "\n",
    "# bestC= bestModelFound.best_params_.get('C')\n",
    "# print(\"The best C is:\",bestC)\n",
    "# bestDegree = bestModelFound.best_params_.get('degree')\n",
    "# print(\"The best degree is:\",bestDegree)\n",
    "# bestCoef0 = bestModelFound.best_params_.get('coef0')\n",
    "# print(\"The best coef0 is:\",bestCoef0)\n"
   ]
  },
  {
   "attachments": {},
   "cell_type": "markdown",
   "id": "5382ff2f",
   "metadata": {
    "papermill": {
     "duration": 0.007696,
     "end_time": "2023-04-13T23:42:59.296995",
     "exception": false,
     "start_time": "2023-04-13T23:42:59.289299",
     "status": "completed"
    },
    "tags": []
   },
   "source": [
    "# Class Weights"
   ]
  },
  {
   "cell_type": "code",
   "execution_count": 18,
   "id": "08329aa8",
   "metadata": {
    "execution": {
     "iopub.execute_input": "2023-04-13T23:42:59.314709Z",
     "iopub.status.busy": "2023-04-13T23:42:59.314287Z",
     "iopub.status.idle": "2023-04-13T23:42:59.322570Z",
     "shell.execute_reply": "2023-04-13T23:42:59.321009Z"
    },
    "papermill": {
     "duration": 0.020635,
     "end_time": "2023-04-13T23:42:59.325370",
     "exception": false,
     "start_time": "2023-04-13T23:42:59.304735",
     "status": "completed"
    },
    "tags": []
   },
   "outputs": [
    {
     "name": "stdout",
     "output_type": "stream",
     "text": [
      "[1.4468599  1.1745098  0.68613975]\n",
      "{0: 1.4468599033816425, 1: 1.1745098039215687, 2: 0.6861397479954181}\n"
     ]
    }
   ],
   "source": [
    "class_weights = class_weight.compute_class_weight(class_weight = 'balanced',\n",
    "                                                 classes = np.unique(y_train),\n",
    "                                                 y = y_train)\n",
    "print(class_weights)\n",
    "class_weights_dict = {0: class_weights[0], 1: class_weights[1], 2: class_weights[2]}\n",
    "print(class_weights_dict)"
   ]
  },
  {
   "cell_type": "code",
   "execution_count": 19,
   "id": "b3c68dfd",
   "metadata": {
    "execution": {
     "iopub.execute_input": "2023-04-13T23:42:59.344102Z",
     "iopub.status.busy": "2023-04-13T23:42:59.343740Z",
     "iopub.status.idle": "2023-04-13T23:42:59.349075Z",
     "shell.execute_reply": "2023-04-13T23:42:59.347265Z"
    },
    "papermill": {
     "duration": 0.017413,
     "end_time": "2023-04-13T23:42:59.351405",
     "exception": false,
     "start_time": "2023-04-13T23:42:59.333992",
     "status": "completed"
    },
    "tags": []
   },
   "outputs": [],
   "source": [
    "svm_classfier = SVC(kernel = \"poly\",probability= True,random_state = 42, class_weight = class_weights_dict)"
   ]
  },
  {
   "cell_type": "code",
   "execution_count": 20,
   "id": "8c6885cc",
   "metadata": {
    "execution": {
     "iopub.execute_input": "2023-04-13T23:42:59.370145Z",
     "iopub.status.busy": "2023-04-13T23:42:59.369768Z",
     "iopub.status.idle": "2023-04-13T23:42:59.476017Z",
     "shell.execute_reply": "2023-04-13T23:42:59.474298Z"
    },
    "papermill": {
     "duration": 0.119135,
     "end_time": "2023-04-13T23:42:59.478909",
     "exception": false,
     "start_time": "2023-04-13T23:42:59.359774",
     "status": "completed"
    },
    "tags": []
   },
   "outputs": [
    {
     "data": {
      "text/plain": [
       "SVC(class_weight={0: 1.4468599033816425, 1: 1.1745098039215687,\n",
       "                  2: 0.6861397479954181},\n",
       "    kernel='poly', probability=True, random_state=42)"
      ]
     },
     "execution_count": 20,
     "metadata": {},
     "output_type": "execute_result"
    }
   ],
   "source": [
    "svm_classfier.fit(x_train, y_train)"
   ]
  },
  {
   "cell_type": "code",
   "execution_count": 21,
   "id": "58b4ed55",
   "metadata": {
    "execution": {
     "iopub.execute_input": "2023-04-13T23:42:59.498365Z",
     "iopub.status.busy": "2023-04-13T23:42:59.497984Z",
     "iopub.status.idle": "2023-04-13T23:42:59.506720Z",
     "shell.execute_reply": "2023-04-13T23:42:59.505247Z"
    },
    "papermill": {
     "duration": 0.022559,
     "end_time": "2023-04-13T23:42:59.509824",
     "exception": false,
     "start_time": "2023-04-13T23:42:59.487265",
     "status": "completed"
    },
    "tags": []
   },
   "outputs": [],
   "source": [
    "svm_predict = svm_classfier.predict(x_test)"
   ]
  },
  {
   "cell_type": "code",
   "execution_count": 22,
   "id": "50307fde",
   "metadata": {
    "execution": {
     "iopub.execute_input": "2023-04-13T23:42:59.528996Z",
     "iopub.status.busy": "2023-04-13T23:42:59.528328Z",
     "iopub.status.idle": "2023-04-13T23:42:59.535315Z",
     "shell.execute_reply": "2023-04-13T23:42:59.533680Z"
    },
    "papermill": {
     "duration": 0.019635,
     "end_time": "2023-04-13T23:42:59.537935",
     "exception": false,
     "start_time": "2023-04-13T23:42:59.518300",
     "status": "completed"
    },
    "tags": []
   },
   "outputs": [
    {
     "name": "stdout",
     "output_type": "stream",
     "text": [
      "[2 0 2 2 1 0 1 2 2 0 2 1 0 1 0 2 2 2 2 2 1 2 2 1 1 1 2 1 1 2 1 1 2 2 2 0 0\n",
      " 0 1 1 2 2 1 0 1 1 2 2 1 1 1 0 0 2 2 1 0 2 2 2 2 0 2 0 2 0 2 2 2 2 1 1 0 1\n",
      " 1 0 0 2 2 2 0 2 2 2 2 1 0 2 2 0 0 2 2 2 0 2 1 0 0 0 2 2 0 1 0 2 2 2 2 1 1\n",
      " 2 2 2 2 0 2 0 2 2 2 1 2 1 2 1 1 1 2 1 1 2 0 0 2 2 2 2 0 1 0 1 2 1 2 0 1 1\n",
      " 2 2]\n",
      "[0 0 0 0 0 0 1 0 0 0 0 2 2 2 2 0 0 0 0 2 0 1 0 0 0 0 0 1 0 0 0 0 0 0 0 0 0\n",
      " 0 2 0 0 0 2 0 2 0 2 1 0 0 0 0 0 0 0 0 2 0 2 2 2 0 0 0 0 0 0 0 0 2 0 0 0 0\n",
      " 0 0 0 0 0 1 0 0 0 0 0 0 0 0 0 0 0 0 1 2 0 0 2 1 2 2 2 0 1 0 0 0 0 0 2 0 0\n",
      " 0 2 0 0 0 2 0 0 0 0 2 2 0 0 0 0 0 0 1 0 0 0 0 2 1 2 1 0 0 2 0 0 1 0 0 1 0\n",
      " 0 1]\n"
     ]
    }
   ],
   "source": [
    "print(np.array(y_test))\n",
    "print(svm_predict)"
   ]
  },
  {
   "attachments": {},
   "cell_type": "markdown",
   "id": "5119cf86",
   "metadata": {
    "papermill": {
     "duration": 0.007887,
     "end_time": "2023-04-13T23:42:59.554405",
     "exception": false,
     "start_time": "2023-04-13T23:42:59.546518",
     "status": "completed"
    },
    "tags": []
   },
   "source": [
    "# Accuracy Score "
   ]
  },
  {
   "cell_type": "code",
   "execution_count": 23,
   "id": "c493bcd7",
   "metadata": {
    "execution": {
     "iopub.execute_input": "2023-04-13T23:42:59.572687Z",
     "iopub.status.busy": "2023-04-13T23:42:59.572265Z",
     "iopub.status.idle": "2023-04-13T23:42:59.578046Z",
     "shell.execute_reply": "2023-04-13T23:42:59.577276Z"
    },
    "papermill": {
     "duration": 0.017929,
     "end_time": "2023-04-13T23:42:59.580454",
     "exception": false,
     "start_time": "2023-04-13T23:42:59.562525",
     "status": "completed"
    },
    "tags": []
   },
   "outputs": [
    {
     "name": "stdout",
     "output_type": "stream",
     "text": [
      "accruracy score is :  0.30666666666666664\n"
     ]
    }
   ],
   "source": [
    "print(\"accruracy score is : \" , accuracy_score(np.array(y_test), svm_predict)) "
   ]
  },
  {
   "attachments": {},
   "cell_type": "markdown",
   "id": "66ebc582",
   "metadata": {
    "papermill": {
     "duration": 0.008211,
     "end_time": "2023-04-13T23:42:59.597246",
     "exception": false,
     "start_time": "2023-04-13T23:42:59.589035",
     "status": "completed"
    },
    "tags": []
   },
   "source": [
    "# Model Confusion Matrix"
   ]
  },
  {
   "cell_type": "code",
   "execution_count": 24,
   "id": "6f0b3f71",
   "metadata": {
    "execution": {
     "iopub.execute_input": "2023-04-13T23:42:59.616051Z",
     "iopub.status.busy": "2023-04-13T23:42:59.615228Z",
     "iopub.status.idle": "2023-04-13T23:42:59.620416Z",
     "shell.execute_reply": "2023-04-13T23:42:59.618860Z"
    },
    "papermill": {
     "duration": 0.017333,
     "end_time": "2023-04-13T23:42:59.622938",
     "exception": false,
     "start_time": "2023-04-13T23:42:59.605605",
     "status": "completed"
    },
    "tags": []
   },
   "outputs": [],
   "source": [
    "label_name=[\"AD\",\"CN\",\"MCI\"]"
   ]
  },
  {
   "cell_type": "code",
   "execution_count": 25,
   "id": "d418b5f3",
   "metadata": {
    "execution": {
     "iopub.execute_input": "2023-04-13T23:42:59.642951Z",
     "iopub.status.busy": "2023-04-13T23:42:59.641750Z",
     "iopub.status.idle": "2023-04-13T23:42:59.853616Z",
     "shell.execute_reply": "2023-04-13T23:42:59.852674Z"
    },
    "papermill": {
     "duration": 0.22391,
     "end_time": "2023-04-13T23:42:59.855670",
     "exception": false,
     "start_time": "2023-04-13T23:42:59.631760",
     "status": "completed"
    },
    "tags": []
   },
   "outputs": [
    {
     "data": {
      "image/png": "[encoded data removed]",
      "text/plain": [
       "<Figure size 640x480 with 2 Axes>"
      ]
     },
     "metadata": {},
     "output_type": "display_data"
    }
   ],
   "source": [
    "from sklearn.metrics import confusion_matrix\n",
    "import seaborn as sns\n",
    "\n",
    "ConfusionMatrix = confusion_matrix(np.array(y_test),svm_predict)\n",
    "sns.heatmap(ConfusionMatrix, annot=True, fmt=\"d\", cmap=\"Greens\", xticklabels=label_name, yticklabels=label_name)\n",
    "plt.title(\"Confusion Matrix\\n\")\n",
    "plt.ylabel('Actual')\n",
    "plt.xlabel('Predicted')\n",
    "plt.show()"
   ]
  },
  {
   "attachments": {},
   "cell_type": "markdown",
   "id": "5cef00ca",
   "metadata": {
    "papermill": {
     "duration": 0.007925,
     "end_time": "2023-04-13T23:42:59.872295",
     "exception": false,
     "start_time": "2023-04-13T23:42:59.864370",
     "status": "completed"
    },
    "tags": []
   },
   "source": [
    "# Model Classification Report"
   ]
  },
  {
   "cell_type": "code",
   "execution_count": 26,
   "id": "b8bdee40",
   "metadata": {
    "execution": {
     "iopub.execute_input": "2023-04-13T23:42:59.890395Z",
     "iopub.status.busy": "2023-04-13T23:42:59.890072Z",
     "iopub.status.idle": "2023-04-13T23:42:59.902285Z",
     "shell.execute_reply": "2023-04-13T23:42:59.900735Z"
    },
    "papermill": {
     "duration": 0.024336,
     "end_time": "2023-04-13T23:42:59.904949",
     "exception": false,
     "start_time": "2023-04-13T23:42:59.880613",
     "status": "completed"
    },
    "tags": []
   },
   "outputs": [
    {
     "name": "stdout",
     "output_type": "stream",
     "text": [
      "Classification Report\n",
      "\n",
      "              precision    recall  f1-score   support\n",
      "\n",
      "          AD       0.25      0.77      0.38        35\n",
      "          CN       0.36      0.12      0.18        42\n",
      "         MCI       0.52      0.19      0.28        73\n",
      "\n",
      "    accuracy                           0.31       150\n",
      "   macro avg       0.37      0.36      0.28       150\n",
      "weighted avg       0.41      0.31      0.27       150\n",
      "\n"
     ]
    }
   ],
   "source": [
    "from sklearn.metrics import classification_report\n",
    "\n",
    "print(\"Classification Report\\n\")\n",
    "print(classification_report(np.array(y_test),svm_predict, target_names=[\"AD\",\"CN\",\"MCI\"]))"
   ]
  }
 ],
 "metadata": {
  "kernelspec": {
   "display_name": "Python 3",
   "language": "python",
   "name": "python3"
  },
  "language_info": {
   "codemirror_mode": {
    "name": "ipython",
    "version": 3
   },
   "file_extension": ".py",
   "mimetype": "text/x-python",
   "name": "python",
   "nbconvert_exporter": "python",
   "pygments_lexer": "ipython3",
   "version": "3.7.12"
  },
  "papermill": {
   "default_parameters": {},
   "duration": 14.209825,
   "end_time": "2023-04-13T23:43:00.637977",
   "environment_variables": {},
   "exception": null,
   "input_path": "__notebook__.ipynb",
   "output_path": "__notebook__.ipynb",
   "parameters": {},
   "start_time": "2023-04-13T23:42:46.428152",
   "version": "2.4.0"
  }
 },
 "nbformat": 4,
 "nbformat_minor": 5
}
