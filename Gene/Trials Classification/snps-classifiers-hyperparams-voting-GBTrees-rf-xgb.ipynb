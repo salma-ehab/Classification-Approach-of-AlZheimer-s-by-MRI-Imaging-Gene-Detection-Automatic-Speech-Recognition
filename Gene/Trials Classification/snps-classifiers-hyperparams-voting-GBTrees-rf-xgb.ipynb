{
 "cells": [
  {
   "cell_type": "code",
   "execution_count": 1,
   "id": "1f11d5ab",
   "metadata": {
    "execution": {
     "iopub.execute_input": "2023-04-17T21:29:25.294909Z",
     "iopub.status.busy": "2023-04-17T21:29:25.294068Z",
     "iopub.status.idle": "2023-04-17T21:29:27.684953Z",
     "shell.execute_reply": "2023-04-17T21:29:27.683259Z"
    },
    "papermill": {
     "duration": 2.404276,
     "end_time": "2023-04-17T21:29:27.688272",
     "exception": false,
     "start_time": "2023-04-17T21:29:25.283996",
     "status": "completed"
    },
    "tags": []
   },
   "outputs": [],
   "source": [
    "import pandas as pd\n",
    "import numpy as np\n",
    "from sklearn.preprocessing import LabelEncoder\n",
    "from sklearn.model_selection import train_test_split\n",
    "from sklearn.model_selection import KFold\n",
    "from sklearn.model_selection import GridSearchCV\n",
    "import matplotlib.pyplot as plt\n",
    "import seaborn as sns\n",
    "import os\n",
    "from sklearn.metrics import accuracy_score\n",
    "from sklearn.metrics import classification_report\n",
    "from sklearn.model_selection import StratifiedKFold\n",
    "from sklearn.model_selection import cross_val_score\n",
    "from sklearn.feature_selection import RFE\n",
    "import xgboost as xgb\n",
    "from sklearn.svm import SVC\n",
    "from sklearn.utils import class_weight\n",
    "from sklearn.ensemble import GradientBoostingClassifier\n",
    "from sklearn.metrics import confusion_matrix\n",
    "from sklearn.tree import DecisionTreeClassifier\n",
    "from sklearn.ensemble import RandomForestClassifier\n",
    "from sklearn.linear_model import LogisticRegression\n",
    "from sklearn.neural_network import MLPClassifier \n",
    "from imblearn.over_sampling import SMOTE"
   ]
  },
  {
   "attachments": {},
   "cell_type": "markdown",
   "id": "5b862e07",
   "metadata": {
    "papermill": {
     "duration": 0.006808,
     "end_time": "2023-04-17T21:29:27.702673",
     "exception": false,
     "start_time": "2023-04-17T21:29:27.695865",
     "status": "completed"
    },
    "tags": []
   },
   "source": [
    "# Prepare Data"
   ]
  },
  {
   "cell_type": "code",
   "execution_count": 2,
   "id": "93ebf4d1",
   "metadata": {
    "execution": {
     "iopub.execute_input": "2023-04-17T21:29:27.718888Z",
     "iopub.status.busy": "2023-04-17T21:29:27.718437Z",
     "iopub.status.idle": "2023-04-17T21:29:27.754782Z",
     "shell.execute_reply": "2023-04-17T21:29:27.753600Z"
    },
    "papermill": {
     "duration": 0.04778,
     "end_time": "2023-04-17T21:29:27.757536",
     "exception": false,
     "start_time": "2023-04-17T21:29:27.709756",
     "status": "completed"
    },
    "tags": []
   },
   "outputs": [],
   "source": [
    "df = pd.read_csv(\"../input/geneall-data-filtered/GeneALL_Data_filtered.csv\")"
   ]
  },
  {
   "cell_type": "code",
   "execution_count": 3,
   "id": "dd1e2834",
   "metadata": {
    "execution": {
     "iopub.execute_input": "2023-04-17T21:29:27.775731Z",
     "iopub.status.busy": "2023-04-17T21:29:27.774424Z",
     "iopub.status.idle": "2023-04-17T21:29:27.802517Z",
     "shell.execute_reply": "2023-04-17T21:29:27.800982Z"
    },
    "papermill": {
     "duration": 0.040013,
     "end_time": "2023-04-17T21:29:27.805636",
     "exception": false,
     "start_time": "2023-04-17T21:29:27.765623",
     "status": "completed"
    },
    "tags": []
   },
   "outputs": [],
   "source": [
    "df = pd.read_csv(\"../input/geneall-data-filtered/GeneALL_Data_filtered.csv\").drop([\"Unnamed: 0\",\"Unnamed: 0.1\",\"Unnamed: 0.1.1\",\"ID\"], axis=1)"
   ]
  },
  {
   "cell_type": "code",
   "execution_count": 4,
   "id": "ac7eb144",
   "metadata": {
    "execution": {
     "iopub.execute_input": "2023-04-17T21:29:27.822479Z",
     "iopub.status.busy": "2023-04-17T21:29:27.821732Z",
     "iopub.status.idle": "2023-04-17T21:29:27.834624Z",
     "shell.execute_reply": "2023-04-17T21:29:27.833456Z"
    },
    "papermill": {
     "duration": 0.024533,
     "end_time": "2023-04-17T21:29:27.837387",
     "exception": false,
     "start_time": "2023-04-17T21:29:27.812854",
     "status": "completed"
    },
    "tags": []
   },
   "outputs": [],
   "source": [
    "df['Group'].replace('  ', np.nan, inplace=True)\n",
    "df= df.dropna(subset=['Group'])"
   ]
  },
  {
   "attachments": {},
   "cell_type": "markdown",
   "id": "3323bdf0",
   "metadata": {
    "papermill": {
     "duration": 0.006759,
     "end_time": "2023-04-17T21:29:27.851447",
     "exception": false,
     "start_time": "2023-04-17T21:29:27.844688",
     "status": "completed"
    },
    "tags": []
   },
   "source": [
    "# Encode categorical data "
   ]
  },
  {
   "cell_type": "code",
   "execution_count": 5,
   "id": "d88240eb",
   "metadata": {
    "execution": {
     "iopub.execute_input": "2023-04-17T21:29:27.867917Z",
     "iopub.status.busy": "2023-04-17T21:29:27.867200Z",
     "iopub.status.idle": "2023-04-17T21:29:27.875085Z",
     "shell.execute_reply": "2023-04-17T21:29:27.874065Z"
    },
    "papermill": {
     "duration": 0.019237,
     "end_time": "2023-04-17T21:29:27.877743",
     "exception": false,
     "start_time": "2023-04-17T21:29:27.858506",
     "status": "completed"
    },
    "tags": []
   },
   "outputs": [],
   "source": [
    "#CN 1, AD 0, MCI 2\n",
    "#M 1, F 0\n",
    "label_encoder = LabelEncoder()\n",
    "df[\"Group\"]= label_encoder.fit_transform(df[\"Group\"])\n",
    "df[\"Sex\"]= label_encoder.fit_transform(df[\"Sex\"])"
   ]
  },
  {
   "cell_type": "code",
   "execution_count": 6,
   "id": "f4fa8d2d",
   "metadata": {
    "execution": {
     "iopub.execute_input": "2023-04-17T21:29:27.895483Z",
     "iopub.status.busy": "2023-04-17T21:29:27.894664Z",
     "iopub.status.idle": "2023-04-17T21:29:27.902421Z",
     "shell.execute_reply": "2023-04-17T21:29:27.901362Z"
    },
    "papermill": {
     "duration": 0.019621,
     "end_time": "2023-04-17T21:29:27.905549",
     "exception": false,
     "start_time": "2023-04-17T21:29:27.885928",
     "status": "completed"
    },
    "tags": []
   },
   "outputs": [],
   "source": [
    "features = df.drop('Group',axis=1)\n",
    "label= df.Group"
   ]
  },
  {
   "cell_type": "code",
   "execution_count": 7,
   "id": "96ba0203",
   "metadata": {
    "execution": {
     "iopub.execute_input": "2023-04-17T21:29:27.922308Z",
     "iopub.status.busy": "2023-04-17T21:29:27.921836Z",
     "iopub.status.idle": "2023-04-17T21:29:27.931840Z",
     "shell.execute_reply": "2023-04-17T21:29:27.930729Z"
    },
    "papermill": {
     "duration": 0.021472,
     "end_time": "2023-04-17T21:29:27.934508",
     "exception": false,
     "start_time": "2023-04-17T21:29:27.913036",
     "status": "completed"
    },
    "tags": []
   },
   "outputs": [],
   "source": [
    "x_train,x_test,y_train,y_test = train_test_split(features,label,test_size=0.2,stratify=label,random_state = 42)"
   ]
  },
  {
   "attachments": {},
   "cell_type": "markdown",
   "id": "2bb360bd",
   "metadata": {
    "papermill": {
     "duration": 0.0071,
     "end_time": "2023-04-17T21:29:28.038432",
     "exception": false,
     "start_time": "2023-04-17T21:29:28.031332",
     "status": "completed"
    },
    "tags": []
   },
   "source": [
    "# Class weights "
   ]
  },
  {
   "cell_type": "code",
   "execution_count": 11,
   "id": "46fb2698",
   "metadata": {
    "execution": {
     "iopub.execute_input": "2023-04-17T21:29:28.056213Z",
     "iopub.status.busy": "2023-04-17T21:29:28.055352Z",
     "iopub.status.idle": "2023-04-17T21:29:28.070879Z",
     "shell.execute_reply": "2023-04-17T21:29:28.069760Z"
    },
    "papermill": {
     "duration": 0.027305,
     "end_time": "2023-04-17T21:29:28.073520",
     "exception": false,
     "start_time": "2023-04-17T21:29:28.046215",
     "status": "completed"
    },
    "tags": []
   },
   "outputs": [
    {
     "name": "stdout",
     "output_type": "stream",
     "text": [
      "[1.4468599  1.1745098  0.68613975]\n",
      "{0: 1.4468599033816425, 1: 1.1745098039215687, 2: 0.6861397479954181}\n",
      "[1.4468599  0.68613975 0.68613975 0.68613975 0.68613975 1.1745098\n",
      " 1.1745098  0.68613975 1.1745098  1.4468599  1.1745098  0.68613975\n",
      " 1.1745098  1.1745098  1.4468599  0.68613975 1.4468599  0.68613975\n",
      " 1.1745098  0.68613975 1.4468599  0.68613975 1.4468599  0.68613975\n",
      " 1.1745098  0.68613975 0.68613975 0.68613975 0.68613975 1.4468599\n",
      " 0.68613975 0.68613975 1.1745098  0.68613975 0.68613975 0.68613975\n",
      " 0.68613975 1.1745098  1.1745098  0.68613975 0.68613975 0.68613975\n",
      " 0.68613975 1.1745098  0.68613975 1.4468599  0.68613975 0.68613975\n",
      " 0.68613975 0.68613975 0.68613975 0.68613975 1.1745098  0.68613975\n",
      " 0.68613975 1.1745098  0.68613975 1.1745098  1.4468599  0.68613975\n",
      " 1.4468599  0.68613975 0.68613975 1.1745098  1.1745098  1.4468599\n",
      " 1.4468599  0.68613975 0.68613975 1.4468599  0.68613975 1.4468599\n",
      " 0.68613975 1.1745098  1.1745098  1.4468599  1.1745098  1.1745098\n",
      " 1.4468599  1.4468599  1.1745098  1.4468599  1.1745098  0.68613975\n",
      " 0.68613975 0.68613975 1.4468599  1.1745098  1.1745098  0.68613975\n",
      " 0.68613975 0.68613975 0.68613975 1.1745098  1.1745098  1.4468599\n",
      " 0.68613975 0.68613975 0.68613975 0.68613975 1.4468599  0.68613975\n",
      " 1.1745098  1.1745098  1.4468599  1.1745098  1.4468599  0.68613975\n",
      " 1.4468599  0.68613975 0.68613975 1.1745098  0.68613975 1.4468599\n",
      " 0.68613975 1.4468599  1.4468599  0.68613975 1.4468599  0.68613975\n",
      " 1.1745098  1.4468599  0.68613975 0.68613975 1.1745098  1.4468599\n",
      " 0.68613975 0.68613975 0.68613975 0.68613975 1.1745098  0.68613975\n",
      " 0.68613975 0.68613975 1.4468599  1.1745098  1.1745098  1.4468599\n",
      " 0.68613975 0.68613975 0.68613975 0.68613975 1.1745098  1.4468599\n",
      " 1.4468599  0.68613975 1.1745098  0.68613975 1.4468599  0.68613975\n",
      " 1.1745098  0.68613975 1.4468599  0.68613975 1.1745098  1.1745098\n",
      " 0.68613975 0.68613975 0.68613975 0.68613975 1.4468599  1.4468599\n",
      " 1.1745098  1.4468599  1.1745098  1.1745098  1.1745098  1.4468599\n",
      " 0.68613975 1.1745098  0.68613975 0.68613975 1.4468599  1.1745098\n",
      " 1.1745098  1.1745098  0.68613975 0.68613975 1.1745098  1.1745098\n",
      " 1.4468599  0.68613975 0.68613975 1.4468599  1.4468599  1.1745098\n",
      " 0.68613975 0.68613975 0.68613975 1.1745098  1.1745098  0.68613975\n",
      " 1.4468599  0.68613975 1.1745098  0.68613975 0.68613975 0.68613975\n",
      " 1.4468599  0.68613975 0.68613975 1.4468599  1.4468599  1.4468599\n",
      " 1.1745098  1.4468599  0.68613975 1.1745098  0.68613975 0.68613975\n",
      " 0.68613975 1.1745098  0.68613975 1.1745098  0.68613975 1.4468599\n",
      " 1.1745098  0.68613975 0.68613975 1.1745098  0.68613975 1.1745098\n",
      " 1.1745098  0.68613975 0.68613975 0.68613975 0.68613975 1.4468599\n",
      " 1.1745098  0.68613975 1.1745098  1.4468599  1.1745098  1.1745098\n",
      " 1.1745098  1.4468599  0.68613975 1.1745098  0.68613975 0.68613975\n",
      " 0.68613975 1.1745098  1.1745098  0.68613975 1.4468599  0.68613975\n",
      " 1.1745098  1.4468599  0.68613975 1.1745098  0.68613975 1.4468599\n",
      " 0.68613975 1.4468599  1.1745098  0.68613975 1.4468599  0.68613975\n",
      " 1.1745098  1.1745098  0.68613975 1.1745098  0.68613975 1.1745098\n",
      " 1.1745098  0.68613975 1.1745098  0.68613975 1.1745098  0.68613975\n",
      " 1.4468599  1.1745098  0.68613975 0.68613975 1.4468599  0.68613975\n",
      " 0.68613975 0.68613975 0.68613975 1.1745098  0.68613975 1.4468599\n",
      " 1.1745098  1.1745098  0.68613975 0.68613975 0.68613975 1.1745098\n",
      " 0.68613975 1.4468599  0.68613975 0.68613975 0.68613975 1.1745098\n",
      " 1.1745098  1.1745098  1.4468599  0.68613975 1.1745098  0.68613975\n",
      " 0.68613975 1.1745098  0.68613975 0.68613975 0.68613975 0.68613975\n",
      " 0.68613975 0.68613975 0.68613975 0.68613975 0.68613975 0.68613975\n",
      " 0.68613975 0.68613975 0.68613975 1.1745098  1.1745098  1.4468599\n",
      " 1.4468599  1.4468599  1.1745098  1.1745098  0.68613975 1.4468599\n",
      " 1.1745098  0.68613975 0.68613975 0.68613975 1.1745098  1.4468599\n",
      " 1.4468599  0.68613975 0.68613975 0.68613975 1.1745098  1.1745098\n",
      " 1.1745098  1.1745098  0.68613975 1.1745098  0.68613975 1.1745098\n",
      " 0.68613975 0.68613975 1.4468599  0.68613975 1.1745098  0.68613975\n",
      " 1.4468599  1.4468599  0.68613975 0.68613975 0.68613975 0.68613975\n",
      " 0.68613975 1.1745098  0.68613975 0.68613975 0.68613975 1.1745098\n",
      " 0.68613975 0.68613975 0.68613975 0.68613975 0.68613975 1.4468599\n",
      " 1.4468599  1.1745098  0.68613975 1.1745098  0.68613975 1.1745098\n",
      " 1.4468599  1.1745098  1.1745098  1.1745098  0.68613975 0.68613975\n",
      " 1.1745098  1.1745098  1.4468599  0.68613975 1.1745098  1.4468599\n",
      " 1.4468599  0.68613975 1.1745098  1.4468599  1.4468599  1.1745098\n",
      " 0.68613975 1.1745098  0.68613975 0.68613975 0.68613975 0.68613975\n",
      " 0.68613975 1.1745098  0.68613975 0.68613975 1.1745098  0.68613975\n",
      " 1.1745098  1.4468599  1.4468599  0.68613975 0.68613975 1.4468599\n",
      " 0.68613975 0.68613975 0.68613975 1.1745098  0.68613975 0.68613975\n",
      " 1.1745098  0.68613975 1.4468599  0.68613975 1.4468599  1.4468599\n",
      " 1.1745098  0.68613975 1.1745098  1.4468599  0.68613975 1.1745098\n",
      " 0.68613975 0.68613975 0.68613975 0.68613975 0.68613975 1.4468599\n",
      " 1.4468599  1.4468599  1.1745098  1.1745098  1.1745098  0.68613975\n",
      " 1.1745098  0.68613975 0.68613975 0.68613975 0.68613975 0.68613975\n",
      " 0.68613975 1.1745098  0.68613975 1.1745098  1.1745098  1.4468599\n",
      " 1.4468599  0.68613975 1.4468599  1.4468599  0.68613975 0.68613975\n",
      " 0.68613975 1.1745098  0.68613975 1.4468599  0.68613975 1.1745098\n",
      " 0.68613975 1.1745098  1.4468599  0.68613975 1.4468599  0.68613975\n",
      " 1.4468599  0.68613975 1.1745098  1.4468599  1.1745098  1.4468599\n",
      " 1.1745098  0.68613975 0.68613975 1.4468599  1.1745098  1.1745098\n",
      " 0.68613975 1.4468599  1.1745098  0.68613975 0.68613975 1.4468599\n",
      " 0.68613975 1.1745098  1.4468599  0.68613975 1.1745098  1.1745098\n",
      " 1.1745098  0.68613975 0.68613975 0.68613975 1.1745098  0.68613975\n",
      " 0.68613975 1.4468599  1.4468599  0.68613975 0.68613975 1.1745098\n",
      " 1.4468599  0.68613975 0.68613975 0.68613975 1.1745098  0.68613975\n",
      " 0.68613975 1.4468599  0.68613975 0.68613975 0.68613975 1.1745098\n",
      " 1.4468599  1.1745098  1.4468599  0.68613975 1.4468599  1.4468599\n",
      " 0.68613975 1.4468599  1.1745098  1.1745098  1.4468599  1.4468599\n",
      " 0.68613975 1.4468599  1.4468599  1.4468599  0.68613975 0.68613975\n",
      " 1.1745098  0.68613975 0.68613975 0.68613975 0.68613975 1.4468599\n",
      " 0.68613975 1.4468599  1.4468599  1.4468599  0.68613975 1.1745098\n",
      " 1.1745098  0.68613975 0.68613975 0.68613975 1.4468599  1.1745098\n",
      " 1.4468599  1.4468599  1.4468599  1.1745098  0.68613975 1.4468599\n",
      " 0.68613975 1.4468599  0.68613975 0.68613975 0.68613975 1.1745098\n",
      " 1.4468599  1.4468599  1.4468599  0.68613975 1.4468599  0.68613975\n",
      " 0.68613975 0.68613975 1.1745098  1.1745098  1.1745098  0.68613975\n",
      " 0.68613975 0.68613975 1.4468599  0.68613975 0.68613975 1.4468599\n",
      " 0.68613975 1.4468599  0.68613975 1.1745098  1.1745098  1.1745098\n",
      " 0.68613975 0.68613975 1.1745098  1.4468599  1.1745098  1.1745098\n",
      " 1.4468599  0.68613975 1.1745098  1.1745098  0.68613975]\n"
     ]
    }
   ],
   "source": [
    "class_weights = class_weight.compute_class_weight(class_weight = 'balanced',\n",
    "                                                 classes = np.unique(y_train),\n",
    "                                                 y = y_train)\n",
    "print(class_weights)\n",
    "class_weights_dict = {0: class_weights[0], 1: class_weights[1], 2: class_weights[2]}\n",
    "print(class_weights_dict)\n",
    "\n",
    "class_weights_1 = class_weight.compute_sample_weight(class_weight = 'balanced' , y = np.array(y_train))\n",
    "print(class_weights_1)\n",
    "\n",
    "# # # class_weights_dict = {0: 2, 1: 2, 2: 1}\n"
   ]
  },
  {
   "attachments": {},
   "cell_type": "markdown",
   "id": "86e0d625",
   "metadata": {
    "papermill": {
     "duration": 0.007422,
     "end_time": "2023-04-17T21:29:28.088773",
     "exception": false,
     "start_time": "2023-04-17T21:29:28.081351",
     "status": "completed"
    },
    "tags": []
   },
   "source": [
    "# GBTrees classifier "
   ]
  },
  {
   "cell_type": "code",
   "execution_count": 12,
   "id": "d222adc3",
   "metadata": {
    "execution": {
     "iopub.execute_input": "2023-04-17T21:29:28.108269Z",
     "iopub.status.busy": "2023-04-17T21:29:28.106902Z",
     "iopub.status.idle": "2023-04-18T04:43:13.152990Z",
     "shell.execute_reply": "2023-04-18T04:43:13.151279Z"
    },
    "papermill": {
     "duration": 26025.05851,
     "end_time": "2023-04-18T04:43:13.155980",
     "exception": false,
     "start_time": "2023-04-17T21:29:28.097470",
     "status": "completed"
    },
    "tags": []
   },
   "outputs": [
    {
     "name": "stdout",
     "output_type": "stream",
     "text": [
      "The best score found is: 0.48912429378531075\n",
      "best learning rate: 0.3\n",
      "The best N estimators is: 100\n",
      "The best Criterion is: friedman_mse\n",
      "The best Min sample split is: 4\n",
      "The best Min sample Leaf is: 1\n",
      "The best Max Depth is: 9\n",
      "Cross val score :  [0.4        0.45       0.46666667 0.43333333 0.56666667 0.48333333\n",
      " 0.45       0.5        0.36666667 0.37288136]\n",
      "accuracy is :  44.89548022598869\n"
     ]
    }
   ],
   "source": [
    "GBTkfold = StratifiedKFold(n_splits=10,shuffle=True,random_state=42)\n",
    "hyperparameters = {\"learning_rate\" : [0.1, 0.2, 0.3], \"n_estimators\" : [100,300,500,700,900], \"criterion\" : ['friedman_mse', 'squared_error'], \"min_samples_split\" : [2,4,6,8,10],\"min_samples_leaf\": [1,2,3], \"max_depth\": [3, 6, 9,12]}\n",
    "\n",
    "bestModelFound = GridSearchCV(GradientBoostingClassifier(random_state=42),hyperparameters,scoring='accuracy',cv=GBTkfold,n_jobs=-1)\n",
    "bestModelFound.fit(x_train,y_train, sample_weight = class_weights_1)\n",
    "print(\"The best score found is:\",bestModelFound.best_score_)\n",
    "\n",
    "best_learning_rate= bestModelFound.best_params_.get(\"learning_rate\")\n",
    "print(\"best learning rate:\",best_learning_rate)\n",
    "\n",
    "bestNestimators = bestModelFound.best_params_.get(\"n_estimators\")\n",
    "print(\"The best N estimators is:\",bestNestimators)\n",
    "\n",
    "bestCriterion = bestModelFound.best_params_.get(\"criterion\")\n",
    "print(\"The best Criterion is:\",bestCriterion)\n",
    "\n",
    "bestMinSampleSplit = bestModelFound.best_params_.get(\"min_samples_split\")\n",
    "print(\"The best Min sample split is:\",bestMinSampleSplit)\n",
    "                                            \n",
    "bestMinSampleLeaf = bestModelFound.best_params_.get(\"min_samples_leaf\")\n",
    "print(\"The best Min sample Leaf is:\",bestMinSampleLeaf)\n",
    "                                            \n",
    "bestMaxDepth = bestModelFound.best_params_.get(\"max_depth\")\n",
    "print(\"The best Max Depth is:\",bestMaxDepth)\n",
    "\n",
    "results = cross_val_score(GradientBoostingClassifier(n_estimators=bestNestimators, learning_rate=best_learning_rate, max_depth=bestMaxDepth,criterion=bestCriterion,min_samples_split=bestMinSampleSplit, min_samples_leaf=bestMinSampleLeaf, random_state=42), x_train, y_train, cv = GBTkfold)\n",
    "print(\"Cross val score : \", results)\n",
    "print(\"accuracy is : \", results.mean()*100)"
   ]
  },
  {
   "cell_type": "code",
   "execution_count": 13,
   "id": "435ecbba",
   "metadata": {
    "execution": {
     "iopub.execute_input": "2023-04-18T04:43:13.175466Z",
     "iopub.status.busy": "2023-04-18T04:43:13.174733Z",
     "iopub.status.idle": "2023-04-18T04:43:13.181992Z",
     "shell.execute_reply": "2023-04-18T04:43:13.180457Z"
    },
    "papermill": {
     "duration": 0.019912,
     "end_time": "2023-04-18T04:43:13.184535",
     "exception": false,
     "start_time": "2023-04-18T04:43:13.164623",
     "status": "completed"
    },
    "tags": []
   },
   "outputs": [],
   "source": [
    "gbt = GradientBoostingClassifier(n_estimators=bestNestimators, learning_rate=best_learning_rate, max_depth=bestMaxDepth,criterion=bestCriterion,min_samples_split=bestMinSampleSplit, min_samples_leaf=bestMinSampleLeaf, random_state=42)"
   ]
  },
  {
   "cell_type": "code",
   "execution_count": 14,
   "id": "05f0075b",
   "metadata": {
    "execution": {
     "iopub.execute_input": "2023-04-18T04:43:13.203493Z",
     "iopub.status.busy": "2023-04-18T04:43:13.202624Z",
     "iopub.status.idle": "2023-04-18T04:43:15.425732Z",
     "shell.execute_reply": "2023-04-18T04:43:15.424132Z"
    },
    "papermill": {
     "duration": 2.235734,
     "end_time": "2023-04-18T04:43:15.428924",
     "exception": false,
     "start_time": "2023-04-18T04:43:13.193190",
     "status": "completed"
    },
    "tags": []
   },
   "outputs": [
    {
     "data": {
      "text/plain": [
       "GradientBoostingClassifier(learning_rate=0.3, max_depth=9, min_samples_split=4,\n",
       "                           random_state=42)"
      ]
     },
     "execution_count": 14,
     "metadata": {},
     "output_type": "execute_result"
    }
   ],
   "source": [
    "gbt.fit(x_train, y_train, sample_weight = class_weights_1 )"
   ]
  },
  {
   "cell_type": "code",
   "execution_count": 15,
   "id": "ebfc501f",
   "metadata": {
    "execution": {
     "iopub.execute_input": "2023-04-18T04:43:15.449419Z",
     "iopub.status.busy": "2023-04-18T04:43:15.448931Z",
     "iopub.status.idle": "2023-04-18T04:43:15.462254Z",
     "shell.execute_reply": "2023-04-18T04:43:15.460886Z"
    },
    "papermill": {
     "duration": 0.026407,
     "end_time": "2023-04-18T04:43:15.465285",
     "exception": false,
     "start_time": "2023-04-18T04:43:15.438878",
     "status": "completed"
    },
    "tags": []
   },
   "outputs": [],
   "source": [
    "gbt_predict = gbt.predict(x_test)"
   ]
  },
  {
   "attachments": {},
   "cell_type": "markdown",
   "id": "be59daf3",
   "metadata": {
    "papermill": {
     "duration": 0.009495,
     "end_time": "2023-04-18T04:43:15.483101",
     "exception": false,
     "start_time": "2023-04-18T04:43:15.473606",
     "status": "completed"
    },
    "tags": []
   },
   "source": [
    "# Random Forest "
   ]
  },
  {
   "cell_type": "code",
   "execution_count": 16,
   "id": "99f4b341",
   "metadata": {
    "execution": {
     "iopub.execute_input": "2023-04-18T04:43:15.504306Z",
     "iopub.status.busy": "2023-04-18T04:43:15.503829Z",
     "iopub.status.idle": "2023-04-18T04:43:15.511064Z",
     "shell.execute_reply": "2023-04-18T04:43:15.509406Z"
    },
    "papermill": {
     "duration": 0.021934,
     "end_time": "2023-04-18T04:43:15.514009",
     "exception": false,
     "start_time": "2023-04-18T04:43:15.492075",
     "status": "completed"
    },
    "tags": []
   },
   "outputs": [],
   "source": [
    "RF = RandomForestClassifier(n_estimators = 300, criterion = \"gini\", max_depth = 20, max_features = \"auto\", min_samples_split = 3, min_samples_leaf = 2, random_state = 42, class_weight = class_weights_dict)"
   ]
  },
  {
   "cell_type": "code",
   "execution_count": 17,
   "id": "a638834b",
   "metadata": {
    "execution": {
     "iopub.execute_input": "2023-04-18T04:43:15.533655Z",
     "iopub.status.busy": "2023-04-18T04:43:15.533226Z",
     "iopub.status.idle": "2023-04-18T04:43:16.172362Z",
     "shell.execute_reply": "2023-04-18T04:43:16.171221Z"
    },
    "papermill": {
     "duration": 0.652598,
     "end_time": "2023-04-18T04:43:16.175114",
     "exception": false,
     "start_time": "2023-04-18T04:43:15.522516",
     "status": "completed"
    },
    "tags": []
   },
   "outputs": [
    {
     "data": {
      "text/plain": [
       "RandomForestClassifier(class_weight={0: 1.4468599033816425,\n",
       "                                     1: 1.1745098039215687,\n",
       "                                     2: 0.6861397479954181},\n",
       "                       max_depth=20, min_samples_leaf=2, min_samples_split=3,\n",
       "                       n_estimators=300, random_state=42)"
      ]
     },
     "execution_count": 17,
     "metadata": {},
     "output_type": "execute_result"
    }
   ],
   "source": [
    "RF.fit(x_train, y_train)"
   ]
  },
  {
   "cell_type": "code",
   "execution_count": 18,
   "id": "4bca3d3c",
   "metadata": {
    "execution": {
     "iopub.execute_input": "2023-04-18T04:43:16.193879Z",
     "iopub.status.busy": "2023-04-18T04:43:16.193444Z",
     "iopub.status.idle": "2023-04-18T04:43:16.250040Z",
     "shell.execute_reply": "2023-04-18T04:43:16.248551Z"
    },
    "papermill": {
     "duration": 0.069057,
     "end_time": "2023-04-18T04:43:16.252725",
     "exception": false,
     "start_time": "2023-04-18T04:43:16.183668",
     "status": "completed"
    },
    "tags": []
   },
   "outputs": [],
   "source": [
    "RF_predict = RF.predict(x_test)"
   ]
  },
  {
   "attachments": {},
   "cell_type": "markdown",
   "id": "6f80885a",
   "metadata": {
    "papermill": {
     "duration": 0.012349,
     "end_time": "2023-04-18T04:43:16.275382",
     "exception": false,
     "start_time": "2023-04-18T04:43:16.263033",
     "status": "completed"
    },
    "tags": []
   },
   "source": [
    "# XGBoost "
   ]
  },
  {
   "cell_type": "code",
   "execution_count": 19,
   "id": "a4fd1c63",
   "metadata": {
    "execution": {
     "iopub.execute_input": "2023-04-18T04:43:16.298372Z",
     "iopub.status.busy": "2023-04-18T04:43:16.297881Z",
     "iopub.status.idle": "2023-04-18T04:43:16.304935Z",
     "shell.execute_reply": "2023-04-18T04:43:16.303530Z"
    },
    "papermill": {
     "duration": 0.020735,
     "end_time": "2023-04-18T04:43:16.308088",
     "exception": false,
     "start_time": "2023-04-18T04:43:16.287353",
     "status": "completed"
    },
    "tags": []
   },
   "outputs": [],
   "source": [
    "xb = xgb.XGBClassifier(min_child_weight = 3, gamma= 0, max_depth = 5, subsample = 1, random_state=42)"
   ]
  },
  {
   "cell_type": "code",
   "execution_count": 20,
   "id": "26b27554",
   "metadata": {
    "execution": {
     "iopub.execute_input": "2023-04-18T04:43:16.331606Z",
     "iopub.status.busy": "2023-04-18T04:43:16.331196Z",
     "iopub.status.idle": "2023-04-18T04:43:17.052209Z",
     "shell.execute_reply": "2023-04-18T04:43:17.050832Z"
    },
    "papermill": {
     "duration": 0.733754,
     "end_time": "2023-04-18T04:43:17.054762",
     "exception": false,
     "start_time": "2023-04-18T04:43:16.321008",
     "status": "completed"
    },
    "tags": []
   },
   "outputs": [
    {
     "data": {
      "text/plain": [
       "XGBClassifier(base_score=0.5, booster='gbtree', callbacks=None,\n",
       "              colsample_bylevel=1, colsample_bynode=1, colsample_bytree=1,\n",
       "              early_stopping_rounds=None, enable_categorical=False,\n",
       "              eval_metric=None, gamma=0, gpu_id=-1, grow_policy='depthwise',\n",
       "              importance_type=None, interaction_constraints='',\n",
       "              learning_rate=0.300000012, max_bin=256, max_cat_to_onehot=4,\n",
       "              max_delta_step=0, max_depth=5, max_leaves=0, min_child_weight=3,\n",
       "              missing=nan, monotone_constraints='()', n_estimators=100,\n",
       "              n_jobs=0, num_parallel_tree=1, objective='multi:softprob',\n",
       "              predictor='auto', random_state=42, reg_alpha=0, ...)"
      ]
     },
     "execution_count": 20,
     "metadata": {},
     "output_type": "execute_result"
    }
   ],
   "source": [
    "xb.fit(x_train, y_train, sample_weight = class_weights_1 )"
   ]
  },
  {
   "cell_type": "code",
   "execution_count": 21,
   "id": "4fd23239",
   "metadata": {
    "execution": {
     "iopub.execute_input": "2023-04-18T04:43:17.075040Z",
     "iopub.status.busy": "2023-04-18T04:43:17.073678Z",
     "iopub.status.idle": "2023-04-18T04:43:17.090530Z",
     "shell.execute_reply": "2023-04-18T04:43:17.089408Z"
    },
    "papermill": {
     "duration": 0.029966,
     "end_time": "2023-04-18T04:43:17.093545",
     "exception": false,
     "start_time": "2023-04-18T04:43:17.063579",
     "status": "completed"
    },
    "tags": []
   },
   "outputs": [],
   "source": [
    "xb_predict = xb.predict(x_test)"
   ]
  },
  {
   "attachments": {},
   "cell_type": "markdown",
   "id": "b161add6",
   "metadata": {
    "papermill": {
     "duration": 0.009034,
     "end_time": "2023-04-18T04:43:17.112262",
     "exception": false,
     "start_time": "2023-04-18T04:43:17.103228",
     "status": "completed"
    },
    "tags": []
   },
   "source": [
    "# compare predictions "
   ]
  },
  {
   "cell_type": "code",
   "execution_count": 22,
   "id": "92e19c4e",
   "metadata": {
    "execution": {
     "iopub.execute_input": "2023-04-18T04:43:17.131586Z",
     "iopub.status.busy": "2023-04-18T04:43:17.131140Z",
     "iopub.status.idle": "2023-04-18T04:43:18.187662Z",
     "shell.execute_reply": "2023-04-18T04:43:18.186296Z"
    },
    "papermill": {
     "duration": 1.069525,
     "end_time": "2023-04-18T04:43:18.190511",
     "exception": false,
     "start_time": "2023-04-18T04:43:17.120986",
     "status": "completed"
    },
    "tags": []
   },
   "outputs": [
    {
     "name": "stdout",
     "output_type": "stream",
     "text": [
      "[2 0 2 2 1 0 1 2 2 0 2 1 0 1 0 2 2 2 2 2 1 2 2 1 1 1 2 1 1 2 1 1 2 2 2 0 0\n",
      " 0 1 1 2 2 1 0 1 1 2 2 1 1 1 0 0 2 2 1 0 2 2 2 2 0 2 0 2 0 2 2 2 2 1 1 0 1\n",
      " 1 0 0 2 2 2 0 2 2 2 2 1 0 2 2 0 0 2 2 2 0 2 1 0 0 0 2 2 0 1 0 2 2 2 2 1 1\n",
      " 2 2 2 2 0 2 0 2 2 2 1 2 1 2 1 1 1 2 1 1 2 0 0 2 2 2 2 0 1 0 1 2 1 2 0 1 1\n",
      " 2 2]\n",
      "GBT PREDICT: [1 2 2 0 2 1 2 0 2 2 2 1 1 2 2 1 2 0 2 2 1 1 2 1 2 1 2 2 2 2 1 0 1 2 2 2 1\n",
      " 1 1 2 1 1 1 1 2 1 2 0 1 2 2 2 2 0 2 2 2 2 2 1 2 0 2 0 1 1 2 0 1 2 2 2 2 1\n",
      " 1 0 2 2 2 1 2 1 1 2 0 2 0 0 1 2 0 2 1 2 0 2 2 2 2 2 0 1 2 2 2 1 2 0 2 1 1\n",
      " 0 2 2 1 1 2 0 2 2 1 2 1 1 1 2 0 2 2 1 1 0 2 0 2 1 2 1 2 0 2 2 2 1 1 2 1 2\n",
      " 2 1]\n",
      "accruracy score is :  0.42\n",
      "RF PREDICT: [2 2 2 2 2 2 2 0 2 2 2 1 1 2 2 1 2 0 2 2 0 1 2 1 2 0 2 2 2 2 1 0 2 2 2 2 1\n",
      " 0 1 1 1 2 2 1 2 0 2 2 1 2 1 2 2 0 2 1 2 2 1 2 1 0 2 0 1 1 2 2 1 2 2 2 0 2\n",
      " 1 0 2 2 2 1 0 2 1 2 0 2 2 2 2 0 2 2 2 2 0 2 1 2 1 2 2 2 1 2 1 2 2 0 2 2 2\n",
      " 2 2 1 1 1 2 2 2 2 2 2 2 2 1 2 1 2 0 1 1 2 2 0 2 1 2 1 2 0 2 2 2 1 1 2 1 0\n",
      " 1 1]\n",
      "accruracy score is :  0.49333333333333335\n",
      "XGB PREDICT: [1 2 2 2 2 2 2 0 2 2 2 1 1 0 2 1 2 0 2 2 1 1 2 1 2 1 2 2 2 2 1 0 1 2 0 2 1\n",
      " 1 1 2 1 1 1 1 2 0 2 2 1 2 1 2 2 2 2 2 2 2 2 1 1 0 2 0 1 1 2 2 1 2 2 2 0 1\n",
      " 1 0 2 2 2 1 0 1 0 2 0 2 2 2 1 1 2 2 1 2 0 2 1 1 1 2 2 1 2 2 1 2 2 0 2 2 0\n",
      " 0 2 0 0 1 2 2 2 2 1 2 0 1 1 2 0 2 0 1 1 0 2 1 1 1 2 1 2 0 2 2 1 1 1 0 1 2\n",
      " 2 1]\n",
      "accruracy score is :  0.41333333333333333\n"
     ]
    },
    {
     "data": {
      "image/png": "[encoded data removed]",
      "text/plain": [
       "<Figure size 640x480 with 2 Axes>"
      ]
     },
     "metadata": {},
     "output_type": "display_data"
    },
    {
     "data": {
      "image/png": "[encoded data removed]",
      "text/plain": [
       "<Figure size 640x480 with 2 Axes>"
      ]
     },
     "metadata": {},
     "output_type": "display_data"
    },
    {
     "data": {
      "image/png": "[encoded data removed]",
      "text/plain": [
       "<Figure size 640x480 with 2 Axes>"
      ]
     },
     "metadata": {},
     "output_type": "display_data"
    }
   ],
   "source": [
    "print(np.array(y_test))\n",
    "print(\"GBT PREDICT:\", gbt_predict)\n",
    "print(\"accruracy score is : \" , accuracy_score(np.array(y_test), gbt_predict)) \n",
    "\n",
    "\n",
    "print(\"RF PREDICT:\", RF_predict)\n",
    "print(\"accruracy score is : \" , accuracy_score(np.array(y_test), RF_predict)) \n",
    "\n",
    "\n",
    "print(\"XGB PREDICT:\", xb_predict)\n",
    "print(\"accruracy score is : \" , accuracy_score(np.array(y_test), xb_predict)) \n",
    "\n",
    "\n",
    "label_name=[\"AD\",\"CN\",\"MCI\"]\n",
    "ConfusionMatrix = confusion_matrix(np.array(y_test),np.array(gbt_predict))\n",
    "sns.heatmap(ConfusionMatrix, annot=True, fmt=\"d\", cmap=\"Greens\", xticklabels=label_name, yticklabels=label_name)\n",
    "plt.title(\"GBTrees Confusion Matrix\\n\")\n",
    "plt.ylabel('Actual')\n",
    "plt.xlabel('Predicted')\n",
    "plt.show()\n",
    "\n",
    "\n",
    "label_name=[\"AD\",\"CN\",\"MCI\"]\n",
    "ConfusionMatrix = confusion_matrix(np.array(y_test),np.array(RF_predict))\n",
    "sns.heatmap(ConfusionMatrix, annot=True, fmt=\"d\", cmap=\"Greens\", xticklabels=label_name, yticklabels=label_name)\n",
    "plt.title(\"RF Confusion Matrix\\n\")\n",
    "plt.ylabel('Actual')\n",
    "plt.xlabel('Predicted')\n",
    "plt.show()\n",
    "\n",
    "\n",
    "label_name=[\"AD\",\"CN\",\"MCI\"]\n",
    "ConfusionMatrix = confusion_matrix(np.array(y_test),np.array(xb_predict))\n",
    "sns.heatmap(ConfusionMatrix, annot=True, fmt=\"d\", cmap=\"Greens\", xticklabels=label_name, yticklabels=label_name)\n",
    "plt.title(\"XGB Confusion Matrix\\n\")\n",
    "plt.ylabel('Actual')\n",
    "plt.xlabel('Predicted')\n",
    "plt.show()"
   ]
  },
  {
   "attachments": {},
   "cell_type": "markdown",
   "id": "e64eaa9e",
   "metadata": {
    "papermill": {
     "duration": 0.010725,
     "end_time": "2023-04-18T04:43:18.212873",
     "exception": false,
     "start_time": "2023-04-18T04:43:18.202148",
     "status": "completed"
    },
    "tags": []
   },
   "source": [
    "# 3 classifiers Voting "
   ]
  },
  {
   "cell_type": "code",
   "execution_count": 23,
   "id": "327bc399",
   "metadata": {
    "execution": {
     "iopub.execute_input": "2023-04-18T04:43:18.238190Z",
     "iopub.status.busy": "2023-04-18T04:43:18.236928Z",
     "iopub.status.idle": "2023-04-18T04:43:18.253745Z",
     "shell.execute_reply": "2023-04-18T04:43:18.251784Z"
    },
    "papermill": {
     "duration": 0.032434,
     "end_time": "2023-04-18T04:43:18.256366",
     "exception": false,
     "start_time": "2023-04-18T04:43:18.223932",
     "status": "completed"
    },
    "tags": []
   },
   "outputs": [
    {
     "name": "stdout",
     "output_type": "stream",
     "text": [
      "The predicted labels of the combined models are: [1, 2, 2, 2, 2, 2, 2, 0, 2, 2, 2, 1, 1, 2, 2, 1, 2, 0, 2, 2, 1, 1, 2, 1, 2, 1, 2, 2, 2, 2, 1, 0, 1, 2, 2, 2, 1, 1, 1, 2, 1, 1, 1, 1, 2, 0, 2, 2, 1, 2, 1, 2, 2, 0, 2, 2, 2, 2, 2, 1, 1, 0, 2, 0, 1, 1, 2, 2, 1, 2, 2, 2, 0, 1, 1, 0, 2, 2, 2, 1, 0, 1, 1, 2, 0, 2, 2, 2, 1, 0, 2, 2, 1, 2, 0, 2, 1, 2, 1, 2, 2, 1, 2, 2, 1, 2, 2, 0, 2, 2, 0, 0, 2, 0, 1, 1, 2, 2, 2, 2, 1, 2, 0, 1, 1, 2, 0, 2, 0, 1, 1, 0, 2, 0, 2, 1, 2, 1, 2, 0, 2, 2, 2, 1, 1, 2, 1, 2, 2, 1]\n",
      "The accuracy score of the combined models is 43.333333333333336\n"
     ]
    }
   ],
   "source": [
    "predict_voting = []\n",
    "for i in range (len(gbt_predict)): \n",
    "    voting_list =[0, 0, 0]\n",
    "    if gbt_predict[i] == 0:\n",
    "         voting_list[0] += 1\n",
    "    elif gbt_predict[i] == 1:\n",
    "         voting_list[1] += 1\n",
    "    elif gbt_predict[i] == 2:\n",
    "         voting_list[2] += 1\n",
    "            \n",
    "    if RF_predict[i] == 0:\n",
    "         voting_list[0] += 1\n",
    "    elif RF_predict[i] == 1:\n",
    "         voting_list[1] += 1\n",
    "    elif RF_predict[i] == 2:\n",
    "         voting_list[2] += 1\n",
    "            \n",
    "    if xb_predict[i] == 0:\n",
    "         voting_list[0] += 1\n",
    "    elif xb_predict[i] == 1:\n",
    "         voting_list[1] += 1\n",
    "    elif xb_predict[i] == 2:\n",
    "         voting_list[2] += 1\n",
    "            \n",
    "    predict_voting.append(np.argmax(voting_list))\n",
    "    \n",
    "\n",
    "print(\"The predicted labels of the combined models are:\",predict_voting)\n",
    "print(\"The accuracy score of the combined models is\",accuracy_score(np.array(y_test),np.array(predict_voting))*100)"
   ]
  },
  {
   "attachments": {},
   "cell_type": "markdown",
   "id": "61fe7265",
   "metadata": {
    "papermill": {
     "duration": 0.010819,
     "end_time": "2023-04-18T04:43:18.278209",
     "exception": false,
     "start_time": "2023-04-18T04:43:18.267390",
     "status": "completed"
    },
    "tags": []
   },
   "source": [
    "# Confusion matrix "
   ]
  },
  {
   "cell_type": "code",
   "execution_count": 24,
   "id": "3564e741",
   "metadata": {
    "execution": {
     "iopub.execute_input": "2023-04-18T04:43:18.303195Z",
     "iopub.status.busy": "2023-04-18T04:43:18.301473Z",
     "iopub.status.idle": "2023-04-18T04:43:18.588531Z",
     "shell.execute_reply": "2023-04-18T04:43:18.587127Z"
    },
    "papermill": {
     "duration": 0.3023,
     "end_time": "2023-04-18T04:43:18.591568",
     "exception": false,
     "start_time": "2023-04-18T04:43:18.289268",
     "status": "completed"
    },
    "tags": []
   },
   "outputs": [
    {
     "data": {
      "image/png": "[encoded data removed]",
      "text/plain": [
       "<Figure size 640x480 with 2 Axes>"
      ]
     },
     "metadata": {},
     "output_type": "display_data"
    }
   ],
   "source": [
    "label_name=[\"AD\",\"CN\",\"MCI\"]\n",
    "ConfusionMatrix = confusion_matrix(np.array(y_test),np.array(predict_voting))\n",
    "sns.heatmap(ConfusionMatrix, annot=True, fmt=\"d\", cmap=\"Greens\", xticklabels=label_name, yticklabels=label_name)\n",
    "plt.title(\"Combined Models Confusion Matrix\\n\")\n",
    "plt.ylabel('Actual')\n",
    "plt.xlabel('Predicted')\n",
    "plt.show()"
   ]
  },
  {
   "attachments": {},
   "cell_type": "markdown",
   "id": "2384fc2c",
   "metadata": {
    "papermill": {
     "duration": 0.012441,
     "end_time": "2023-04-18T04:43:18.616021",
     "exception": false,
     "start_time": "2023-04-18T04:43:18.603580",
     "status": "completed"
    },
    "tags": []
   },
   "source": [
    "# Classification report "
   ]
  },
  {
   "cell_type": "code",
   "execution_count": 25,
   "id": "b1673ba5",
   "metadata": {
    "execution": {
     "iopub.execute_input": "2023-04-18T04:43:18.642889Z",
     "iopub.status.busy": "2023-04-18T04:43:18.641888Z",
     "iopub.status.idle": "2023-04-18T04:43:18.655809Z",
     "shell.execute_reply": "2023-04-18T04:43:18.653722Z"
    },
    "papermill": {
     "duration": 0.02925,
     "end_time": "2023-04-18T04:43:18.658498",
     "exception": false,
     "start_time": "2023-04-18T04:43:18.629248",
     "status": "completed"
    },
    "tags": []
   },
   "outputs": [
    {
     "name": "stdout",
     "output_type": "stream",
     "text": [
      "Classification Report of the Combined Models\n",
      "\n",
      "              precision    recall  f1-score   support\n",
      "\n",
      "          AD       0.35      0.23      0.28        35\n",
      "          CN       0.35      0.40      0.38        42\n",
      "         MCI       0.51      0.55      0.53        73\n",
      "\n",
      "    accuracy                           0.43       150\n",
      "   macro avg       0.40      0.39      0.39       150\n",
      "weighted avg       0.43      0.43      0.43       150\n",
      "\n"
     ]
    }
   ],
   "source": [
    "print(\"Classification Report of the Combined Models\\n\")\n",
    "print(classification_report(np.array(y_test),np.array(predict_voting), target_names=[\"AD\",\"CN\",\"MCI\"]))"
   ]
  }
 ],
 "metadata": {
  "kernelspec": {
   "display_name": "Python 3",
   "language": "python",
   "name": "python3"
  },
  "language_info": {
   "codemirror_mode": {
    "name": "ipython",
    "version": 3
   },
   "file_extension": ".py",
   "mimetype": "text/x-python",
   "name": "python",
   "nbconvert_exporter": "python",
   "pygments_lexer": "ipython3",
   "version": "3.7.12"
  },
  "papermill": {
   "default_parameters": {},
   "duration": 26049.236427,
   "end_time": "2023-04-18T04:43:21.359803",
   "environment_variables": {},
   "exception": null,
   "input_path": "__notebook__.ipynb",
   "output_path": "__notebook__.ipynb",
   "parameters": {},
   "start_time": "2023-04-17T21:29:12.123376",
   "version": "2.4.0"
  }
 },
 "nbformat": 4,
 "nbformat_minor": 5
}
